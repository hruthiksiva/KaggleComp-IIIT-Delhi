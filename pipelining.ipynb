{
  "nbformat": 4,
  "nbformat_minor": 0,
  "metadata": {
    "colab": {
      "name": "Untitled0.ipynb",
      "provenance": [],
      "authorship_tag": "ABX9TyM3aQUvsR0qm6BbD1m+Rmaq",
      "include_colab_link": true
    },
    "kernelspec": {
      "name": "python3",
      "display_name": "Python 3"
    }
  },
  "cells": [
    {
      "cell_type": "markdown",
      "metadata": {
        "id": "view-in-github",
        "colab_type": "text"
      },
      "source": [
        "<a href=\"https://colab.research.google.com/github/hruthiksiva/KaggleComp-IIIT-Delhi/blob/main/pipelining.ipynb\" target=\"_parent\"><img src=\"https://colab.research.google.com/assets/colab-badge.svg\" alt=\"Open In Colab\"/></a>"
      ]
    },
    {
      "cell_type": "markdown",
      "metadata": {
        "id": "JadKB6dfZpgi"
      },
      "source": [
        "# **Import**"
      ]
    },
    {
      "cell_type": "code",
      "metadata": {
        "id": "SQHOWW2uZmcp"
      },
      "source": [
        "import tensorflow as tf\n",
        "from tensorflow import keras\n",
        "from keras.models import Sequential\n",
        "from keras.layers import Dense, Activation, Dropout\n",
        "from keras.preprocessing import text, sequence\n",
        "from keras import utils\n",
        "from keras.utils import to_categorical\n",
        "\n",
        "import pandas as pd\n",
        "import numpy as np\n",
        "import random\n",
        "import re\n",
        "import time \n",
        "import scipy\n",
        "\n",
        "from sklearn.model_selection import train_test_split\n",
        "from sklearn.feature_extraction.text import CountVectorizer,TfidfTransformer\n",
        "from sklearn import metrics\n",
        "import matplotlib.pyplot as plt\n",
        "from sklearn.metrics import classification_report,accuracy_score\n",
        "from sklearn.preprocessing import LabelEncoder"
      ],
      "execution_count": 24,
      "outputs": []
    },
    {
      "cell_type": "code",
      "metadata": {
        "id": "nO4DREocZ8q8"
      },
      "source": [
        "train= pd.read_csv('cleaned_train.csv')\n",
        "test= pd.read_csv('uzutest.csv')"
      ],
      "execution_count": 25,
      "outputs": []
    },
    {
      "cell_type": "code",
      "metadata": {
        "id": "B7HzDBfJcr8S"
      },
      "source": [
        "X_train,X_test,Y_train,Y_test = train_test_split(train['content'],train[\"o-type\"],test_size=0.3,random_state=2020,shuffle=True)"
      ],
      "execution_count": 26,
      "outputs": []
    },
    {
      "cell_type": "markdown",
      "metadata": {
        "id": "a4FQcyeDa-R5"
      },
      "source": [
        "Naives Bayer-Pippeline"
      ]
    },
    {
      "cell_type": "code",
      "metadata": {
        "id": "1ffuP8MQa9SZ",
        "outputId": "80ee5a38-8711-435d-d332-d16e0f77425b",
        "colab": {
          "base_uri": "https://localhost:8080/"
        }
      },
      "source": [
        "from sklearn.naive_bayes import MultinomialNB\n",
        "from sklearn.pipeline import Pipeline\n",
        "from sklearn.feature_extraction.text import TfidfTransformer\n",
        "\n",
        "nb = Pipeline([('vect', CountVectorizer()),\n",
        "               ('tfidf', TfidfTransformer()),\n",
        "               ('clf', MultinomialNB()),\n",
        "              ])\n",
        "nb.fit(X_train,Y_train)"
      ],
      "execution_count": 6,
      "outputs": [
        {
          "output_type": "execute_result",
          "data": {
            "text/plain": [
              "Pipeline(memory=None,\n",
              "         steps=[('vect',\n",
              "                 CountVectorizer(analyzer='word', binary=False,\n",
              "                                 decode_error='strict',\n",
              "                                 dtype=<class 'numpy.int64'>, encoding='utf-8',\n",
              "                                 input='content', lowercase=True, max_df=1.0,\n",
              "                                 max_features=None, min_df=1,\n",
              "                                 ngram_range=(1, 1), preprocessor=None,\n",
              "                                 stop_words=None, strip_accents=None,\n",
              "                                 token_pattern='(?u)\\\\b\\\\w\\\\w+\\\\b',\n",
              "                                 tokenizer=None, vocabulary=None)),\n",
              "                ('tfidf',\n",
              "                 TfidfTransformer(norm='l2', smooth_idf=True,\n",
              "                                  sublinear_tf=False, use_idf=True)),\n",
              "                ('clf',\n",
              "                 MultinomialNB(alpha=1.0, class_prior=None, fit_prior=True))],\n",
              "         verbose=False)"
            ]
          },
          "metadata": {
            "tags": []
          },
          "execution_count": 6
        }
      ]
    },
    {
      "cell_type": "code",
      "metadata": {
        "id": "kL843siBdnm7",
        "outputId": "f52e9750-9c1b-46b9-eafd-aef229a04736",
        "colab": {
          "base_uri": "https://localhost:8080/"
        }
      },
      "source": [
        "from sklearn.metrics import classification_report\n",
        "y_pred = nb.predict(X_test)\n",
        "\n",
        "print('accuracy %s' % accuracy_score(y_pred, Y_test))\n",
        "print(classification_report(Y_test, y_pred))"
      ],
      "execution_count": 9,
      "outputs": [
        {
          "output_type": "stream",
          "text": [
            "accuracy 0.2871111111111111\n",
            "              precision    recall  f1-score   support\n",
            "\n",
            "           0       0.00      0.00      0.00       309\n",
            "           1       0.00      0.00      0.00        26\n",
            "           2       0.24      0.01      0.02      1138\n",
            "           3       0.27      0.74      0.40      1930\n",
            "           4       0.00      0.00      0.00        46\n",
            "           5       0.00      0.00      0.00       202\n",
            "           6       0.28      0.49      0.36      1898\n",
            "           7       0.00      0.00      0.00       340\n",
            "           8       0.00      0.00      0.00       172\n",
            "           9       0.00      0.00      0.00       413\n",
            "          10       0.00      0.00      0.00       484\n",
            "          11       0.61      0.13      0.21       813\n",
            "          12       0.44      0.08      0.14      1229\n",
            "\n",
            "    accuracy                           0.29      9000\n",
            "   macro avg       0.14      0.11      0.09      9000\n",
            "weighted avg       0.26      0.29      0.20      9000\n",
            "\n"
          ],
          "name": "stdout"
        },
        {
          "output_type": "stream",
          "text": [
            "/usr/local/lib/python3.6/dist-packages/sklearn/metrics/_classification.py:1272: UndefinedMetricWarning: Precision and F-score are ill-defined and being set to 0.0 in labels with no predicted samples. Use `zero_division` parameter to control this behavior.\n",
            "  _warn_prf(average, modifier, msg_start, len(result))\n"
          ],
          "name": "stderr"
        }
      ]
    },
    {
      "cell_type": "code",
      "metadata": {
        "id": "ZIvSZSGZds3c"
      },
      "source": [
        ""
      ],
      "execution_count": null,
      "outputs": []
    },
    {
      "cell_type": "markdown",
      "metadata": {
        "id": "W4Dum27DenoJ"
      },
      "source": [
        "# **Linear Support Machine**"
      ]
    },
    {
      "cell_type": "code",
      "metadata": {
        "id": "f1TmnKipe0PI",
        "outputId": "68ea90cb-23c8-4fcc-cccb-a55fdb55c1c6",
        "colab": {
          "base_uri": "https://localhost:8080/"
        }
      },
      "source": [
        "from sklearn.linear_model import SGDClassifier\n",
        "\n",
        "sgd = Pipeline([('vect', CountVectorizer()),\n",
        "                ('tfidf', TfidfTransformer()),\n",
        "                ('clf', SGDClassifier(loss='hinge', penalty='l2',alpha=1e-3, random_state=42, max_iter=5, tol=None)),\n",
        "               ])\n",
        "sgd.fit(X_train,Y_train)\n",
        "\n",
        "y_pred = sgd.predict(X_test)\n",
        "\n",
        "print('accuracy %s' % accuracy_score(y_pred, Y_test))\n",
        "print(classification_report(Y_test, y_pred))\n"
      ],
      "execution_count": 11,
      "outputs": [
        {
          "output_type": "stream",
          "text": [
            "accuracy 0.3151111111111111\n",
            "              precision    recall  f1-score   support\n",
            "\n",
            "           0       0.30      0.20      0.24       309\n",
            "           1       0.00      0.00      0.00        26\n",
            "           2       0.27      0.25      0.26      1138\n",
            "           3       0.34      0.47      0.39      1930\n",
            "           4       0.09      0.04      0.06        46\n",
            "           5       0.05      0.02      0.03       202\n",
            "           6       0.35      0.38      0.36      1898\n",
            "           7       0.12      0.04      0.06       340\n",
            "           8       0.04      0.01      0.02       172\n",
            "           9       0.14      0.06      0.08       413\n",
            "          10       0.13      0.07      0.09       484\n",
            "          11       0.36      0.47      0.41       813\n",
            "          12       0.33      0.32      0.32      1229\n",
            "\n",
            "    accuracy                           0.32      9000\n",
            "   macro avg       0.19      0.18      0.18      9000\n",
            "weighted avg       0.29      0.32      0.30      9000\n",
            "\n"
          ],
          "name": "stdout"
        }
      ]
    },
    {
      "cell_type": "markdown",
      "metadata": {
        "id": "UA3ta9KGeJGY"
      },
      "source": [
        "# **LogisticRegression**"
      ]
    },
    {
      "cell_type": "code",
      "metadata": {
        "id": "SahzZmzUeMU2",
        "outputId": "395fd0bb-8c26-45d5-8ff3-900e8d02c433",
        "colab": {
          "base_uri": "https://localhost:8080/"
        }
      },
      "source": [
        "from sklearn.linear_model import LogisticRegression\n",
        "\n",
        "logreg = Pipeline([('vect', CountVectorizer()),\n",
        "                ('tfidf', TfidfTransformer()),\n",
        "                ('clf', LogisticRegression(max_iter=10000)),\n",
        "               ])\n",
        "logreg.fit(X_train, Y_train)\n",
        "\n",
        "y_pred = logreg.predict(X_test)\n",
        "\n",
        "print('accuracy %s' % accuracy_score(y_pred, Y_test))\n",
        "print(classification_report(Y_test, y_pred))"
      ],
      "execution_count": 27,
      "outputs": [
        {
          "output_type": "stream",
          "text": [
            "accuracy 0.34555555555555556\n",
            "              precision    recall  f1-score   support\n",
            "\n",
            "           0       0.50      0.10      0.17       309\n",
            "           1       0.00      0.00      0.00        26\n",
            "           2       0.33      0.23      0.27      1138\n",
            "           3       0.34      0.52      0.41      1930\n",
            "           4       0.00      0.00      0.00        46\n",
            "           5       0.75      0.01      0.03       202\n",
            "           6       0.32      0.56      0.41      1898\n",
            "           7       0.32      0.03      0.05       340\n",
            "           8       0.00      0.00      0.00       172\n",
            "           9       0.24      0.01      0.02       413\n",
            "          10       0.27      0.04      0.07       484\n",
            "          11       0.48      0.38      0.43       813\n",
            "          12       0.36      0.33      0.35      1229\n",
            "\n",
            "    accuracy                           0.35      9000\n",
            "   macro avg       0.30      0.17      0.17      9000\n",
            "weighted avg       0.35      0.35      0.31      9000\n",
            "\n"
          ],
          "name": "stdout"
        },
        {
          "output_type": "stream",
          "text": [
            "/usr/local/lib/python3.6/dist-packages/sklearn/metrics/_classification.py:1272: UndefinedMetricWarning: Precision and F-score are ill-defined and being set to 0.0 in labels with no predicted samples. Use `zero_division` parameter to control this behavior.\n",
            "  _warn_prf(average, modifier, msg_start, len(result))\n"
          ],
          "name": "stderr"
        }
      ]
    },
    {
      "cell_type": "code",
      "metadata": {
        "id": "jolu9AAZjJ8w"
      },
      "source": [
        "test.content=test.content.apply(lambda x:'neutral' if type(x)!=str else x)"
      ],
      "execution_count": 29,
      "outputs": []
    },
    {
      "cell_type": "code",
      "metadata": {
        "id": "_wUPOEeFfdrf"
      },
      "source": [
        "result=pd.DataFrame(zip(test.id,logreg.predict(test.content)),columns=['id','type'])\n",
        "result.to_csv('Termi.csv',index=False,header=['id','type'])"
      ],
      "execution_count": 30,
      "outputs": []
    },
    {
      "cell_type": "code",
      "metadata": {
        "id": "qToHpsJYiDVY"
      },
      "source": [
        ""
      ],
      "execution_count": null,
      "outputs": []
    }
  ]
}