{
  "nbformat": 4,
  "nbformat_minor": 0,
  "metadata": {
    "colab": {
      "name": "Untitled0.ipynb",
      "provenance": [],
      "collapsed_sections": [
        "hKegO6uXWM-v",
        "MwMoSuPHRNTh",
        "Bap9Su-WSM3F",
        "O3i8UnNsRnd_",
        "qFjdBNpQp0Ld",
        "41DxKn_DqeeB",
        "rEdqi38zfInO"
      ],
      "toc_visible": true,
      "include_colab_link": true
    },
    "kernelspec": {
      "name": "python3",
      "display_name": "Python 3"
    }
  },
  "cells": [
    {
      "cell_type": "markdown",
      "metadata": {
        "id": "view-in-github",
        "colab_type": "text"
      },
      "source": [
        "<a href=\"https://colab.research.google.com/github/hruthiksiva/KaggleComp-IIIT-Delhi/blob/main/Untitled0.ipynb\" target=\"_parent\"><img src=\"https://colab.research.google.com/assets/colab-badge.svg\" alt=\"Open In Colab\"/></a>"
      ]
    },
    {
      "cell_type": "code",
      "metadata": {
        "id": "Lz4gbtjdOyE1"
      },
      "source": [
        "import pandas as pd\n",
        "import numpy as np\n",
        "from sklearn.linear_model import LogisticRegression\n",
        "from sklearn.ensemble import RandomForestClassifier\n",
        "from sklearn.ensemble import AdaBoostClassifier\n",
        "from sklearn.tree import DecisionTreeClassifier\n",
        "from sklearn.preprocessing import OrdinalEncoder\n",
        "from sklearn.model_selection import train_test_split\n",
        "from sklearn import metrics\n",
        "import matplotlib.pyplot as plt"
      ],
      "execution_count": 50,
      "outputs": []
    },
    {
      "cell_type": "code",
      "metadata": {
        "id": "U9Voe-w7P52W",
        "outputId": "ab8189a6-93a3-4f68-9829-a940986dc7cb",
        "colab": {
          "base_uri": "https://localhost:8080/",
          "height": 34
        }
      },
      "source": [
        "!ls\n",
        "train=pd.read_csv('Train_data_players.csv')\n",
        "test=pd.read_csv('Test_data_player.csv')\n",
        "sub=pd.read_csv('example_submission.csv')"
      ],
      "execution_count": 51,
      "outputs": [
        {
          "output_type": "stream",
          "text": [
            "example_submission.csv\tTest_data_player.csv  Train_data_players.csv\n"
          ],
          "name": "stdout"
        }
      ]
    },
    {
      "cell_type": "markdown",
      "metadata": {
        "id": "hKegO6uXWM-v"
      },
      "source": [
        "# **Visualize Data**"
      ]
    },
    {
      "cell_type": "code",
      "metadata": {
        "id": "fX3U2KD0usjA",
        "outputId": "ccbccb7b-0900-4155-da15-3feb3b3f1d6c",
        "colab": {
          "base_uri": "https://localhost:8080/",
          "height": 249
        }
      },
      "source": [
        "train.head()"
      ],
      "execution_count": 27,
      "outputs": [
        {
          "output_type": "execute_result",
          "data": {
            "text/html": [
              "<div>\n",
              "<style scoped>\n",
              "    .dataframe tbody tr th:only-of-type {\n",
              "        vertical-align: middle;\n",
              "    }\n",
              "\n",
              "    .dataframe tbody tr th {\n",
              "        vertical-align: top;\n",
              "    }\n",
              "\n",
              "    .dataframe thead th {\n",
              "        text-align: right;\n",
              "    }\n",
              "</style>\n",
              "<table border=\"1\" class=\"dataframe\">\n",
              "  <thead>\n",
              "    <tr style=\"text-align: right;\">\n",
              "      <th></th>\n",
              "      <th>player ID</th>\n",
              "      <th>Batting Avg.</th>\n",
              "      <th>Strike rate</th>\n",
              "      <th>L/R Handed Batsman</th>\n",
              "      <th>Wicket keeping</th>\n",
              "      <th>economy</th>\n",
              "      <th>avg speed</th>\n",
              "      <th>fitness index</th>\n",
              "      <th>Sixes</th>\n",
              "      <th>fours</th>\n",
              "      <th>Fast bowling</th>\n",
              "      <th>Leg Spin</th>\n",
              "      <th>Off Spin</th>\n",
              "      <th>against fast bowl</th>\n",
              "      <th>against leg spin</th>\n",
              "      <th>against off spin</th>\n",
              "      <th>Fanbase</th>\n",
              "      <th>Catch percentage</th>\n",
              "      <th>Region</th>\n",
              "      <th>Not selected</th>\n",
              "    </tr>\n",
              "  </thead>\n",
              "  <tbody>\n",
              "    <tr>\n",
              "      <th>0</th>\n",
              "      <td>246048</td>\n",
              "      <td>1</td>\n",
              "      <td>4</td>\n",
              "      <td>2</td>\n",
              "      <td>6</td>\n",
              "      <td>5</td>\n",
              "      <td>6</td>\n",
              "      <td>6</td>\n",
              "      <td>6</td>\n",
              "      <td>6</td>\n",
              "      <td>6</td>\n",
              "      <td>5</td>\n",
              "      <td>6</td>\n",
              "      <td>7</td>\n",
              "      <td>7</td>\n",
              "      <td>5</td>\n",
              "      <td>7</td>\n",
              "      <td>6</td>\n",
              "      <td>RGB7</td>\n",
              "      <td>0</td>\n",
              "    </tr>\n",
              "    <tr>\n",
              "      <th>1</th>\n",
              "      <td>387987</td>\n",
              "      <td>1</td>\n",
              "      <td>2</td>\n",
              "      <td>1</td>\n",
              "      <td>5</td>\n",
              "      <td>7</td>\n",
              "      <td>10</td>\n",
              "      <td>10</td>\n",
              "      <td>6</td>\n",
              "      <td>2</td>\n",
              "      <td>7</td>\n",
              "      <td>3</td>\n",
              "      <td>7</td>\n",
              "      <td>8</td>\n",
              "      <td>9</td>\n",
              "      <td>6</td>\n",
              "      <td>6</td>\n",
              "      <td>9</td>\n",
              "      <td>RGB10</td>\n",
              "      <td>1</td>\n",
              "    </tr>\n",
              "    <tr>\n",
              "      <th>2</th>\n",
              "      <td>788442</td>\n",
              "      <td>3</td>\n",
              "      <td>4</td>\n",
              "      <td>1</td>\n",
              "      <td>5</td>\n",
              "      <td>7</td>\n",
              "      <td>2</td>\n",
              "      <td>5</td>\n",
              "      <td>3</td>\n",
              "      <td>5</td>\n",
              "      <td>5</td>\n",
              "      <td>5</td>\n",
              "      <td>3</td>\n",
              "      <td>7</td>\n",
              "      <td>7</td>\n",
              "      <td>5</td>\n",
              "      <td>7</td>\n",
              "      <td>7</td>\n",
              "      <td>RGB6</td>\n",
              "      <td>0</td>\n",
              "    </tr>\n",
              "    <tr>\n",
              "      <th>3</th>\n",
              "      <td>465918</td>\n",
              "      <td>0</td>\n",
              "      <td>5</td>\n",
              "      <td>1</td>\n",
              "      <td>7</td>\n",
              "      <td>5</td>\n",
              "      <td>6</td>\n",
              "      <td>5</td>\n",
              "      <td>9</td>\n",
              "      <td>4</td>\n",
              "      <td>6</td>\n",
              "      <td>5</td>\n",
              "      <td>8</td>\n",
              "      <td>7</td>\n",
              "      <td>9</td>\n",
              "      <td>5</td>\n",
              "      <td>7</td>\n",
              "      <td>6</td>\n",
              "      <td>RGB8</td>\n",
              "      <td>0</td>\n",
              "    </tr>\n",
              "    <tr>\n",
              "      <th>4</th>\n",
              "      <td>295804</td>\n",
              "      <td>0</td>\n",
              "      <td>5</td>\n",
              "      <td>1</td>\n",
              "      <td>6</td>\n",
              "      <td>7</td>\n",
              "      <td>7</td>\n",
              "      <td>7</td>\n",
              "      <td>9</td>\n",
              "      <td>5</td>\n",
              "      <td>7</td>\n",
              "      <td>7</td>\n",
              "      <td>7</td>\n",
              "      <td>8</td>\n",
              "      <td>8</td>\n",
              "      <td>8</td>\n",
              "      <td>9</td>\n",
              "      <td>5</td>\n",
              "      <td>RGB1</td>\n",
              "      <td>0</td>\n",
              "    </tr>\n",
              "  </tbody>\n",
              "</table>\n",
              "</div>"
            ],
            "text/plain": [
              "   player ID Batting Avg.  Strike rate  ... Catch percentage  Region  Not selected\n",
              "0     246048            1            4  ...                6    RGB7             0\n",
              "1     387987            1            2  ...                9   RGB10             1\n",
              "2     788442            3            4  ...                7    RGB6             0\n",
              "3     465918            0            5  ...                6    RGB8             0\n",
              "4     295804            0            5  ...                5    RGB1             0\n",
              "\n",
              "[5 rows x 20 columns]"
            ]
          },
          "metadata": {
            "tags": []
          },
          "execution_count": 27
        }
      ]
    },
    {
      "cell_type": "code",
      "metadata": {
        "id": "CGN1-2Rku43H",
        "outputId": "e056b2b6-d773-4f1d-e9b5-95031b66bf1d",
        "colab": {
          "base_uri": "https://localhost:8080/",
          "height": 34
        }
      },
      "source": [
        "enc=OrdinalEncoder()\n",
        "enc.fit(train[['Region']])"
      ],
      "execution_count": 28,
      "outputs": [
        {
          "output_type": "execute_result",
          "data": {
            "text/plain": [
              "OrdinalEncoder(categories='auto', dtype=<class 'numpy.float64'>)"
            ]
          },
          "metadata": {
            "tags": []
          },
          "execution_count": 28
        }
      ]
    },
    {
      "cell_type": "markdown",
      "metadata": {
        "id": "MwMoSuPHRNTh"
      },
      "source": [
        "# **Arena**"
      ]
    },
    {
      "cell_type": "code",
      "metadata": {
        "id": "Wr9kWVLYQn7U",
        "outputId": "d59faeba-5f25-4e25-f107-e9107ccc3e77",
        "colab": {
          "base_uri": "https://localhost:8080/",
          "height": 118
        }
      },
      "source": [
        "train.columns"
      ],
      "execution_count": 52,
      "outputs": [
        {
          "output_type": "execute_result",
          "data": {
            "text/plain": [
              "Index(['player ID', 'Batting Avg.', 'Strike rate', 'L/R Handed Batsman',\n",
              "       'Wicket keeping', 'economy', 'avg speed', 'fitness index', 'Sixes',\n",
              "       'fours', 'Fast bowling', 'Leg Spin', 'Off Spin', 'against fast bowl',\n",
              "       'against leg spin', 'against off spin', 'Fanbase', 'Catch percentage',\n",
              "       'Region', 'Not selected'],\n",
              "      dtype='object')"
            ]
          },
          "metadata": {
            "tags": []
          },
          "execution_count": 52
        }
      ]
    },
    {
      "cell_type": "code",
      "metadata": {
        "id": "8Ea0BtURQs2Z",
        "outputId": "fac021d4-a0c5-4743-b381-4ef51dffe50a",
        "colab": {
          "base_uri": "https://localhost:8080/",
          "height": 249
        }
      },
      "source": [
        "test.head()"
      ],
      "execution_count": 53,
      "outputs": [
        {
          "output_type": "execute_result",
          "data": {
            "text/html": [
              "<div>\n",
              "<style scoped>\n",
              "    .dataframe tbody tr th:only-of-type {\n",
              "        vertical-align: middle;\n",
              "    }\n",
              "\n",
              "    .dataframe tbody tr th {\n",
              "        vertical-align: top;\n",
              "    }\n",
              "\n",
              "    .dataframe thead th {\n",
              "        text-align: right;\n",
              "    }\n",
              "</style>\n",
              "<table border=\"1\" class=\"dataframe\">\n",
              "  <thead>\n",
              "    <tr style=\"text-align: right;\">\n",
              "      <th></th>\n",
              "      <th>player ID</th>\n",
              "      <th>Batting Avg.</th>\n",
              "      <th>Strike rate</th>\n",
              "      <th>L/R Handed Batsman</th>\n",
              "      <th>Wicket keeping</th>\n",
              "      <th>economy</th>\n",
              "      <th>avg speed</th>\n",
              "      <th>fitness index</th>\n",
              "      <th>Sixes</th>\n",
              "      <th>fours</th>\n",
              "      <th>Fast bowling</th>\n",
              "      <th>Leg Spin</th>\n",
              "      <th>Off Spin</th>\n",
              "      <th>against fast bowl</th>\n",
              "      <th>against leg spin</th>\n",
              "      <th>against off spin</th>\n",
              "      <th>Fanbase</th>\n",
              "      <th>Catch percentage</th>\n",
              "      <th>Region</th>\n",
              "    </tr>\n",
              "  </thead>\n",
              "  <tbody>\n",
              "    <tr>\n",
              "      <th>0</th>\n",
              "      <td>943412</td>\n",
              "      <td>0</td>\n",
              "      <td>5</td>\n",
              "      <td>1</td>\n",
              "      <td>5</td>\n",
              "      <td>3</td>\n",
              "      <td>8</td>\n",
              "      <td>10</td>\n",
              "      <td>8</td>\n",
              "      <td>5</td>\n",
              "      <td>8</td>\n",
              "      <td>8</td>\n",
              "      <td>4</td>\n",
              "      <td>10</td>\n",
              "      <td>10</td>\n",
              "      <td>9</td>\n",
              "      <td>10</td>\n",
              "      <td>6</td>\n",
              "      <td>RGB6</td>\n",
              "    </tr>\n",
              "    <tr>\n",
              "      <th>1</th>\n",
              "      <td>891010</td>\n",
              "      <td>0</td>\n",
              "      <td>5</td>\n",
              "      <td>1</td>\n",
              "      <td>5</td>\n",
              "      <td>5</td>\n",
              "      <td>6</td>\n",
              "      <td>5</td>\n",
              "      <td>5</td>\n",
              "      <td>5</td>\n",
              "      <td>5</td>\n",
              "      <td>6</td>\n",
              "      <td>5</td>\n",
              "      <td>4</td>\n",
              "      <td>6</td>\n",
              "      <td>6</td>\n",
              "      <td>5</td>\n",
              "      <td>5</td>\n",
              "      <td>RGB10</td>\n",
              "    </tr>\n",
              "    <tr>\n",
              "      <th>2</th>\n",
              "      <td>232982</td>\n",
              "      <td>2</td>\n",
              "      <td>3</td>\n",
              "      <td>1</td>\n",
              "      <td>8</td>\n",
              "      <td>6</td>\n",
              "      <td>8</td>\n",
              "      <td>6</td>\n",
              "      <td>4</td>\n",
              "      <td>5</td>\n",
              "      <td>3</td>\n",
              "      <td>5</td>\n",
              "      <td>8</td>\n",
              "      <td>7</td>\n",
              "      <td>4</td>\n",
              "      <td>7</td>\n",
              "      <td>9</td>\n",
              "      <td>5</td>\n",
              "      <td>RGB7</td>\n",
              "    </tr>\n",
              "    <tr>\n",
              "      <th>3</th>\n",
              "      <td>762647</td>\n",
              "      <td>3</td>\n",
              "      <td>4</td>\n",
              "      <td>1</td>\n",
              "      <td>8</td>\n",
              "      <td>6</td>\n",
              "      <td>8</td>\n",
              "      <td>8</td>\n",
              "      <td>7</td>\n",
              "      <td>6</td>\n",
              "      <td>6</td>\n",
              "      <td>6</td>\n",
              "      <td>7</td>\n",
              "      <td>7</td>\n",
              "      <td>8</td>\n",
              "      <td>7</td>\n",
              "      <td>7</td>\n",
              "      <td>7</td>\n",
              "      <td>RGB6</td>\n",
              "    </tr>\n",
              "    <tr>\n",
              "      <th>4</th>\n",
              "      <td>882052</td>\n",
              "      <td>6</td>\n",
              "      <td>4</td>\n",
              "      <td>2</td>\n",
              "      <td>9</td>\n",
              "      <td>6</td>\n",
              "      <td>7</td>\n",
              "      <td>7</td>\n",
              "      <td>9</td>\n",
              "      <td>4</td>\n",
              "      <td>3</td>\n",
              "      <td>7</td>\n",
              "      <td>8</td>\n",
              "      <td>10</td>\n",
              "      <td>9</td>\n",
              "      <td>7</td>\n",
              "      <td>8</td>\n",
              "      <td>6</td>\n",
              "      <td>RGB3</td>\n",
              "    </tr>\n",
              "  </tbody>\n",
              "</table>\n",
              "</div>"
            ],
            "text/plain": [
              "   player ID  Batting Avg.  Strike rate  ... Fanbase  Catch percentage  Region\n",
              "0     943412             0            5  ...      10                 6    RGB6\n",
              "1     891010             0            5  ...       5                 5   RGB10\n",
              "2     232982             2            3  ...       9                 5    RGB7\n",
              "3     762647             3            4  ...       7                 7    RGB6\n",
              "4     882052             6            4  ...       8                 6    RGB3\n",
              "\n",
              "[5 rows x 19 columns]"
            ]
          },
          "metadata": {
            "tags": []
          },
          "execution_count": 53
        }
      ]
    },
    {
      "cell_type": "code",
      "metadata": {
        "id": "-dSkAk3Ka29q"
      },
      "source": [
        "train=train.infer_objects()"
      ],
      "execution_count": 54,
      "outputs": []
    },
    {
      "cell_type": "code",
      "metadata": {
        "id": "P2MHKN2lSdI2",
        "outputId": "e8db0c33-b0df-432c-87d8-00b5e62e0d59",
        "colab": {
          "base_uri": "https://localhost:8080/",
          "height": 470
        }
      },
      "source": [
        "train.info()"
      ],
      "execution_count": 55,
      "outputs": [
        {
          "output_type": "stream",
          "text": [
            "<class 'pandas.core.frame.DataFrame'>\n",
            "RangeIndex: 195 entries, 0 to 194\n",
            "Data columns (total 20 columns):\n",
            " #   Column              Non-Null Count  Dtype \n",
            "---  ------              --------------  ----- \n",
            " 0   player ID           195 non-null    int64 \n",
            " 1   Batting Avg.        195 non-null    object\n",
            " 2   Strike rate         195 non-null    int64 \n",
            " 3   L/R Handed Batsman  195 non-null    object\n",
            " 4   Wicket keeping      195 non-null    int64 \n",
            " 5   economy             195 non-null    int64 \n",
            " 6   avg speed           195 non-null    int64 \n",
            " 7   fitness index       195 non-null    int64 \n",
            " 8   Sixes               195 non-null    int64 \n",
            " 9   fours               195 non-null    int64 \n",
            " 10  Fast bowling        195 non-null    int64 \n",
            " 11  Leg Spin            195 non-null    int64 \n",
            " 12  Off Spin            195 non-null    int64 \n",
            " 13  against fast bowl   195 non-null    int64 \n",
            " 14  against leg spin    195 non-null    int64 \n",
            " 15  against off spin    195 non-null    int64 \n",
            " 16  Fanbase             195 non-null    int64 \n",
            " 17  Catch percentage    195 non-null    int64 \n",
            " 18  Region              195 non-null    object\n",
            " 19  Not selected        195 non-null    int64 \n",
            "dtypes: int64(17), object(3)\n",
            "memory usage: 30.6+ KB\n"
          ],
          "name": "stdout"
        }
      ]
    },
    {
      "cell_type": "code",
      "metadata": {
        "id": "klRPfKd3SvOO",
        "outputId": "9d3e1229-97fc-4464-bca9-a3be857000dc",
        "colab": {
          "base_uri": "https://localhost:8080/",
          "height": 34
        }
      },
      "source": [
        "train['Not selected'].unique()"
      ],
      "execution_count": 56,
      "outputs": [
        {
          "output_type": "execute_result",
          "data": {
            "text/plain": [
              "array([0, 1])"
            ]
          },
          "metadata": {
            "tags": []
          },
          "execution_count": 56
        }
      ]
    },
    {
      "cell_type": "code",
      "metadata": {
        "id": "UD3BD3XkXrHJ",
        "outputId": "61c81864-25cf-4081-cfdd-f15c8443d922",
        "colab": {
          "base_uri": "https://localhost:8080/",
          "height": 34
        }
      },
      "source": [
        "train['L/R Handed Batsman'].unique()"
      ],
      "execution_count": 57,
      "outputs": [
        {
          "output_type": "execute_result",
          "data": {
            "text/plain": [
              "array(['2', '1', '*', 'na'], dtype=object)"
            ]
          },
          "metadata": {
            "tags": []
          },
          "execution_count": 57
        }
      ]
    },
    {
      "cell_type": "code",
      "metadata": {
        "id": "O_hWuDaPabHU",
        "outputId": "1fb58fbd-f1fb-4d8f-e54c-382ba8489c3d",
        "colab": {
          "base_uri": "https://localhost:8080/",
          "height": 218
        }
      },
      "source": [
        "train['Region']"
      ],
      "execution_count": 58,
      "outputs": [
        {
          "output_type": "execute_result",
          "data": {
            "text/plain": [
              "0       RGB7\n",
              "1      RGB10\n",
              "2       RGB6\n",
              "3       RGB8\n",
              "4       RGB1\n",
              "       ...  \n",
              "190     RGB3\n",
              "191     RGB8\n",
              "192     RGB6\n",
              "193     RGB8\n",
              "194     RGB3\n",
              "Name: Region, Length: 195, dtype: object"
            ]
          },
          "metadata": {
            "tags": []
          },
          "execution_count": 58
        }
      ]
    },
    {
      "cell_type": "code",
      "metadata": {
        "id": "ugfGGaTIZ0VM",
        "outputId": "87e37034-69e2-4c83-8119-e48a3fa3b630",
        "colab": {
          "base_uri": "https://localhost:8080/",
          "height": 101
        }
      },
      "source": [
        "train[train['Not selected']==3]"
      ],
      "execution_count": 59,
      "outputs": [
        {
          "output_type": "execute_result",
          "data": {
            "text/html": [
              "<div>\n",
              "<style scoped>\n",
              "    .dataframe tbody tr th:only-of-type {\n",
              "        vertical-align: middle;\n",
              "    }\n",
              "\n",
              "    .dataframe tbody tr th {\n",
              "        vertical-align: top;\n",
              "    }\n",
              "\n",
              "    .dataframe thead th {\n",
              "        text-align: right;\n",
              "    }\n",
              "</style>\n",
              "<table border=\"1\" class=\"dataframe\">\n",
              "  <thead>\n",
              "    <tr style=\"text-align: right;\">\n",
              "      <th></th>\n",
              "      <th>player ID</th>\n",
              "      <th>Batting Avg.</th>\n",
              "      <th>Strike rate</th>\n",
              "      <th>L/R Handed Batsman</th>\n",
              "      <th>Wicket keeping</th>\n",
              "      <th>economy</th>\n",
              "      <th>avg speed</th>\n",
              "      <th>fitness index</th>\n",
              "      <th>Sixes</th>\n",
              "      <th>fours</th>\n",
              "      <th>Fast bowling</th>\n",
              "      <th>Leg Spin</th>\n",
              "      <th>Off Spin</th>\n",
              "      <th>against fast bowl</th>\n",
              "      <th>against leg spin</th>\n",
              "      <th>against off spin</th>\n",
              "      <th>Fanbase</th>\n",
              "      <th>Catch percentage</th>\n",
              "      <th>Region</th>\n",
              "      <th>Not selected</th>\n",
              "    </tr>\n",
              "  </thead>\n",
              "  <tbody>\n",
              "  </tbody>\n",
              "</table>\n",
              "</div>"
            ],
            "text/plain": [
              "Empty DataFrame\n",
              "Columns: [player ID, Batting Avg., Strike rate, L/R Handed Batsman, Wicket keeping, economy, avg speed, fitness index, Sixes, fours, Fast bowling, Leg Spin, Off Spin, against fast bowl, against leg spin, against off spin, Fanbase, Catch percentage, Region, Not selected]\n",
              "Index: []"
            ]
          },
          "metadata": {
            "tags": []
          },
          "execution_count": 59
        }
      ]
    },
    {
      "cell_type": "code",
      "metadata": {
        "id": "zcyFeYdcgeVD",
        "outputId": "fbf84125-43bf-4146-e26e-2e97da291adf",
        "colab": {
          "base_uri": "https://localhost:8080/",
          "height": 101
        }
      },
      "source": [
        "train[train['Not selected']==3]"
      ],
      "execution_count": 60,
      "outputs": [
        {
          "output_type": "execute_result",
          "data": {
            "text/html": [
              "<div>\n",
              "<style scoped>\n",
              "    .dataframe tbody tr th:only-of-type {\n",
              "        vertical-align: middle;\n",
              "    }\n",
              "\n",
              "    .dataframe tbody tr th {\n",
              "        vertical-align: top;\n",
              "    }\n",
              "\n",
              "    .dataframe thead th {\n",
              "        text-align: right;\n",
              "    }\n",
              "</style>\n",
              "<table border=\"1\" class=\"dataframe\">\n",
              "  <thead>\n",
              "    <tr style=\"text-align: right;\">\n",
              "      <th></th>\n",
              "      <th>player ID</th>\n",
              "      <th>Batting Avg.</th>\n",
              "      <th>Strike rate</th>\n",
              "      <th>L/R Handed Batsman</th>\n",
              "      <th>Wicket keeping</th>\n",
              "      <th>economy</th>\n",
              "      <th>avg speed</th>\n",
              "      <th>fitness index</th>\n",
              "      <th>Sixes</th>\n",
              "      <th>fours</th>\n",
              "      <th>Fast bowling</th>\n",
              "      <th>Leg Spin</th>\n",
              "      <th>Off Spin</th>\n",
              "      <th>against fast bowl</th>\n",
              "      <th>against leg spin</th>\n",
              "      <th>against off spin</th>\n",
              "      <th>Fanbase</th>\n",
              "      <th>Catch percentage</th>\n",
              "      <th>Region</th>\n",
              "      <th>Not selected</th>\n",
              "    </tr>\n",
              "  </thead>\n",
              "  <tbody>\n",
              "  </tbody>\n",
              "</table>\n",
              "</div>"
            ],
            "text/plain": [
              "Empty DataFrame\n",
              "Columns: [player ID, Batting Avg., Strike rate, L/R Handed Batsman, Wicket keeping, economy, avg speed, fitness index, Sixes, fours, Fast bowling, Leg Spin, Off Spin, against fast bowl, against leg spin, against off spin, Fanbase, Catch percentage, Region, Not selected]\n",
              "Index: []"
            ]
          },
          "metadata": {
            "tags": []
          },
          "execution_count": 60
        }
      ]
    },
    {
      "cell_type": "code",
      "metadata": {
        "id": "6i2FP35MTk6f",
        "outputId": "ae738c2d-74ac-4ea6-eb3b-0898d37579c4",
        "colab": {
          "base_uri": "https://localhost:8080/",
          "height": 426
        }
      },
      "source": [
        "train.describe(include='all')"
      ],
      "execution_count": 61,
      "outputs": [
        {
          "output_type": "execute_result",
          "data": {
            "text/html": [
              "<div>\n",
              "<style scoped>\n",
              "    .dataframe tbody tr th:only-of-type {\n",
              "        vertical-align: middle;\n",
              "    }\n",
              "\n",
              "    .dataframe tbody tr th {\n",
              "        vertical-align: top;\n",
              "    }\n",
              "\n",
              "    .dataframe thead th {\n",
              "        text-align: right;\n",
              "    }\n",
              "</style>\n",
              "<table border=\"1\" class=\"dataframe\">\n",
              "  <thead>\n",
              "    <tr style=\"text-align: right;\">\n",
              "      <th></th>\n",
              "      <th>player ID</th>\n",
              "      <th>Batting Avg.</th>\n",
              "      <th>Strike rate</th>\n",
              "      <th>L/R Handed Batsman</th>\n",
              "      <th>Wicket keeping</th>\n",
              "      <th>economy</th>\n",
              "      <th>avg speed</th>\n",
              "      <th>fitness index</th>\n",
              "      <th>Sixes</th>\n",
              "      <th>fours</th>\n",
              "      <th>Fast bowling</th>\n",
              "      <th>Leg Spin</th>\n",
              "      <th>Off Spin</th>\n",
              "      <th>against fast bowl</th>\n",
              "      <th>against leg spin</th>\n",
              "      <th>against off spin</th>\n",
              "      <th>Fanbase</th>\n",
              "      <th>Catch percentage</th>\n",
              "      <th>Region</th>\n",
              "      <th>Not selected</th>\n",
              "    </tr>\n",
              "  </thead>\n",
              "  <tbody>\n",
              "    <tr>\n",
              "      <th>count</th>\n",
              "      <td>195.000000</td>\n",
              "      <td>195</td>\n",
              "      <td>195.000000</td>\n",
              "      <td>195</td>\n",
              "      <td>195.000000</td>\n",
              "      <td>195.000000</td>\n",
              "      <td>195.000000</td>\n",
              "      <td>195.000000</td>\n",
              "      <td>195.000000</td>\n",
              "      <td>195.000000</td>\n",
              "      <td>195.000000</td>\n",
              "      <td>195.000000</td>\n",
              "      <td>195.000000</td>\n",
              "      <td>195.000000</td>\n",
              "      <td>195.000000</td>\n",
              "      <td>195.000000</td>\n",
              "      <td>195.000000</td>\n",
              "      <td>195.000000</td>\n",
              "      <td>195</td>\n",
              "      <td>195.000000</td>\n",
              "    </tr>\n",
              "    <tr>\n",
              "      <th>unique</th>\n",
              "      <td>NaN</td>\n",
              "      <td>7</td>\n",
              "      <td>NaN</td>\n",
              "      <td>4</td>\n",
              "      <td>NaN</td>\n",
              "      <td>NaN</td>\n",
              "      <td>NaN</td>\n",
              "      <td>NaN</td>\n",
              "      <td>NaN</td>\n",
              "      <td>NaN</td>\n",
              "      <td>NaN</td>\n",
              "      <td>NaN</td>\n",
              "      <td>NaN</td>\n",
              "      <td>NaN</td>\n",
              "      <td>NaN</td>\n",
              "      <td>NaN</td>\n",
              "      <td>NaN</td>\n",
              "      <td>NaN</td>\n",
              "      <td>10</td>\n",
              "      <td>NaN</td>\n",
              "    </tr>\n",
              "    <tr>\n",
              "      <th>top</th>\n",
              "      <td>NaN</td>\n",
              "      <td>1</td>\n",
              "      <td>NaN</td>\n",
              "      <td>1</td>\n",
              "      <td>NaN</td>\n",
              "      <td>NaN</td>\n",
              "      <td>NaN</td>\n",
              "      <td>NaN</td>\n",
              "      <td>NaN</td>\n",
              "      <td>NaN</td>\n",
              "      <td>NaN</td>\n",
              "      <td>NaN</td>\n",
              "      <td>NaN</td>\n",
              "      <td>NaN</td>\n",
              "      <td>NaN</td>\n",
              "      <td>NaN</td>\n",
              "      <td>NaN</td>\n",
              "      <td>NaN</td>\n",
              "      <td>RGB8</td>\n",
              "      <td>NaN</td>\n",
              "    </tr>\n",
              "    <tr>\n",
              "      <th>freq</th>\n",
              "      <td>NaN</td>\n",
              "      <td>45</td>\n",
              "      <td>NaN</td>\n",
              "      <td>122</td>\n",
              "      <td>NaN</td>\n",
              "      <td>NaN</td>\n",
              "      <td>NaN</td>\n",
              "      <td>NaN</td>\n",
              "      <td>NaN</td>\n",
              "      <td>NaN</td>\n",
              "      <td>NaN</td>\n",
              "      <td>NaN</td>\n",
              "      <td>NaN</td>\n",
              "      <td>NaN</td>\n",
              "      <td>NaN</td>\n",
              "      <td>NaN</td>\n",
              "      <td>NaN</td>\n",
              "      <td>NaN</td>\n",
              "      <td>25</td>\n",
              "      <td>NaN</td>\n",
              "    </tr>\n",
              "    <tr>\n",
              "      <th>mean</th>\n",
              "      <td>532440.825641</td>\n",
              "      <td>NaN</td>\n",
              "      <td>3.630769</td>\n",
              "      <td>NaN</td>\n",
              "      <td>6.769231</td>\n",
              "      <td>6.410256</td>\n",
              "      <td>6.825641</td>\n",
              "      <td>6.748718</td>\n",
              "      <td>6.548718</td>\n",
              "      <td>5.928205</td>\n",
              "      <td>6.184615</td>\n",
              "      <td>6.133333</td>\n",
              "      <td>6.271795</td>\n",
              "      <td>7.210256</td>\n",
              "      <td>7.558974</td>\n",
              "      <td>6.441026</td>\n",
              "      <td>7.379487</td>\n",
              "      <td>6.261538</td>\n",
              "      <td>NaN</td>\n",
              "      <td>0.148718</td>\n",
              "    </tr>\n",
              "    <tr>\n",
              "      <th>std</th>\n",
              "      <td>246776.419211</td>\n",
              "      <td>NaN</td>\n",
              "      <td>1.087453</td>\n",
              "      <td>NaN</td>\n",
              "      <td>2.252851</td>\n",
              "      <td>2.448626</td>\n",
              "      <td>2.098197</td>\n",
              "      <td>2.320557</td>\n",
              "      <td>2.534593</td>\n",
              "      <td>2.351787</td>\n",
              "      <td>2.365292</td>\n",
              "      <td>2.454255</td>\n",
              "      <td>2.454320</td>\n",
              "      <td>2.346723</td>\n",
              "      <td>2.233844</td>\n",
              "      <td>2.828493</td>\n",
              "      <td>2.231358</td>\n",
              "      <td>2.321639</td>\n",
              "      <td>NaN</td>\n",
              "      <td>0.356726</td>\n",
              "    </tr>\n",
              "    <tr>\n",
              "      <th>min</th>\n",
              "      <td>103045.000000</td>\n",
              "      <td>NaN</td>\n",
              "      <td>1.000000</td>\n",
              "      <td>NaN</td>\n",
              "      <td>-3.000000</td>\n",
              "      <td>-3.000000</td>\n",
              "      <td>-3.000000</td>\n",
              "      <td>-3.000000</td>\n",
              "      <td>-3.000000</td>\n",
              "      <td>-3.000000</td>\n",
              "      <td>-3.000000</td>\n",
              "      <td>-3.000000</td>\n",
              "      <td>-3.000000</td>\n",
              "      <td>-3.000000</td>\n",
              "      <td>-3.000000</td>\n",
              "      <td>-3.000000</td>\n",
              "      <td>-3.000000</td>\n",
              "      <td>-3.000000</td>\n",
              "      <td>NaN</td>\n",
              "      <td>0.000000</td>\n",
              "    </tr>\n",
              "    <tr>\n",
              "      <th>25%</th>\n",
              "      <td>336293.000000</td>\n",
              "      <td>NaN</td>\n",
              "      <td>3.000000</td>\n",
              "      <td>NaN</td>\n",
              "      <td>5.000000</td>\n",
              "      <td>5.000000</td>\n",
              "      <td>6.000000</td>\n",
              "      <td>5.000000</td>\n",
              "      <td>5.000000</td>\n",
              "      <td>5.000000</td>\n",
              "      <td>5.000000</td>\n",
              "      <td>5.000000</td>\n",
              "      <td>5.000000</td>\n",
              "      <td>6.000000</td>\n",
              "      <td>6.500000</td>\n",
              "      <td>5.000000</td>\n",
              "      <td>7.000000</td>\n",
              "      <td>5.000000</td>\n",
              "      <td>NaN</td>\n",
              "      <td>0.000000</td>\n",
              "    </tr>\n",
              "    <tr>\n",
              "      <th>50%</th>\n",
              "      <td>512274.000000</td>\n",
              "      <td>NaN</td>\n",
              "      <td>4.000000</td>\n",
              "      <td>NaN</td>\n",
              "      <td>7.000000</td>\n",
              "      <td>6.000000</td>\n",
              "      <td>7.000000</td>\n",
              "      <td>7.000000</td>\n",
              "      <td>7.000000</td>\n",
              "      <td>6.000000</td>\n",
              "      <td>6.000000</td>\n",
              "      <td>6.000000</td>\n",
              "      <td>7.000000</td>\n",
              "      <td>8.000000</td>\n",
              "      <td>8.000000</td>\n",
              "      <td>7.000000</td>\n",
              "      <td>8.000000</td>\n",
              "      <td>6.000000</td>\n",
              "      <td>NaN</td>\n",
              "      <td>0.000000</td>\n",
              "    </tr>\n",
              "    <tr>\n",
              "      <th>75%</th>\n",
              "      <td>732406.000000</td>\n",
              "      <td>NaN</td>\n",
              "      <td>5.000000</td>\n",
              "      <td>NaN</td>\n",
              "      <td>8.000000</td>\n",
              "      <td>8.000000</td>\n",
              "      <td>8.000000</td>\n",
              "      <td>8.000000</td>\n",
              "      <td>8.000000</td>\n",
              "      <td>8.000000</td>\n",
              "      <td>8.000000</td>\n",
              "      <td>8.000000</td>\n",
              "      <td>8.000000</td>\n",
              "      <td>9.000000</td>\n",
              "      <td>9.000000</td>\n",
              "      <td>8.000000</td>\n",
              "      <td>9.000000</td>\n",
              "      <td>8.000000</td>\n",
              "      <td>NaN</td>\n",
              "      <td>0.000000</td>\n",
              "    </tr>\n",
              "    <tr>\n",
              "      <th>max</th>\n",
              "      <td>980961.000000</td>\n",
              "      <td>NaN</td>\n",
              "      <td>5.000000</td>\n",
              "      <td>NaN</td>\n",
              "      <td>10.000000</td>\n",
              "      <td>10.000000</td>\n",
              "      <td>10.000000</td>\n",
              "      <td>10.000000</td>\n",
              "      <td>10.000000</td>\n",
              "      <td>10.000000</td>\n",
              "      <td>10.000000</td>\n",
              "      <td>10.000000</td>\n",
              "      <td>10.000000</td>\n",
              "      <td>10.000000</td>\n",
              "      <td>10.000000</td>\n",
              "      <td>10.000000</td>\n",
              "      <td>10.000000</td>\n",
              "      <td>10.000000</td>\n",
              "      <td>NaN</td>\n",
              "      <td>1.000000</td>\n",
              "    </tr>\n",
              "  </tbody>\n",
              "</table>\n",
              "</div>"
            ],
            "text/plain": [
              "            player ID Batting Avg.  ...  Region Not selected\n",
              "count      195.000000          195  ...     195   195.000000\n",
              "unique            NaN            7  ...      10          NaN\n",
              "top               NaN            1  ...    RGB8          NaN\n",
              "freq              NaN           45  ...      25          NaN\n",
              "mean    532440.825641          NaN  ...     NaN     0.148718\n",
              "std     246776.419211          NaN  ...     NaN     0.356726\n",
              "min     103045.000000          NaN  ...     NaN     0.000000\n",
              "25%     336293.000000          NaN  ...     NaN     0.000000\n",
              "50%     512274.000000          NaN  ...     NaN     0.000000\n",
              "75%     732406.000000          NaN  ...     NaN     0.000000\n",
              "max     980961.000000          NaN  ...     NaN     1.000000\n",
              "\n",
              "[11 rows x 20 columns]"
            ]
          },
          "metadata": {
            "tags": []
          },
          "execution_count": 61
        }
      ]
    },
    {
      "cell_type": "markdown",
      "metadata": {
        "id": "Bap9Su-WSM3F"
      },
      "source": [
        "# **Train and Test Data**"
      ]
    },
    {
      "cell_type": "code",
      "metadata": {
        "id": "Bg9-wGWIS4ba"
      },
      "source": [
        "enc=OrdinalEncoder(dtype=np.int32)\n",
        "train.Region = enc.fit_transform(train[['Region']])\n",
        "test.Region = enc.transform(test[['Region']])"
      ],
      "execution_count": 62,
      "outputs": []
    },
    {
      "cell_type": "code",
      "metadata": {
        "id": "Ig0HrAwQcSVI"
      },
      "source": [
        "train=train[(train['Batting Avg.']!='na') & (train['L/R Handed Batsman']!='na')]\n",
        "train.loc[train['L/R Handed Batsman']=='*','L/R Handed Batsman']=3\n",
        "test.loc[test['L/R Handed Batsman']=='*','L/R Handed Batsman']=3\n",
        "train=train.astype(np.int64)\n",
        "test=test.astype(np.int64)"
      ],
      "execution_count": 63,
      "outputs": []
    },
    {
      "cell_type": "code",
      "metadata": {
        "id": "oeCuHNoWSMSw"
      },
      "source": [
        "X_train, X_test, Y_train, Y_test = train_test_split(train.drop(['player ID','Not selected'],axis=1),train['Not selected'], test_size=0.1, random_state=2020)"
      ],
      "execution_count": 64,
      "outputs": []
    },
    {
      "cell_type": "markdown",
      "metadata": {
        "id": "O3i8UnNsRnd_"
      },
      "source": [
        "# **Models**"
      ]
    },
    {
      "cell_type": "markdown",
      "metadata": {
        "id": "qFjdBNpQp0Ld"
      },
      "source": [
        "## **Model1(Logistic Regression)**"
      ]
    },
    {
      "cell_type": "code",
      "metadata": {
        "id": "r4nwiYJpRm2v",
        "outputId": "1b72685c-5ddf-422f-ae2c-e270b4a685fb",
        "colab": {
          "base_uri": "https://localhost:8080/",
          "height": 101
        }
      },
      "source": [
        "model=LogisticRegression()\n",
        "model.fit(X_train,Y_train)"
      ],
      "execution_count": 19,
      "outputs": [
        {
          "output_type": "execute_result",
          "data": {
            "text/plain": [
              "LogisticRegression(C=1.0, class_weight=None, dual=False, fit_intercept=True,\n",
              "                   intercept_scaling=1, l1_ratio=None, max_iter=100,\n",
              "                   multi_class='auto', n_jobs=None, penalty='l2',\n",
              "                   random_state=None, solver='lbfgs', tol=0.0001, verbose=0,\n",
              "                   warm_start=False)"
            ]
          },
          "metadata": {
            "tags": []
          },
          "execution_count": 19
        }
      ]
    },
    {
      "cell_type": "markdown",
      "metadata": {
        "id": "41DxKn_DqeeB"
      },
      "source": [
        "## **Model2(Random Forest)**"
      ]
    },
    {
      "cell_type": "code",
      "metadata": {
        "id": "Dl-hofSbd5sA",
        "outputId": "95d75de4-b174-4dcb-9b9d-3e23e54ea2b8",
        "colab": {
          "base_uri": "https://localhost:8080/",
          "height": 151
        }
      },
      "source": [
        "model=RandomForestClassifier()\n",
        "model.fit(X_train,Y_train)"
      ],
      "execution_count": 22,
      "outputs": [
        {
          "output_type": "execute_result",
          "data": {
            "text/plain": [
              "RandomForestClassifier(bootstrap=True, ccp_alpha=0.0, class_weight=None,\n",
              "                       criterion='gini', max_depth=None, max_features='auto',\n",
              "                       max_leaf_nodes=None, max_samples=None,\n",
              "                       min_impurity_decrease=0.0, min_impurity_split=None,\n",
              "                       min_samples_leaf=1, min_samples_split=2,\n",
              "                       min_weight_fraction_leaf=0.0, n_estimators=100,\n",
              "                       n_jobs=None, oob_score=False, random_state=None,\n",
              "                       verbose=0, warm_start=False)"
            ]
          },
          "metadata": {
            "tags": []
          },
          "execution_count": 22
        }
      ]
    },
    {
      "cell_type": "markdown",
      "metadata": {
        "id": "L2sVPZYc4XyY"
      },
      "source": [
        "## **Model3(XGBoost)**"
      ]
    },
    {
      "cell_type": "code",
      "metadata": {
        "id": "acpekUtl4hP8"
      },
      "source": [
        "model = xgb.XGBClassifier() \n",
        "model.fit(X_train, Y_train) \n",
        "   \n",
        "# Predicting the Test set results \n",
        "y_pred = model.predict(X_test) \n",
        "   \n",
        "# Making the Confusion Matrix \n",
        "from sklearn.metrics import confusion_matrix \n",
        "cm = confusion_matrix(Y_test, y_pred) "
      ],
      "execution_count": 43,
      "outputs": []
    },
    {
      "cell_type": "markdown",
      "metadata": {
        "id": "1G3qyzIC8TGZ"
      },
      "source": [
        "## **Model4(Gradient Boosting)**"
      ]
    },
    {
      "cell_type": "code",
      "metadata": {
        "id": "_kwNuel48icV"
      },
      "source": [
        ""
      ],
      "execution_count": null,
      "outputs": []
    },
    {
      "cell_type": "markdown",
      "metadata": {
        "id": "vnbDMNNDoDq9"
      },
      "source": [
        "## **Model5(AdaBoosting)**"
      ]
    },
    {
      "cell_type": "code",
      "metadata": {
        "id": "Mx7T5LZ2oLE5"
      },
      "source": [
        "bmodel = DecisionTreeClassifier(criterion=\"entropy\",max_depth=1)\n",
        "AdaBoost = AdaBoostClassifier(base_estimator=bmodel,n_estimators=400,learning_rate=0.5)\n",
        "model=AdaBoost.fit(X_train,Y_train)"
      ],
      "execution_count": 70,
      "outputs": []
    },
    {
      "cell_type": "markdown",
      "metadata": {
        "id": "nbeeRdMj3swR"
      },
      "source": [
        "# **Score**"
      ]
    },
    {
      "cell_type": "code",
      "metadata": {
        "id": "Qt_Ionuz3vds",
        "outputId": "d27cc61f-a3c5-4e63-d709-aac01f96df46",
        "colab": {
          "base_uri": "https://localhost:8080/",
          "height": 34
        }
      },
      "source": [
        "fpr,tpr,thresholds = metrics.roc_curve(Y_test,model.predict(X_test),pos_label=1)\n",
        "metrics.auc(fpr, tpr)"
      ],
      "execution_count": 71,
      "outputs": [
        {
          "output_type": "execute_result",
          "data": {
            "text/plain": [
              "0.7222222222222221"
            ]
          },
          "metadata": {
            "tags": []
          },
          "execution_count": 71
        }
      ]
    },
    {
      "cell_type": "markdown",
      "metadata": {
        "id": "rEdqi38zfInO"
      },
      "source": [
        "# **Submit file creator**"
      ]
    },
    {
      "cell_type": "code",
      "metadata": {
        "id": "NO_TZ-eIkEZk",
        "outputId": "abf98099-d471-4499-f989-4027be58b2e2",
        "colab": {
          "base_uri": "https://localhost:8080/",
          "height": 286
        }
      },
      "source": [
        "model.fit(train.drop(['player ID','Not selected'],axis=1),train['Not selected'])"
      ],
      "execution_count": 72,
      "outputs": [
        {
          "output_type": "execute_result",
          "data": {
            "text/plain": [
              "AdaBoostClassifier(algorithm='SAMME.R',\n",
              "                   base_estimator=DecisionTreeClassifier(ccp_alpha=0.0,\n",
              "                                                         class_weight=None,\n",
              "                                                         criterion='entropy',\n",
              "                                                         max_depth=1,\n",
              "                                                         max_features=None,\n",
              "                                                         max_leaf_nodes=None,\n",
              "                                                         min_impurity_decrease=0.0,\n",
              "                                                         min_impurity_split=None,\n",
              "                                                         min_samples_leaf=1,\n",
              "                                                         min_samples_split=2,\n",
              "                                                         min_weight_fraction_leaf=0.0,\n",
              "                                                         presort='deprecated',\n",
              "                                                         random_state=None,\n",
              "                                                         splitter='best'),\n",
              "                   learning_rate=0.5, n_estimators=400, random_state=None)"
            ]
          },
          "metadata": {
            "tags": []
          },
          "execution_count": 72
        }
      ]
    },
    {
      "cell_type": "code",
      "metadata": {
        "id": "_bGrx0sjfGtr"
      },
      "source": [
        "y_pred=pd.Series(model.predict(test.drop(['player ID'],axis=1)),name='not selected')\n",
        "result=pd.merge(test['player ID'],y_pred,right_index = True,left_index = True)\n",
        "result.to_csv('Terminators.csv',index=False,header=['Player id','not selected'])"
      ],
      "execution_count": 73,
      "outputs": []
    },
    {
      "cell_type": "code",
      "metadata": {
        "id": "hSu9QZRomAoO",
        "outputId": "272156f1-fca1-4c5c-cc35-f74cf69fb54f",
        "colab": {
          "base_uri": "https://localhost:8080/",
          "height": 195
        }
      },
      "source": [
        "result.head()"
      ],
      "execution_count": 74,
      "outputs": [
        {
          "output_type": "execute_result",
          "data": {
            "text/html": [
              "<div>\n",
              "<style scoped>\n",
              "    .dataframe tbody tr th:only-of-type {\n",
              "        vertical-align: middle;\n",
              "    }\n",
              "\n",
              "    .dataframe tbody tr th {\n",
              "        vertical-align: top;\n",
              "    }\n",
              "\n",
              "    .dataframe thead th {\n",
              "        text-align: right;\n",
              "    }\n",
              "</style>\n",
              "<table border=\"1\" class=\"dataframe\">\n",
              "  <thead>\n",
              "    <tr style=\"text-align: right;\">\n",
              "      <th></th>\n",
              "      <th>player ID</th>\n",
              "      <th>not selected</th>\n",
              "    </tr>\n",
              "  </thead>\n",
              "  <tbody>\n",
              "    <tr>\n",
              "      <th>0</th>\n",
              "      <td>943412</td>\n",
              "      <td>0</td>\n",
              "    </tr>\n",
              "    <tr>\n",
              "      <th>1</th>\n",
              "      <td>891010</td>\n",
              "      <td>0</td>\n",
              "    </tr>\n",
              "    <tr>\n",
              "      <th>2</th>\n",
              "      <td>232982</td>\n",
              "      <td>0</td>\n",
              "    </tr>\n",
              "    <tr>\n",
              "      <th>3</th>\n",
              "      <td>762647</td>\n",
              "      <td>0</td>\n",
              "    </tr>\n",
              "    <tr>\n",
              "      <th>4</th>\n",
              "      <td>882052</td>\n",
              "      <td>0</td>\n",
              "    </tr>\n",
              "  </tbody>\n",
              "</table>\n",
              "</div>"
            ],
            "text/plain": [
              "   player ID  not selected\n",
              "0     943412             0\n",
              "1     891010             0\n",
              "2     232982             0\n",
              "3     762647             0\n",
              "4     882052             0"
            ]
          },
          "metadata": {
            "tags": []
          },
          "execution_count": 74
        }
      ]
    },
    {
      "cell_type": "code",
      "metadata": {
        "id": "OknXo8nvq44O",
        "outputId": "88665c3d-72cf-4a9d-fb69-0ee8fdae7061",
        "colab": {
          "base_uri": "https://localhost:8080/",
          "height": 195
        }
      },
      "source": [
        "sub.head()"
      ],
      "execution_count": 75,
      "outputs": [
        {
          "output_type": "execute_result",
          "data": {
            "text/html": [
              "<div>\n",
              "<style scoped>\n",
              "    .dataframe tbody tr th:only-of-type {\n",
              "        vertical-align: middle;\n",
              "    }\n",
              "\n",
              "    .dataframe tbody tr th {\n",
              "        vertical-align: top;\n",
              "    }\n",
              "\n",
              "    .dataframe thead th {\n",
              "        text-align: right;\n",
              "    }\n",
              "</style>\n",
              "<table border=\"1\" class=\"dataframe\">\n",
              "  <thead>\n",
              "    <tr style=\"text-align: right;\">\n",
              "      <th></th>\n",
              "      <th>Player id</th>\n",
              "      <th>not selected</th>\n",
              "    </tr>\n",
              "  </thead>\n",
              "  <tbody>\n",
              "    <tr>\n",
              "      <th>0</th>\n",
              "      <td>123958</td>\n",
              "      <td>0</td>\n",
              "    </tr>\n",
              "    <tr>\n",
              "      <th>1</th>\n",
              "      <td>562456</td>\n",
              "      <td>0</td>\n",
              "    </tr>\n",
              "    <tr>\n",
              "      <th>2</th>\n",
              "      <td>354686</td>\n",
              "      <td>1</td>\n",
              "    </tr>\n",
              "    <tr>\n",
              "      <th>3</th>\n",
              "      <td>639521</td>\n",
              "      <td>0</td>\n",
              "    </tr>\n",
              "    <tr>\n",
              "      <th>4</th>\n",
              "      <td>741543</td>\n",
              "      <td>1</td>\n",
              "    </tr>\n",
              "  </tbody>\n",
              "</table>\n",
              "</div>"
            ],
            "text/plain": [
              "   Player id  not selected\n",
              "0     123958             0\n",
              "1     562456             0\n",
              "2     354686             1\n",
              "3     639521             0\n",
              "4     741543             1"
            ]
          },
          "metadata": {
            "tags": []
          },
          "execution_count": 75
        }
      ]
    },
    {
      "cell_type": "code",
      "metadata": {
        "id": "byJuu1MdqM0m"
      },
      "source": [
        ""
      ],
      "execution_count": null,
      "outputs": []
    }
  ]
}