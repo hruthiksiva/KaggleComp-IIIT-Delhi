{
  "nbformat": 4,
  "nbformat_minor": 0,
  "metadata": {
    "colab": {
      "name": "Untitled0.ipynb",
      "provenance": [],
      "collapsed_sections": [
        "qFjdBNpQp0Ld"
      ],
      "toc_visible": true,
      "include_colab_link": true
    },
    "kernelspec": {
      "name": "python3",
      "display_name": "Python 3"
    }
  },
  "cells": [
    {
      "cell_type": "markdown",
      "metadata": {
        "id": "view-in-github",
        "colab_type": "text"
      },
      "source": [
        "<a href=\"https://colab.research.google.com/github/hruthiksiva/KaggleComp-IIIT-Delhi/blob/main/Untitled0.ipynb\" target=\"_parent\"><img src=\"https://colab.research.google.com/assets/colab-badge.svg\" alt=\"Open In Colab\"/></a>"
      ]
    },
    {
      "cell_type": "code",
      "metadata": {
        "id": "Lz4gbtjdOyE1"
      },
      "source": [
        "import pandas as pd\n",
        "import numpy as np\n",
        "from sklearn.preprocessing import OrdinalEncoder\n",
        "from sklearn.model_selection import train_test_split\n",
        "from sklearn import metrics\n",
        "from sklearn.metrics import classification_report,accuracy_score\n",
        "import matplotlib.pyplot as plt"
      ],
      "execution_count": 177,
      "outputs": []
    },
    {
      "cell_type": "code",
      "metadata": {
        "id": "U9Voe-w7P52W",
        "outputId": "08aaafb3-73f8-4339-f105-1da0639629ae",
        "colab": {
          "base_uri": "https://localhost:8080/",
          "height": 50
        }
      },
      "source": [
        "!ls\n",
        "train=pd.read_csv('Train_data_players.csv')\n",
        "test=pd.read_csv('Test_data_player.csv')\n",
        "sub=pd.read_csv('example_submission.csv')"
      ],
      "execution_count": 178,
      "outputs": [
        {
          "output_type": "stream",
          "text": [
            "example_submission.csv\tTest_data_player.csv\n",
            "Terminators.csv\t\tTrain_data_players.csv\n"
          ],
          "name": "stdout"
        }
      ]
    },
    {
      "cell_type": "markdown",
      "metadata": {
        "id": "hKegO6uXWM-v"
      },
      "source": [
        "# **Visualize Data**"
      ]
    },
    {
      "cell_type": "code",
      "metadata": {
        "id": "fX3U2KD0usjA",
        "outputId": "6a5ae0c4-a142-49fa-ba17-8cb645a4c164",
        "colab": {
          "base_uri": "https://localhost:8080/",
          "height": 249
        }
      },
      "source": [
        "train.head()"
      ],
      "execution_count": 179,
      "outputs": [
        {
          "output_type": "execute_result",
          "data": {
            "text/html": [
              "<div>\n",
              "<style scoped>\n",
              "    .dataframe tbody tr th:only-of-type {\n",
              "        vertical-align: middle;\n",
              "    }\n",
              "\n",
              "    .dataframe tbody tr th {\n",
              "        vertical-align: top;\n",
              "    }\n",
              "\n",
              "    .dataframe thead th {\n",
              "        text-align: right;\n",
              "    }\n",
              "</style>\n",
              "<table border=\"1\" class=\"dataframe\">\n",
              "  <thead>\n",
              "    <tr style=\"text-align: right;\">\n",
              "      <th></th>\n",
              "      <th>player ID</th>\n",
              "      <th>Batting Avg.</th>\n",
              "      <th>Strike rate</th>\n",
              "      <th>L/R Handed Batsman</th>\n",
              "      <th>Wicket keeping</th>\n",
              "      <th>economy</th>\n",
              "      <th>avg speed</th>\n",
              "      <th>fitness index</th>\n",
              "      <th>Sixes</th>\n",
              "      <th>fours</th>\n",
              "      <th>Fast bowling</th>\n",
              "      <th>Leg Spin</th>\n",
              "      <th>Off Spin</th>\n",
              "      <th>against fast bowl</th>\n",
              "      <th>against leg spin</th>\n",
              "      <th>against off spin</th>\n",
              "      <th>Fanbase</th>\n",
              "      <th>Catch percentage</th>\n",
              "      <th>Region</th>\n",
              "      <th>Not selected</th>\n",
              "    </tr>\n",
              "  </thead>\n",
              "  <tbody>\n",
              "    <tr>\n",
              "      <th>0</th>\n",
              "      <td>246048</td>\n",
              "      <td>1</td>\n",
              "      <td>4</td>\n",
              "      <td>2</td>\n",
              "      <td>6</td>\n",
              "      <td>5</td>\n",
              "      <td>6</td>\n",
              "      <td>6</td>\n",
              "      <td>6</td>\n",
              "      <td>6</td>\n",
              "      <td>6</td>\n",
              "      <td>5</td>\n",
              "      <td>6</td>\n",
              "      <td>7</td>\n",
              "      <td>7</td>\n",
              "      <td>5</td>\n",
              "      <td>7</td>\n",
              "      <td>6</td>\n",
              "      <td>RGB7</td>\n",
              "      <td>0</td>\n",
              "    </tr>\n",
              "    <tr>\n",
              "      <th>1</th>\n",
              "      <td>387987</td>\n",
              "      <td>1</td>\n",
              "      <td>2</td>\n",
              "      <td>1</td>\n",
              "      <td>5</td>\n",
              "      <td>7</td>\n",
              "      <td>10</td>\n",
              "      <td>10</td>\n",
              "      <td>6</td>\n",
              "      <td>2</td>\n",
              "      <td>7</td>\n",
              "      <td>3</td>\n",
              "      <td>7</td>\n",
              "      <td>8</td>\n",
              "      <td>9</td>\n",
              "      <td>6</td>\n",
              "      <td>6</td>\n",
              "      <td>9</td>\n",
              "      <td>RGB10</td>\n",
              "      <td>1</td>\n",
              "    </tr>\n",
              "    <tr>\n",
              "      <th>2</th>\n",
              "      <td>788442</td>\n",
              "      <td>3</td>\n",
              "      <td>4</td>\n",
              "      <td>1</td>\n",
              "      <td>5</td>\n",
              "      <td>7</td>\n",
              "      <td>2</td>\n",
              "      <td>5</td>\n",
              "      <td>3</td>\n",
              "      <td>5</td>\n",
              "      <td>5</td>\n",
              "      <td>5</td>\n",
              "      <td>3</td>\n",
              "      <td>7</td>\n",
              "      <td>7</td>\n",
              "      <td>5</td>\n",
              "      <td>7</td>\n",
              "      <td>7</td>\n",
              "      <td>RGB6</td>\n",
              "      <td>0</td>\n",
              "    </tr>\n",
              "    <tr>\n",
              "      <th>3</th>\n",
              "      <td>465918</td>\n",
              "      <td>0</td>\n",
              "      <td>5</td>\n",
              "      <td>1</td>\n",
              "      <td>7</td>\n",
              "      <td>5</td>\n",
              "      <td>6</td>\n",
              "      <td>5</td>\n",
              "      <td>9</td>\n",
              "      <td>4</td>\n",
              "      <td>6</td>\n",
              "      <td>5</td>\n",
              "      <td>8</td>\n",
              "      <td>7</td>\n",
              "      <td>9</td>\n",
              "      <td>5</td>\n",
              "      <td>7</td>\n",
              "      <td>6</td>\n",
              "      <td>RGB8</td>\n",
              "      <td>0</td>\n",
              "    </tr>\n",
              "    <tr>\n",
              "      <th>4</th>\n",
              "      <td>295804</td>\n",
              "      <td>0</td>\n",
              "      <td>5</td>\n",
              "      <td>1</td>\n",
              "      <td>6</td>\n",
              "      <td>7</td>\n",
              "      <td>7</td>\n",
              "      <td>7</td>\n",
              "      <td>9</td>\n",
              "      <td>5</td>\n",
              "      <td>7</td>\n",
              "      <td>7</td>\n",
              "      <td>7</td>\n",
              "      <td>8</td>\n",
              "      <td>8</td>\n",
              "      <td>8</td>\n",
              "      <td>9</td>\n",
              "      <td>5</td>\n",
              "      <td>RGB1</td>\n",
              "      <td>0</td>\n",
              "    </tr>\n",
              "  </tbody>\n",
              "</table>\n",
              "</div>"
            ],
            "text/plain": [
              "   player ID Batting Avg.  Strike rate  ... Catch percentage  Region  Not selected\n",
              "0     246048            1            4  ...                6    RGB7             0\n",
              "1     387987            1            2  ...                9   RGB10             1\n",
              "2     788442            3            4  ...                7    RGB6             0\n",
              "3     465918            0            5  ...                6    RGB8             0\n",
              "4     295804            0            5  ...                5    RGB1             0\n",
              "\n",
              "[5 rows x 20 columns]"
            ]
          },
          "metadata": {
            "tags": []
          },
          "execution_count": 179
        }
      ]
    },
    {
      "cell_type": "code",
      "metadata": {
        "id": "CGN1-2Rku43H",
        "outputId": "61a42611-faeb-44de-cd8d-2556375af8ec",
        "colab": {
          "base_uri": "https://localhost:8080/",
          "height": 34
        }
      },
      "source": [
        "enc=OrdinalEncoder()\n",
        "enc.fit(train[['Region']])"
      ],
      "execution_count": 180,
      "outputs": [
        {
          "output_type": "execute_result",
          "data": {
            "text/plain": [
              "OrdinalEncoder(categories='auto', dtype=<class 'numpy.float64'>)"
            ]
          },
          "metadata": {
            "tags": []
          },
          "execution_count": 180
        }
      ]
    },
    {
      "cell_type": "markdown",
      "metadata": {
        "id": "MwMoSuPHRNTh"
      },
      "source": [
        "# **Arena**"
      ]
    },
    {
      "cell_type": "code",
      "metadata": {
        "id": "Wr9kWVLYQn7U",
        "outputId": "76ed46e9-c73d-425c-a019-05e6e42a5326",
        "colab": {
          "base_uri": "https://localhost:8080/",
          "height": 118
        }
      },
      "source": [
        "train.columns"
      ],
      "execution_count": 181,
      "outputs": [
        {
          "output_type": "execute_result",
          "data": {
            "text/plain": [
              "Index(['player ID', 'Batting Avg.', 'Strike rate', 'L/R Handed Batsman',\n",
              "       'Wicket keeping', 'economy', 'avg speed', 'fitness index', 'Sixes',\n",
              "       'fours', 'Fast bowling', 'Leg Spin', 'Off Spin', 'against fast bowl',\n",
              "       'against leg spin', 'against off spin', 'Fanbase', 'Catch percentage',\n",
              "       'Region', 'Not selected'],\n",
              "      dtype='object')"
            ]
          },
          "metadata": {
            "tags": []
          },
          "execution_count": 181
        }
      ]
    },
    {
      "cell_type": "code",
      "metadata": {
        "id": "8Ea0BtURQs2Z",
        "outputId": "119df929-784e-4e26-9721-0f265d4d96a1",
        "colab": {
          "base_uri": "https://localhost:8080/",
          "height": 249
        }
      },
      "source": [
        "test.head()"
      ],
      "execution_count": 182,
      "outputs": [
        {
          "output_type": "execute_result",
          "data": {
            "text/html": [
              "<div>\n",
              "<style scoped>\n",
              "    .dataframe tbody tr th:only-of-type {\n",
              "        vertical-align: middle;\n",
              "    }\n",
              "\n",
              "    .dataframe tbody tr th {\n",
              "        vertical-align: top;\n",
              "    }\n",
              "\n",
              "    .dataframe thead th {\n",
              "        text-align: right;\n",
              "    }\n",
              "</style>\n",
              "<table border=\"1\" class=\"dataframe\">\n",
              "  <thead>\n",
              "    <tr style=\"text-align: right;\">\n",
              "      <th></th>\n",
              "      <th>player ID</th>\n",
              "      <th>Batting Avg.</th>\n",
              "      <th>Strike rate</th>\n",
              "      <th>L/R Handed Batsman</th>\n",
              "      <th>Wicket keeping</th>\n",
              "      <th>economy</th>\n",
              "      <th>avg speed</th>\n",
              "      <th>fitness index</th>\n",
              "      <th>Sixes</th>\n",
              "      <th>fours</th>\n",
              "      <th>Fast bowling</th>\n",
              "      <th>Leg Spin</th>\n",
              "      <th>Off Spin</th>\n",
              "      <th>against fast bowl</th>\n",
              "      <th>against leg spin</th>\n",
              "      <th>against off spin</th>\n",
              "      <th>Fanbase</th>\n",
              "      <th>Catch percentage</th>\n",
              "      <th>Region</th>\n",
              "    </tr>\n",
              "  </thead>\n",
              "  <tbody>\n",
              "    <tr>\n",
              "      <th>0</th>\n",
              "      <td>943412</td>\n",
              "      <td>0</td>\n",
              "      <td>5</td>\n",
              "      <td>1</td>\n",
              "      <td>5</td>\n",
              "      <td>3</td>\n",
              "      <td>8</td>\n",
              "      <td>10</td>\n",
              "      <td>8</td>\n",
              "      <td>5</td>\n",
              "      <td>8</td>\n",
              "      <td>8</td>\n",
              "      <td>4</td>\n",
              "      <td>10</td>\n",
              "      <td>10</td>\n",
              "      <td>9</td>\n",
              "      <td>10</td>\n",
              "      <td>6</td>\n",
              "      <td>RGB6</td>\n",
              "    </tr>\n",
              "    <tr>\n",
              "      <th>1</th>\n",
              "      <td>891010</td>\n",
              "      <td>0</td>\n",
              "      <td>5</td>\n",
              "      <td>1</td>\n",
              "      <td>5</td>\n",
              "      <td>5</td>\n",
              "      <td>6</td>\n",
              "      <td>5</td>\n",
              "      <td>5</td>\n",
              "      <td>5</td>\n",
              "      <td>5</td>\n",
              "      <td>6</td>\n",
              "      <td>5</td>\n",
              "      <td>4</td>\n",
              "      <td>6</td>\n",
              "      <td>6</td>\n",
              "      <td>5</td>\n",
              "      <td>5</td>\n",
              "      <td>RGB10</td>\n",
              "    </tr>\n",
              "    <tr>\n",
              "      <th>2</th>\n",
              "      <td>232982</td>\n",
              "      <td>2</td>\n",
              "      <td>3</td>\n",
              "      <td>1</td>\n",
              "      <td>8</td>\n",
              "      <td>6</td>\n",
              "      <td>8</td>\n",
              "      <td>6</td>\n",
              "      <td>4</td>\n",
              "      <td>5</td>\n",
              "      <td>3</td>\n",
              "      <td>5</td>\n",
              "      <td>8</td>\n",
              "      <td>7</td>\n",
              "      <td>4</td>\n",
              "      <td>7</td>\n",
              "      <td>9</td>\n",
              "      <td>5</td>\n",
              "      <td>RGB7</td>\n",
              "    </tr>\n",
              "    <tr>\n",
              "      <th>3</th>\n",
              "      <td>762647</td>\n",
              "      <td>3</td>\n",
              "      <td>4</td>\n",
              "      <td>1</td>\n",
              "      <td>8</td>\n",
              "      <td>6</td>\n",
              "      <td>8</td>\n",
              "      <td>8</td>\n",
              "      <td>7</td>\n",
              "      <td>6</td>\n",
              "      <td>6</td>\n",
              "      <td>6</td>\n",
              "      <td>7</td>\n",
              "      <td>7</td>\n",
              "      <td>8</td>\n",
              "      <td>7</td>\n",
              "      <td>7</td>\n",
              "      <td>7</td>\n",
              "      <td>RGB6</td>\n",
              "    </tr>\n",
              "    <tr>\n",
              "      <th>4</th>\n",
              "      <td>882052</td>\n",
              "      <td>6</td>\n",
              "      <td>4</td>\n",
              "      <td>2</td>\n",
              "      <td>9</td>\n",
              "      <td>6</td>\n",
              "      <td>7</td>\n",
              "      <td>7</td>\n",
              "      <td>9</td>\n",
              "      <td>4</td>\n",
              "      <td>3</td>\n",
              "      <td>7</td>\n",
              "      <td>8</td>\n",
              "      <td>10</td>\n",
              "      <td>9</td>\n",
              "      <td>7</td>\n",
              "      <td>8</td>\n",
              "      <td>6</td>\n",
              "      <td>RGB3</td>\n",
              "    </tr>\n",
              "  </tbody>\n",
              "</table>\n",
              "</div>"
            ],
            "text/plain": [
              "   player ID  Batting Avg.  Strike rate  ... Fanbase  Catch percentage  Region\n",
              "0     943412             0            5  ...      10                 6    RGB6\n",
              "1     891010             0            5  ...       5                 5   RGB10\n",
              "2     232982             2            3  ...       9                 5    RGB7\n",
              "3     762647             3            4  ...       7                 7    RGB6\n",
              "4     882052             6            4  ...       8                 6    RGB3\n",
              "\n",
              "[5 rows x 19 columns]"
            ]
          },
          "metadata": {
            "tags": []
          },
          "execution_count": 182
        }
      ]
    },
    {
      "cell_type": "code",
      "metadata": {
        "id": "-dSkAk3Ka29q"
      },
      "source": [
        "train=train.infer_objects()"
      ],
      "execution_count": 183,
      "outputs": []
    },
    {
      "cell_type": "code",
      "metadata": {
        "id": "P2MHKN2lSdI2",
        "outputId": "ea5bb16f-4e5d-417f-9988-cab4a698e321",
        "colab": {
          "base_uri": "https://localhost:8080/",
          "height": 470
        }
      },
      "source": [
        "train.info()"
      ],
      "execution_count": 184,
      "outputs": [
        {
          "output_type": "stream",
          "text": [
            "<class 'pandas.core.frame.DataFrame'>\n",
            "RangeIndex: 195 entries, 0 to 194\n",
            "Data columns (total 20 columns):\n",
            " #   Column              Non-Null Count  Dtype \n",
            "---  ------              --------------  ----- \n",
            " 0   player ID           195 non-null    int64 \n",
            " 1   Batting Avg.        195 non-null    object\n",
            " 2   Strike rate         195 non-null    int64 \n",
            " 3   L/R Handed Batsman  195 non-null    object\n",
            " 4   Wicket keeping      195 non-null    int64 \n",
            " 5   economy             195 non-null    int64 \n",
            " 6   avg speed           195 non-null    int64 \n",
            " 7   fitness index       195 non-null    int64 \n",
            " 8   Sixes               195 non-null    int64 \n",
            " 9   fours               195 non-null    int64 \n",
            " 10  Fast bowling        195 non-null    int64 \n",
            " 11  Leg Spin            195 non-null    int64 \n",
            " 12  Off Spin            195 non-null    int64 \n",
            " 13  against fast bowl   195 non-null    int64 \n",
            " 14  against leg spin    195 non-null    int64 \n",
            " 15  against off spin    195 non-null    int64 \n",
            " 16  Fanbase             195 non-null    int64 \n",
            " 17  Catch percentage    195 non-null    int64 \n",
            " 18  Region              195 non-null    object\n",
            " 19  Not selected        195 non-null    int64 \n",
            "dtypes: int64(17), object(3)\n",
            "memory usage: 30.6+ KB\n"
          ],
          "name": "stdout"
        }
      ]
    },
    {
      "cell_type": "code",
      "metadata": {
        "id": "klRPfKd3SvOO",
        "outputId": "133ed843-79aa-4893-a39b-2e44ddf971ce",
        "colab": {
          "base_uri": "https://localhost:8080/",
          "height": 34
        }
      },
      "source": [
        "train['Not selected'].unique()"
      ],
      "execution_count": 185,
      "outputs": [
        {
          "output_type": "execute_result",
          "data": {
            "text/plain": [
              "array([0, 1])"
            ]
          },
          "metadata": {
            "tags": []
          },
          "execution_count": 185
        }
      ]
    },
    {
      "cell_type": "code",
      "metadata": {
        "id": "UD3BD3XkXrHJ",
        "outputId": "b3fa78e3-8dfe-4d56-a530-28dac5060d82",
        "colab": {
          "base_uri": "https://localhost:8080/",
          "height": 34
        }
      },
      "source": [
        "train['L/R Handed Batsman'].unique()"
      ],
      "execution_count": 186,
      "outputs": [
        {
          "output_type": "execute_result",
          "data": {
            "text/plain": [
              "array(['2', '1', '*', 'na'], dtype=object)"
            ]
          },
          "metadata": {
            "tags": []
          },
          "execution_count": 186
        }
      ]
    },
    {
      "cell_type": "code",
      "metadata": {
        "id": "O_hWuDaPabHU",
        "outputId": "6737ca60-ce10-4804-92e2-1904c16f849e",
        "colab": {
          "base_uri": "https://localhost:8080/",
          "height": 218
        }
      },
      "source": [
        "train['Region']"
      ],
      "execution_count": 187,
      "outputs": [
        {
          "output_type": "execute_result",
          "data": {
            "text/plain": [
              "0       RGB7\n",
              "1      RGB10\n",
              "2       RGB6\n",
              "3       RGB8\n",
              "4       RGB1\n",
              "       ...  \n",
              "190     RGB3\n",
              "191     RGB8\n",
              "192     RGB6\n",
              "193     RGB8\n",
              "194     RGB3\n",
              "Name: Region, Length: 195, dtype: object"
            ]
          },
          "metadata": {
            "tags": []
          },
          "execution_count": 187
        }
      ]
    },
    {
      "cell_type": "code",
      "metadata": {
        "id": "ugfGGaTIZ0VM",
        "outputId": "3a7ff396-2e17-4b3b-8a61-9ce0cfc9db92",
        "colab": {
          "base_uri": "https://localhost:8080/",
          "height": 101
        }
      },
      "source": [
        "train[train['Not selected']==3]"
      ],
      "execution_count": 188,
      "outputs": [
        {
          "output_type": "execute_result",
          "data": {
            "text/html": [
              "<div>\n",
              "<style scoped>\n",
              "    .dataframe tbody tr th:only-of-type {\n",
              "        vertical-align: middle;\n",
              "    }\n",
              "\n",
              "    .dataframe tbody tr th {\n",
              "        vertical-align: top;\n",
              "    }\n",
              "\n",
              "    .dataframe thead th {\n",
              "        text-align: right;\n",
              "    }\n",
              "</style>\n",
              "<table border=\"1\" class=\"dataframe\">\n",
              "  <thead>\n",
              "    <tr style=\"text-align: right;\">\n",
              "      <th></th>\n",
              "      <th>player ID</th>\n",
              "      <th>Batting Avg.</th>\n",
              "      <th>Strike rate</th>\n",
              "      <th>L/R Handed Batsman</th>\n",
              "      <th>Wicket keeping</th>\n",
              "      <th>economy</th>\n",
              "      <th>avg speed</th>\n",
              "      <th>fitness index</th>\n",
              "      <th>Sixes</th>\n",
              "      <th>fours</th>\n",
              "      <th>Fast bowling</th>\n",
              "      <th>Leg Spin</th>\n",
              "      <th>Off Spin</th>\n",
              "      <th>against fast bowl</th>\n",
              "      <th>against leg spin</th>\n",
              "      <th>against off spin</th>\n",
              "      <th>Fanbase</th>\n",
              "      <th>Catch percentage</th>\n",
              "      <th>Region</th>\n",
              "      <th>Not selected</th>\n",
              "    </tr>\n",
              "  </thead>\n",
              "  <tbody>\n",
              "  </tbody>\n",
              "</table>\n",
              "</div>"
            ],
            "text/plain": [
              "Empty DataFrame\n",
              "Columns: [player ID, Batting Avg., Strike rate, L/R Handed Batsman, Wicket keeping, economy, avg speed, fitness index, Sixes, fours, Fast bowling, Leg Spin, Off Spin, against fast bowl, against leg spin, against off spin, Fanbase, Catch percentage, Region, Not selected]\n",
              "Index: []"
            ]
          },
          "metadata": {
            "tags": []
          },
          "execution_count": 188
        }
      ]
    },
    {
      "cell_type": "code",
      "metadata": {
        "id": "zcyFeYdcgeVD",
        "outputId": "3e0181e0-611c-41f1-80d3-67a1de07a02c",
        "colab": {
          "base_uri": "https://localhost:8080/",
          "height": 101
        }
      },
      "source": [
        "train[train['Not selected']==3]"
      ],
      "execution_count": 189,
      "outputs": [
        {
          "output_type": "execute_result",
          "data": {
            "text/html": [
              "<div>\n",
              "<style scoped>\n",
              "    .dataframe tbody tr th:only-of-type {\n",
              "        vertical-align: middle;\n",
              "    }\n",
              "\n",
              "    .dataframe tbody tr th {\n",
              "        vertical-align: top;\n",
              "    }\n",
              "\n",
              "    .dataframe thead th {\n",
              "        text-align: right;\n",
              "    }\n",
              "</style>\n",
              "<table border=\"1\" class=\"dataframe\">\n",
              "  <thead>\n",
              "    <tr style=\"text-align: right;\">\n",
              "      <th></th>\n",
              "      <th>player ID</th>\n",
              "      <th>Batting Avg.</th>\n",
              "      <th>Strike rate</th>\n",
              "      <th>L/R Handed Batsman</th>\n",
              "      <th>Wicket keeping</th>\n",
              "      <th>economy</th>\n",
              "      <th>avg speed</th>\n",
              "      <th>fitness index</th>\n",
              "      <th>Sixes</th>\n",
              "      <th>fours</th>\n",
              "      <th>Fast bowling</th>\n",
              "      <th>Leg Spin</th>\n",
              "      <th>Off Spin</th>\n",
              "      <th>against fast bowl</th>\n",
              "      <th>against leg spin</th>\n",
              "      <th>against off spin</th>\n",
              "      <th>Fanbase</th>\n",
              "      <th>Catch percentage</th>\n",
              "      <th>Region</th>\n",
              "      <th>Not selected</th>\n",
              "    </tr>\n",
              "  </thead>\n",
              "  <tbody>\n",
              "  </tbody>\n",
              "</table>\n",
              "</div>"
            ],
            "text/plain": [
              "Empty DataFrame\n",
              "Columns: [player ID, Batting Avg., Strike rate, L/R Handed Batsman, Wicket keeping, economy, avg speed, fitness index, Sixes, fours, Fast bowling, Leg Spin, Off Spin, against fast bowl, against leg spin, against off spin, Fanbase, Catch percentage, Region, Not selected]\n",
              "Index: []"
            ]
          },
          "metadata": {
            "tags": []
          },
          "execution_count": 189
        }
      ]
    },
    {
      "cell_type": "code",
      "metadata": {
        "id": "6i2FP35MTk6f",
        "outputId": "b55c8098-5395-44eb-eb90-e276692e8a78",
        "colab": {
          "base_uri": "https://localhost:8080/",
          "height": 426
        }
      },
      "source": [
        "train.describe(include='all')"
      ],
      "execution_count": 190,
      "outputs": [
        {
          "output_type": "execute_result",
          "data": {
            "text/html": [
              "<div>\n",
              "<style scoped>\n",
              "    .dataframe tbody tr th:only-of-type {\n",
              "        vertical-align: middle;\n",
              "    }\n",
              "\n",
              "    .dataframe tbody tr th {\n",
              "        vertical-align: top;\n",
              "    }\n",
              "\n",
              "    .dataframe thead th {\n",
              "        text-align: right;\n",
              "    }\n",
              "</style>\n",
              "<table border=\"1\" class=\"dataframe\">\n",
              "  <thead>\n",
              "    <tr style=\"text-align: right;\">\n",
              "      <th></th>\n",
              "      <th>player ID</th>\n",
              "      <th>Batting Avg.</th>\n",
              "      <th>Strike rate</th>\n",
              "      <th>L/R Handed Batsman</th>\n",
              "      <th>Wicket keeping</th>\n",
              "      <th>economy</th>\n",
              "      <th>avg speed</th>\n",
              "      <th>fitness index</th>\n",
              "      <th>Sixes</th>\n",
              "      <th>fours</th>\n",
              "      <th>Fast bowling</th>\n",
              "      <th>Leg Spin</th>\n",
              "      <th>Off Spin</th>\n",
              "      <th>against fast bowl</th>\n",
              "      <th>against leg spin</th>\n",
              "      <th>against off spin</th>\n",
              "      <th>Fanbase</th>\n",
              "      <th>Catch percentage</th>\n",
              "      <th>Region</th>\n",
              "      <th>Not selected</th>\n",
              "    </tr>\n",
              "  </thead>\n",
              "  <tbody>\n",
              "    <tr>\n",
              "      <th>count</th>\n",
              "      <td>195.000000</td>\n",
              "      <td>195</td>\n",
              "      <td>195.000000</td>\n",
              "      <td>195</td>\n",
              "      <td>195.000000</td>\n",
              "      <td>195.000000</td>\n",
              "      <td>195.000000</td>\n",
              "      <td>195.000000</td>\n",
              "      <td>195.000000</td>\n",
              "      <td>195.000000</td>\n",
              "      <td>195.000000</td>\n",
              "      <td>195.000000</td>\n",
              "      <td>195.000000</td>\n",
              "      <td>195.000000</td>\n",
              "      <td>195.000000</td>\n",
              "      <td>195.000000</td>\n",
              "      <td>195.000000</td>\n",
              "      <td>195.000000</td>\n",
              "      <td>195</td>\n",
              "      <td>195.000000</td>\n",
              "    </tr>\n",
              "    <tr>\n",
              "      <th>unique</th>\n",
              "      <td>NaN</td>\n",
              "      <td>7</td>\n",
              "      <td>NaN</td>\n",
              "      <td>4</td>\n",
              "      <td>NaN</td>\n",
              "      <td>NaN</td>\n",
              "      <td>NaN</td>\n",
              "      <td>NaN</td>\n",
              "      <td>NaN</td>\n",
              "      <td>NaN</td>\n",
              "      <td>NaN</td>\n",
              "      <td>NaN</td>\n",
              "      <td>NaN</td>\n",
              "      <td>NaN</td>\n",
              "      <td>NaN</td>\n",
              "      <td>NaN</td>\n",
              "      <td>NaN</td>\n",
              "      <td>NaN</td>\n",
              "      <td>10</td>\n",
              "      <td>NaN</td>\n",
              "    </tr>\n",
              "    <tr>\n",
              "      <th>top</th>\n",
              "      <td>NaN</td>\n",
              "      <td>1</td>\n",
              "      <td>NaN</td>\n",
              "      <td>1</td>\n",
              "      <td>NaN</td>\n",
              "      <td>NaN</td>\n",
              "      <td>NaN</td>\n",
              "      <td>NaN</td>\n",
              "      <td>NaN</td>\n",
              "      <td>NaN</td>\n",
              "      <td>NaN</td>\n",
              "      <td>NaN</td>\n",
              "      <td>NaN</td>\n",
              "      <td>NaN</td>\n",
              "      <td>NaN</td>\n",
              "      <td>NaN</td>\n",
              "      <td>NaN</td>\n",
              "      <td>NaN</td>\n",
              "      <td>RGB8</td>\n",
              "      <td>NaN</td>\n",
              "    </tr>\n",
              "    <tr>\n",
              "      <th>freq</th>\n",
              "      <td>NaN</td>\n",
              "      <td>45</td>\n",
              "      <td>NaN</td>\n",
              "      <td>122</td>\n",
              "      <td>NaN</td>\n",
              "      <td>NaN</td>\n",
              "      <td>NaN</td>\n",
              "      <td>NaN</td>\n",
              "      <td>NaN</td>\n",
              "      <td>NaN</td>\n",
              "      <td>NaN</td>\n",
              "      <td>NaN</td>\n",
              "      <td>NaN</td>\n",
              "      <td>NaN</td>\n",
              "      <td>NaN</td>\n",
              "      <td>NaN</td>\n",
              "      <td>NaN</td>\n",
              "      <td>NaN</td>\n",
              "      <td>25</td>\n",
              "      <td>NaN</td>\n",
              "    </tr>\n",
              "    <tr>\n",
              "      <th>mean</th>\n",
              "      <td>532440.825641</td>\n",
              "      <td>NaN</td>\n",
              "      <td>3.630769</td>\n",
              "      <td>NaN</td>\n",
              "      <td>6.769231</td>\n",
              "      <td>6.410256</td>\n",
              "      <td>6.825641</td>\n",
              "      <td>6.748718</td>\n",
              "      <td>6.548718</td>\n",
              "      <td>5.928205</td>\n",
              "      <td>6.184615</td>\n",
              "      <td>6.133333</td>\n",
              "      <td>6.271795</td>\n",
              "      <td>7.210256</td>\n",
              "      <td>7.558974</td>\n",
              "      <td>6.441026</td>\n",
              "      <td>7.379487</td>\n",
              "      <td>6.261538</td>\n",
              "      <td>NaN</td>\n",
              "      <td>0.148718</td>\n",
              "    </tr>\n",
              "    <tr>\n",
              "      <th>std</th>\n",
              "      <td>246776.419211</td>\n",
              "      <td>NaN</td>\n",
              "      <td>1.087453</td>\n",
              "      <td>NaN</td>\n",
              "      <td>2.252851</td>\n",
              "      <td>2.448626</td>\n",
              "      <td>2.098197</td>\n",
              "      <td>2.320557</td>\n",
              "      <td>2.534593</td>\n",
              "      <td>2.351787</td>\n",
              "      <td>2.365292</td>\n",
              "      <td>2.454255</td>\n",
              "      <td>2.454320</td>\n",
              "      <td>2.346723</td>\n",
              "      <td>2.233844</td>\n",
              "      <td>2.828493</td>\n",
              "      <td>2.231358</td>\n",
              "      <td>2.321639</td>\n",
              "      <td>NaN</td>\n",
              "      <td>0.356726</td>\n",
              "    </tr>\n",
              "    <tr>\n",
              "      <th>min</th>\n",
              "      <td>103045.000000</td>\n",
              "      <td>NaN</td>\n",
              "      <td>1.000000</td>\n",
              "      <td>NaN</td>\n",
              "      <td>-3.000000</td>\n",
              "      <td>-3.000000</td>\n",
              "      <td>-3.000000</td>\n",
              "      <td>-3.000000</td>\n",
              "      <td>-3.000000</td>\n",
              "      <td>-3.000000</td>\n",
              "      <td>-3.000000</td>\n",
              "      <td>-3.000000</td>\n",
              "      <td>-3.000000</td>\n",
              "      <td>-3.000000</td>\n",
              "      <td>-3.000000</td>\n",
              "      <td>-3.000000</td>\n",
              "      <td>-3.000000</td>\n",
              "      <td>-3.000000</td>\n",
              "      <td>NaN</td>\n",
              "      <td>0.000000</td>\n",
              "    </tr>\n",
              "    <tr>\n",
              "      <th>25%</th>\n",
              "      <td>336293.000000</td>\n",
              "      <td>NaN</td>\n",
              "      <td>3.000000</td>\n",
              "      <td>NaN</td>\n",
              "      <td>5.000000</td>\n",
              "      <td>5.000000</td>\n",
              "      <td>6.000000</td>\n",
              "      <td>5.000000</td>\n",
              "      <td>5.000000</td>\n",
              "      <td>5.000000</td>\n",
              "      <td>5.000000</td>\n",
              "      <td>5.000000</td>\n",
              "      <td>5.000000</td>\n",
              "      <td>6.000000</td>\n",
              "      <td>6.500000</td>\n",
              "      <td>5.000000</td>\n",
              "      <td>7.000000</td>\n",
              "      <td>5.000000</td>\n",
              "      <td>NaN</td>\n",
              "      <td>0.000000</td>\n",
              "    </tr>\n",
              "    <tr>\n",
              "      <th>50%</th>\n",
              "      <td>512274.000000</td>\n",
              "      <td>NaN</td>\n",
              "      <td>4.000000</td>\n",
              "      <td>NaN</td>\n",
              "      <td>7.000000</td>\n",
              "      <td>6.000000</td>\n",
              "      <td>7.000000</td>\n",
              "      <td>7.000000</td>\n",
              "      <td>7.000000</td>\n",
              "      <td>6.000000</td>\n",
              "      <td>6.000000</td>\n",
              "      <td>6.000000</td>\n",
              "      <td>7.000000</td>\n",
              "      <td>8.000000</td>\n",
              "      <td>8.000000</td>\n",
              "      <td>7.000000</td>\n",
              "      <td>8.000000</td>\n",
              "      <td>6.000000</td>\n",
              "      <td>NaN</td>\n",
              "      <td>0.000000</td>\n",
              "    </tr>\n",
              "    <tr>\n",
              "      <th>75%</th>\n",
              "      <td>732406.000000</td>\n",
              "      <td>NaN</td>\n",
              "      <td>5.000000</td>\n",
              "      <td>NaN</td>\n",
              "      <td>8.000000</td>\n",
              "      <td>8.000000</td>\n",
              "      <td>8.000000</td>\n",
              "      <td>8.000000</td>\n",
              "      <td>8.000000</td>\n",
              "      <td>8.000000</td>\n",
              "      <td>8.000000</td>\n",
              "      <td>8.000000</td>\n",
              "      <td>8.000000</td>\n",
              "      <td>9.000000</td>\n",
              "      <td>9.000000</td>\n",
              "      <td>8.000000</td>\n",
              "      <td>9.000000</td>\n",
              "      <td>8.000000</td>\n",
              "      <td>NaN</td>\n",
              "      <td>0.000000</td>\n",
              "    </tr>\n",
              "    <tr>\n",
              "      <th>max</th>\n",
              "      <td>980961.000000</td>\n",
              "      <td>NaN</td>\n",
              "      <td>5.000000</td>\n",
              "      <td>NaN</td>\n",
              "      <td>10.000000</td>\n",
              "      <td>10.000000</td>\n",
              "      <td>10.000000</td>\n",
              "      <td>10.000000</td>\n",
              "      <td>10.000000</td>\n",
              "      <td>10.000000</td>\n",
              "      <td>10.000000</td>\n",
              "      <td>10.000000</td>\n",
              "      <td>10.000000</td>\n",
              "      <td>10.000000</td>\n",
              "      <td>10.000000</td>\n",
              "      <td>10.000000</td>\n",
              "      <td>10.000000</td>\n",
              "      <td>10.000000</td>\n",
              "      <td>NaN</td>\n",
              "      <td>1.000000</td>\n",
              "    </tr>\n",
              "  </tbody>\n",
              "</table>\n",
              "</div>"
            ],
            "text/plain": [
              "            player ID Batting Avg.  ...  Region Not selected\n",
              "count      195.000000          195  ...     195   195.000000\n",
              "unique            NaN            7  ...      10          NaN\n",
              "top               NaN            1  ...    RGB8          NaN\n",
              "freq              NaN           45  ...      25          NaN\n",
              "mean    532440.825641          NaN  ...     NaN     0.148718\n",
              "std     246776.419211          NaN  ...     NaN     0.356726\n",
              "min     103045.000000          NaN  ...     NaN     0.000000\n",
              "25%     336293.000000          NaN  ...     NaN     0.000000\n",
              "50%     512274.000000          NaN  ...     NaN     0.000000\n",
              "75%     732406.000000          NaN  ...     NaN     0.000000\n",
              "max     980961.000000          NaN  ...     NaN     1.000000\n",
              "\n",
              "[11 rows x 20 columns]"
            ]
          },
          "metadata": {
            "tags": []
          },
          "execution_count": 190
        }
      ]
    },
    {
      "cell_type": "markdown",
      "metadata": {
        "id": "Bap9Su-WSM3F"
      },
      "source": [
        "# **Train and Test Data**"
      ]
    },
    {
      "cell_type": "code",
      "metadata": {
        "id": "Bg9-wGWIS4ba"
      },
      "source": [
        "enc=OrdinalEncoder(dtype=np.int32)\n",
        "train.Region = enc.fit_transform(train[['Region']])\n",
        "test.Region = enc.transform(test[['Region']])"
      ],
      "execution_count": 191,
      "outputs": []
    },
    {
      "cell_type": "code",
      "metadata": {
        "id": "Ig0HrAwQcSVI"
      },
      "source": [
        "train=train[(train['Batting Avg.']!='na') & (train['L/R Handed Batsman']!='na')]\n",
        "train.loc[train['L/R Handed Batsman']=='*','L/R Handed Batsman']=3\n",
        "test.loc[test['L/R Handed Batsman']=='*','L/R Handed Batsman']=3\n",
        "\n",
        "train=train.astype(np.int64)\n",
        "test=test.astype(np.int64)"
      ],
      "execution_count": 192,
      "outputs": []
    },
    {
      "cell_type": "code",
      "metadata": {
        "id": "oeCuHNoWSMSw"
      },
      "source": [
        "X_train, X_test, Y_train, Y_test = train_test_split(train.drop(['player ID','Not selected'],axis=1),train['Not selected'], test_size=0.2, random_state=2020)"
      ],
      "execution_count": 193,
      "outputs": []
    },
    {
      "cell_type": "markdown",
      "metadata": {
        "id": "O3i8UnNsRnd_"
      },
      "source": [
        "# **Models**"
      ]
    },
    {
      "cell_type": "markdown",
      "metadata": {
        "id": "qFjdBNpQp0Ld"
      },
      "source": [
        "## **Model1(Logistic Regression)**"
      ]
    },
    {
      "cell_type": "code",
      "metadata": {
        "id": "r4nwiYJpRm2v",
        "outputId": "47b4c174-188b-4016-eeec-1d44e2003a53",
        "colab": {
          "base_uri": "https://localhost:8080/",
          "height": 235
        }
      },
      "source": [
        "from sklearn.linear_model import LogisticRegression\n",
        "model=LogisticRegression()\n",
        "model.fit(X_train,Y_train)\n"
      ],
      "execution_count": null,
      "outputs": [
        {
          "output_type": "stream",
          "text": [
            "/usr/local/lib/python3.6/dist-packages/sklearn/linear_model/_logistic.py:940: ConvergenceWarning: lbfgs failed to converge (status=1):\n",
            "STOP: TOTAL NO. of ITERATIONS REACHED LIMIT.\n",
            "\n",
            "Increase the number of iterations (max_iter) or scale the data as shown in:\n",
            "    https://scikit-learn.org/stable/modules/preprocessing.html\n",
            "Please also refer to the documentation for alternative solver options:\n",
            "    https://scikit-learn.org/stable/modules/linear_model.html#logistic-regression\n",
            "  extra_warning_msg=_LOGISTIC_SOLVER_CONVERGENCE_MSG)\n"
          ],
          "name": "stderr"
        },
        {
          "output_type": "execute_result",
          "data": {
            "text/plain": [
              "LogisticRegression(C=1.0, class_weight=None, dual=False, fit_intercept=True,\n",
              "                   intercept_scaling=1, l1_ratio=None, max_iter=100,\n",
              "                   multi_class='auto', n_jobs=None, penalty='l2',\n",
              "                   random_state=None, solver='lbfgs', tol=0.0001, verbose=0,\n",
              "                   warm_start=False)"
            ]
          },
          "metadata": {
            "tags": []
          },
          "execution_count": 226
        }
      ]
    },
    {
      "cell_type": "markdown",
      "metadata": {
        "id": "41DxKn_DqeeB"
      },
      "source": [
        "## **Model2(Random Forest)**"
      ]
    },
    {
      "cell_type": "code",
      "metadata": {
        "id": "4kZ3IcJGixsD",
        "outputId": "1e196e59-0def-4c93-c50a-621f339149ba",
        "colab": {
          "base_uri": "https://localhost:8080/",
          "height": 151
        }
      },
      "source": [
        "RandomForestClassifier()"
      ],
      "execution_count": 134,
      "outputs": [
        {
          "output_type": "execute_result",
          "data": {
            "text/plain": [
              "RandomForestClassifier(bootstrap=True, ccp_alpha=0.0, class_weight=None,\n",
              "                       criterion='gini', max_depth=None, max_features='auto',\n",
              "                       max_leaf_nodes=None, max_samples=None,\n",
              "                       min_impurity_decrease=0.0, min_impurity_split=None,\n",
              "                       min_samples_leaf=1, min_samples_split=2,\n",
              "                       min_weight_fraction_leaf=0.0, n_estimators=100,\n",
              "                       n_jobs=None, oob_score=False, random_state=None,\n",
              "                       verbose=0, warm_start=False)"
            ]
          },
          "metadata": {
            "tags": []
          },
          "execution_count": 134
        }
      ]
    },
    {
      "cell_type": "code",
      "metadata": {
        "id": "Dl-hofSbd5sA",
        "outputId": "04d37cbd-1b67-46c2-e9a0-d63cb10aa714",
        "colab": {
          "base_uri": "https://localhost:8080/",
          "height": 50
        }
      },
      "source": [
        "from sklearn.ensemble import RandomForestClassifier\n",
        "model=RandomForestClassifier(n_estimators=100,criterion=\"entropy\",max_depth=2)\n",
        "model.fit(X_train,Y_train)\n",
        "print(\"Train Accuracy : \",accuracy_score(Y_train,model.predict(X_train)))\n",
        "print(\"Test Accuracy : \",accuracy_score(Y_test,model.predict(X_test)))"
      ],
      "execution_count": 152,
      "outputs": [
        {
          "output_type": "stream",
          "text": [
            "Train Accuracy :  0.8571428571428571\n",
            "Test Accuracy :  0.8717948717948718\n"
          ],
          "name": "stdout"
        }
      ]
    },
    {
      "cell_type": "markdown",
      "metadata": {
        "id": "L2sVPZYc4XyY"
      },
      "source": [
        "## **Model3(XGBoost)**"
      ]
    },
    {
      "cell_type": "code",
      "metadata": {
        "id": "acpekUtl4hP8",
        "outputId": "c2456e96-8391-4532-ffe4-7c4365ad2029",
        "colab": {
          "base_uri": "https://localhost:8080/",
          "height": 50
        }
      },
      "source": [
        "from xgboost import XGBClassifier\n",
        "model = XGBClassifier(max_depth=3,\n",
        "                      subsample=1,\n",
        "                      n_estimators=100,\n",
        "                      learning_rate=0.2,\n",
        "                      min_child_weight=2,\n",
        "                      random_state=5,\n",
        "                      reg_alpha=0,\n",
        "                      reg_lambda=1) \n",
        "model.fit(X_train, Y_train) \n",
        "print(\"Train Accuracy : \",accuracy_score(Y_train,model.predict(X_train)))\n",
        "print(\"Test Accuracy : \",accuracy_score(Y_test,model.predict(X_test)))"
      ],
      "execution_count": 89,
      "outputs": [
        {
          "output_type": "stream",
          "text": [
            "Train Accuracy :  0.9935064935064936\n",
            "Test Accuracy :  0.7435897435897436\n"
          ],
          "name": "stdout"
        }
      ]
    },
    {
      "cell_type": "markdown",
      "metadata": {
        "id": "1G3qyzIC8TGZ"
      },
      "source": [
        "## **Model4(Gradient Boosting)**"
      ]
    },
    {
      "cell_type": "code",
      "metadata": {
        "id": "qMPbwIfIEFNJ",
        "outputId": "f4a33c40-3146-4432-b4f0-70f70e49e006",
        "colab": {
          "base_uri": "https://localhost:8080/",
          "height": 229
        }
      },
      "source": [
        "learning_rates = [1, 0.5, 0.25, 0.1,0.15, 0.05, 0.01,0.015]\n",
        "train_results = []\n",
        "test_results = []\n",
        "for eta in learning_rates:\n",
        "   model = GradientBoostingClassifier(learning_rate=eta)\n",
        "   model.fit(X_train, Y_train)\n",
        "   train_pred = model.predict(X_train)\n",
        "   false_positive_rate, true_positive_rate, thresholds = roc_curve(_train, train_pred)\n",
        "   roc_auc = auc(false_positive_rate, true_positive_rate)\n",
        "   train_results.append(roc_auc)\n",
        "   y_pred = model.predict(X_test)\n",
        "   false_positive_rate, true_positive_rate, thresholds = roc_curve(Y_test, y_pred)\n",
        "   roc_auc = auc(false_positive_rate, true_positive_rate)\n",
        "   test_results.append(roc_auc)\n",
        "from matplotlib.legend_handler import HandlerLine2D\n",
        "line1, = plt.plot(learning_rates, train_results, ‘b’, label=”Train AUC”)\n",
        "line2, = plt.plot(learning_rates, test_results, ‘r’, label=”Test AUC”)\n",
        "plt.legend(handler_map={line1: HandlerLine2D(numpoints=2)})\n",
        "plt.ylabel(‘AUC score’)\n",
        "plt.xlabel(‘learning rate’)\n",
        "plt.show()"
      ],
      "execution_count": null,
      "outputs": [
        {
          "output_type": "error",
          "ename": "NameError",
          "evalue": "ignored",
          "traceback": [
            "\u001b[0;31m---------------------------------------------------------------------------\u001b[0m",
            "\u001b[0;31mNameError\u001b[0m                                 Traceback (most recent call last)",
            "\u001b[0;32m<ipython-input-412-feec38b19060>\u001b[0m in \u001b[0;36m<module>\u001b[0;34m()\u001b[0m\n\u001b[1;32m      6\u001b[0m    \u001b[0mmodel\u001b[0m\u001b[0;34m.\u001b[0m\u001b[0mfit\u001b[0m\u001b[0;34m(\u001b[0m\u001b[0mX_train\u001b[0m\u001b[0;34m,\u001b[0m \u001b[0mY_train\u001b[0m\u001b[0;34m)\u001b[0m\u001b[0;34m\u001b[0m\u001b[0;34m\u001b[0m\u001b[0m\n\u001b[1;32m      7\u001b[0m    \u001b[0mtrain_pred\u001b[0m \u001b[0;34m=\u001b[0m \u001b[0mmodel\u001b[0m\u001b[0;34m.\u001b[0m\u001b[0mpredict\u001b[0m\u001b[0;34m(\u001b[0m\u001b[0mX_train\u001b[0m\u001b[0;34m)\u001b[0m\u001b[0;34m\u001b[0m\u001b[0;34m\u001b[0m\u001b[0m\n\u001b[0;32m----> 8\u001b[0;31m    \u001b[0mfalse_positive_rate\u001b[0m\u001b[0;34m,\u001b[0m \u001b[0mtrue_positive_rate\u001b[0m\u001b[0;34m,\u001b[0m \u001b[0mthresholds\u001b[0m \u001b[0;34m=\u001b[0m \u001b[0mroc_curve\u001b[0m\u001b[0;34m(\u001b[0m\u001b[0mY_train\u001b[0m\u001b[0;34m,\u001b[0m \u001b[0mtrain_pred\u001b[0m\u001b[0;34m)\u001b[0m\u001b[0;34m\u001b[0m\u001b[0;34m\u001b[0m\u001b[0m\n\u001b[0m\u001b[1;32m      9\u001b[0m    \u001b[0mroc_auc\u001b[0m \u001b[0;34m=\u001b[0m \u001b[0mauc\u001b[0m\u001b[0;34m(\u001b[0m\u001b[0mfalse_positive_rate\u001b[0m\u001b[0;34m,\u001b[0m \u001b[0mtrue_positive_rate\u001b[0m\u001b[0;34m)\u001b[0m\u001b[0;34m\u001b[0m\u001b[0;34m\u001b[0m\u001b[0m\n\u001b[1;32m     10\u001b[0m    \u001b[0mtrain_results\u001b[0m\u001b[0;34m.\u001b[0m\u001b[0mappend\u001b[0m\u001b[0;34m(\u001b[0m\u001b[0mroc_auc\u001b[0m\u001b[0;34m)\u001b[0m\u001b[0;34m\u001b[0m\u001b[0;34m\u001b[0m\u001b[0m\n",
            "\u001b[0;31mNameError\u001b[0m: name 'roc_curve' is not defined"
          ]
        }
      ]
    },
    {
      "cell_type": "code",
      "metadata": {
        "id": "_kwNuel48icV",
        "outputId": "5dfc4d66-9b80-40bf-e4e0-6283b4fc2457",
        "colab": {
          "base_uri": "https://localhost:8080/",
          "height": 50
        }
      },
      "source": [
        "\n",
        "from sklearn.ensemble import GradientBoostingClassifier\n",
        "model = GradientBoostingClassifier(max_depth=2,\n",
        "                                   subsample=0.5,\n",
        "                                   n_estimators=80,\n",
        "                                   learning_rate=0.19,\n",
        "                                   random_state=5)\n",
        "model.fit(X_train,Y_train)\n",
        "print(\"Train Accuracy : \",accuracy_score(Y_train,model.predict(X_train)))\n",
        "print(\"Test Accuracy : \",accuracy_score(Y_test,model.predict(X_test)))"
      ],
      "execution_count": 105,
      "outputs": [
        {
          "output_type": "stream",
          "text": [
            "Train Accuracy :  1.0\n",
            "Test Accuracy :  0.7435897435897436\n"
          ],
          "name": "stdout"
        }
      ]
    },
    {
      "cell_type": "markdown",
      "metadata": {
        "id": "vnbDMNNDoDq9"
      },
      "source": [
        "## **Model5(AdaBoosting)**"
      ]
    },
    {
      "cell_type": "code",
      "metadata": {
        "id": "TtjG6BYzCj3G",
        "outputId": "6057b8d3-1100-4d8a-eb49-c410e6eb57e2",
        "colab": {
          "base_uri": "https://localhost:8080/",
          "height": 118
        }
      },
      "source": [
        "DecisionTreeClassifier()"
      ],
      "execution_count": null,
      "outputs": [
        {
          "output_type": "execute_result",
          "data": {
            "text/plain": [
              "DecisionTreeClassifier(ccp_alpha=0.0, class_weight=None, criterion='gini',\n",
              "                       max_depth=None, max_features=None, max_leaf_nodes=None,\n",
              "                       min_impurity_decrease=0.0, min_impurity_split=None,\n",
              "                       min_samples_leaf=1, min_samples_split=2,\n",
              "                       min_weight_fraction_leaf=0.0, presort='deprecated',\n",
              "                       random_state=None, splitter='best')"
            ]
          },
          "metadata": {
            "tags": []
          },
          "execution_count": 344
        }
      ]
    },
    {
      "cell_type": "code",
      "metadata": {
        "id": "Mx7T5LZ2oLE5",
        "outputId": "082bd599-0557-4b73-b115-4337334c85a1",
        "colab": {
          "base_uri": "https://localhost:8080/",
          "height": 50
        }
      },
      "source": [
        "from sklearn.ensemble import AdaBoostClassifier\n",
        "from sklearn.tree import DecisionTreeClassifier\n",
        "bmodel = DecisionTreeClassifier(criterion=\"entropy\",max_depth=3)\n",
        "AdaBoost = AdaBoostClassifier(base_estimator=bmodel,n_estimators=20,learning_rate=0.09)\n",
        "model=AdaBoost.fit(X_train,Y_train)\n",
        "print(\"Train Accuracy : \",accuracy_score(Y_train,model.predict(X_train)))\n",
        "print(\"Test Accuracy : \",accuracy_score(Y_test,model.predict(X_test)))"
      ],
      "execution_count": 166,
      "outputs": [
        {
          "output_type": "stream",
          "text": [
            "Train Accuracy :  1.0\n",
            "Test Accuracy :  0.8461538461538461\n"
          ],
          "name": "stdout"
        }
      ]
    },
    {
      "cell_type": "markdown",
      "metadata": {
        "id": "1-3eWjUOkRat"
      },
      "source": [
        "## **Model6(SVM)**"
      ]
    },
    {
      "cell_type": "code",
      "metadata": {
        "id": "hkztd3wgqSkZ",
        "outputId": "57ccf6c3-89dc-40f1-ef12-ad412b3aac8a",
        "colab": {
          "base_uri": "https://localhost:8080/",
          "height": 84
        }
      },
      "source": [
        "from sklearn import svm\n",
        "model=svm.SVC(kernel='sigmoid',random_state=1)\n",
        "model.fit(X_train,Y_train)"
      ],
      "execution_count": 211,
      "outputs": [
        {
          "output_type": "execute_result",
          "data": {
            "text/plain": [
              "SVC(C=1.0, break_ties=False, cache_size=200, class_weight=None, coef0=0.0,\n",
              "    decision_function_shape='ovr', degree=3, gamma='scale', kernel='sigmoid',\n",
              "    max_iter=-1, probability=False, random_state=1, shrinking=True, tol=0.001,\n",
              "    verbose=False)"
            ]
          },
          "metadata": {
            "tags": []
          },
          "execution_count": 211
        }
      ]
    },
    {
      "cell_type": "markdown",
      "metadata": {
        "id": "nbeeRdMj3swR"
      },
      "source": [
        "# **Score**"
      ]
    },
    {
      "cell_type": "code",
      "metadata": {
        "id": "Qt_Ionuz3vds",
        "outputId": "e93b4531-8130-426d-a9c8-2b93e8efbdf2",
        "colab": {
          "base_uri": "https://localhost:8080/",
          "height": 34
        }
      },
      "source": [
        "fpr,tpr,thresholds = metrics.roc_curve(Y_test,model.predict(X_test),pos_label=1)\n",
        "metrics.auc(fpr, tpr)\n",
        "#print(classification_report(Y_test,model.predict(X_test)))\n",
        "#pd.crosstab(Y_test,model.predict(X_test))\n",
        "\n",
        "#print(classification_report(Y_train,model.predict(X_train)))\n",
        "#pd.crosstab(Y_train,model.predict(X_train))"
      ],
      "execution_count": 212,
      "outputs": [
        {
          "output_type": "execute_result",
          "data": {
            "text/plain": [
              "0.5"
            ]
          },
          "metadata": {
            "tags": []
          },
          "execution_count": 212
        }
      ]
    },
    {
      "cell_type": "markdown",
      "metadata": {
        "id": "rEdqi38zfInO"
      },
      "source": [
        "# **Submit file creator**"
      ]
    },
    {
      "cell_type": "code",
      "metadata": {
        "id": "NO_TZ-eIkEZk",
        "outputId": "5d2fa058-0271-495b-e01a-9a6d63c97b4e",
        "colab": {
          "base_uri": "https://localhost:8080/",
          "height": 84
        }
      },
      "source": [
        "model.fit(train.drop(['player ID','Not selected'],axis=1),train['Not selected'])"
      ],
      "execution_count": 203,
      "outputs": [
        {
          "output_type": "execute_result",
          "data": {
            "text/plain": [
              "SVC(C=1.0, break_ties=False, cache_size=200, class_weight=None, coef0=0.0,\n",
              "    decision_function_shape='ovr', degree=3, gamma='scale', kernel='rbf',\n",
              "    max_iter=-1, probability=False, random_state=1, shrinking=True, tol=0.001,\n",
              "    verbose=False)"
            ]
          },
          "metadata": {
            "tags": []
          },
          "execution_count": 203
        }
      ]
    },
    {
      "cell_type": "code",
      "metadata": {
        "id": "_bGrx0sjfGtr"
      },
      "source": [
        "y_pred=pd.Series(model.predict(test.drop(['player ID'],axis=1)),name='not selected')\n",
        "result=pd.merge(test['player ID'],y_pred,right_index = True,left_index = True)\n",
        "result.to_csv('Terminators.csv',index=False,header=['Player id','not selected'])"
      ],
      "execution_count": 204,
      "outputs": []
    },
    {
      "cell_type": "code",
      "metadata": {
        "id": "hSu9QZRomAoO",
        "outputId": "42e68649-dfa8-4c65-c209-fff67dbbd056",
        "colab": {
          "base_uri": "https://localhost:8080/",
          "height": 195
        }
      },
      "source": [
        "result.head()"
      ],
      "execution_count": 198,
      "outputs": [
        {
          "output_type": "execute_result",
          "data": {
            "text/html": [
              "<div>\n",
              "<style scoped>\n",
              "    .dataframe tbody tr th:only-of-type {\n",
              "        vertical-align: middle;\n",
              "    }\n",
              "\n",
              "    .dataframe tbody tr th {\n",
              "        vertical-align: top;\n",
              "    }\n",
              "\n",
              "    .dataframe thead th {\n",
              "        text-align: right;\n",
              "    }\n",
              "</style>\n",
              "<table border=\"1\" class=\"dataframe\">\n",
              "  <thead>\n",
              "    <tr style=\"text-align: right;\">\n",
              "      <th></th>\n",
              "      <th>player ID</th>\n",
              "      <th>not selected</th>\n",
              "    </tr>\n",
              "  </thead>\n",
              "  <tbody>\n",
              "    <tr>\n",
              "      <th>0</th>\n",
              "      <td>943412</td>\n",
              "      <td>0</td>\n",
              "    </tr>\n",
              "    <tr>\n",
              "      <th>1</th>\n",
              "      <td>891010</td>\n",
              "      <td>0</td>\n",
              "    </tr>\n",
              "    <tr>\n",
              "      <th>2</th>\n",
              "      <td>232982</td>\n",
              "      <td>0</td>\n",
              "    </tr>\n",
              "    <tr>\n",
              "      <th>3</th>\n",
              "      <td>762647</td>\n",
              "      <td>0</td>\n",
              "    </tr>\n",
              "    <tr>\n",
              "      <th>4</th>\n",
              "      <td>882052</td>\n",
              "      <td>0</td>\n",
              "    </tr>\n",
              "  </tbody>\n",
              "</table>\n",
              "</div>"
            ],
            "text/plain": [
              "   player ID  not selected\n",
              "0     943412             0\n",
              "1     891010             0\n",
              "2     232982             0\n",
              "3     762647             0\n",
              "4     882052             0"
            ]
          },
          "metadata": {
            "tags": []
          },
          "execution_count": 198
        }
      ]
    },
    {
      "cell_type": "code",
      "metadata": {
        "id": "OknXo8nvq44O",
        "outputId": "5e009062-775e-4d25-94a3-91a83b4d56ac",
        "colab": {
          "base_uri": "https://localhost:8080/",
          "height": 195
        }
      },
      "source": [
        "sub.head()"
      ],
      "execution_count": 199,
      "outputs": [
        {
          "output_type": "execute_result",
          "data": {
            "text/html": [
              "<div>\n",
              "<style scoped>\n",
              "    .dataframe tbody tr th:only-of-type {\n",
              "        vertical-align: middle;\n",
              "    }\n",
              "\n",
              "    .dataframe tbody tr th {\n",
              "        vertical-align: top;\n",
              "    }\n",
              "\n",
              "    .dataframe thead th {\n",
              "        text-align: right;\n",
              "    }\n",
              "</style>\n",
              "<table border=\"1\" class=\"dataframe\">\n",
              "  <thead>\n",
              "    <tr style=\"text-align: right;\">\n",
              "      <th></th>\n",
              "      <th>Player id</th>\n",
              "      <th>not selected</th>\n",
              "    </tr>\n",
              "  </thead>\n",
              "  <tbody>\n",
              "    <tr>\n",
              "      <th>0</th>\n",
              "      <td>123958</td>\n",
              "      <td>0</td>\n",
              "    </tr>\n",
              "    <tr>\n",
              "      <th>1</th>\n",
              "      <td>562456</td>\n",
              "      <td>0</td>\n",
              "    </tr>\n",
              "    <tr>\n",
              "      <th>2</th>\n",
              "      <td>354686</td>\n",
              "      <td>1</td>\n",
              "    </tr>\n",
              "    <tr>\n",
              "      <th>3</th>\n",
              "      <td>639521</td>\n",
              "      <td>0</td>\n",
              "    </tr>\n",
              "    <tr>\n",
              "      <th>4</th>\n",
              "      <td>741543</td>\n",
              "      <td>1</td>\n",
              "    </tr>\n",
              "  </tbody>\n",
              "</table>\n",
              "</div>"
            ],
            "text/plain": [
              "   Player id  not selected\n",
              "0     123958             0\n",
              "1     562456             0\n",
              "2     354686             1\n",
              "3     639521             0\n",
              "4     741543             1"
            ]
          },
          "metadata": {
            "tags": []
          },
          "execution_count": 199
        }
      ]
    },
    {
      "cell_type": "code",
      "metadata": {
        "id": "S7iYWp3S321l"
      },
      "source": [
        ""
      ],
      "execution_count": null,
      "outputs": []
    }
  ]
}