{
  "nbformat": 4,
  "nbformat_minor": 0,
  "metadata": {
    "colab": {
      "name": "Untitled0.ipynb",
      "provenance": [],
      "collapsed_sections": [
        "hKegO6uXWM-v",
        "MwMoSuPHRNTh",
        "Bap9Su-WSM3F",
        "O3i8UnNsRnd_",
        "qFjdBNpQp0Ld",
        "41DxKn_DqeeB",
        "rEdqi38zfInO"
      ],
      "toc_visible": true,
      "include_colab_link": true
    },
    "kernelspec": {
      "name": "python3",
      "display_name": "Python 3"
    }
  },
  "cells": [
    {
      "cell_type": "markdown",
      "metadata": {
        "id": "view-in-github",
        "colab_type": "text"
      },
      "source": [
        "<a href=\"https://colab.research.google.com/github/hruthiksiva/KaggleComp-IIIT-Delhi/blob/main/v2.ipynb\" target=\"_parent\"><img src=\"https://colab.research.google.com/assets/colab-badge.svg\" alt=\"Open In Colab\"/></a>"
      ]
    },
    {
      "cell_type": "code",
      "metadata": {
        "id": "Lz4gbtjdOyE1"
      },
      "source": [
        "import pandas as pd\n",
        "import numpy as np\n",
        "from sklearn.linear_model import LogisticRegression\n",
        "from sklearn.ensemble import RandomForestClassifier\n",
        "from sklearn.preprocessing import OrdinalEncoder\n",
        "from sklearn.model_selection import train_test_split\n",
        "from sklearn import metrics\n",
        "import matplotlib.pyplot as plt"
      ],
      "execution_count": null,
      "outputs": []
    },
    {
      "cell_type": "code",
      "metadata": {
        "id": "U9Voe-w7P52W",
        "outputId": "8a1c420a-1c06-49e2-d67e-119a519aae74",
        "colab": {
          "base_uri": "https://localhost:8080/",
          "height": 51
        }
      },
      "source": [
        "!ls\n",
        "train=pd.read_csv('Train_data_players.csv')\n",
        "test=pd.read_csv('Test_data_player.csv')\n",
        "sub=pd.read_csv('example_submission.csv')"
      ],
      "execution_count": null,
      "outputs": [
        {
          "output_type": "stream",
          "text": [
            "example_submission.csv\tTerminators.csv       Train_data_players.csv\n",
            "Terminators\t\tTest_data_player.csv\n"
          ],
          "name": "stdout"
        }
      ]
    },
    {
      "cell_type": "markdown",
      "metadata": {
        "id": "hKegO6uXWM-v"
      },
      "source": [
        "# **Visualize Data**"
      ]
    },
    {
      "cell_type": "code",
      "metadata": {
        "id": "fX3U2KD0usjA",
        "outputId": "71b0b595-5478-4677-d66d-de8c0857b666",
        "colab": {
          "base_uri": "https://localhost:8080/",
          "height": 238
        }
      },
      "source": [
        "train.head()"
      ],
      "execution_count": null,
      "outputs": [
        {
          "output_type": "execute_result",
          "data": {
            "text/html": [
              "<div>\n",
              "<style scoped>\n",
              "    .dataframe tbody tr th:only-of-type {\n",
              "        vertical-align: middle;\n",
              "    }\n",
              "\n",
              "    .dataframe tbody tr th {\n",
              "        vertical-align: top;\n",
              "    }\n",
              "\n",
              "    .dataframe thead th {\n",
              "        text-align: right;\n",
              "    }\n",
              "</style>\n",
              "<table border=\"1\" class=\"dataframe\">\n",
              "  <thead>\n",
              "    <tr style=\"text-align: right;\">\n",
              "      <th></th>\n",
              "      <th>player ID</th>\n",
              "      <th>Batting Avg.</th>\n",
              "      <th>Strike rate</th>\n",
              "      <th>L/R Handed Batsman</th>\n",
              "      <th>Wicket keeping</th>\n",
              "      <th>economy</th>\n",
              "      <th>avg speed</th>\n",
              "      <th>fitness index</th>\n",
              "      <th>Sixes</th>\n",
              "      <th>fours</th>\n",
              "      <th>Fast bowling</th>\n",
              "      <th>Leg Spin</th>\n",
              "      <th>Off Spin</th>\n",
              "      <th>against fast bowl</th>\n",
              "      <th>against leg spin</th>\n",
              "      <th>against off spin</th>\n",
              "      <th>Fanbase</th>\n",
              "      <th>Catch percentage</th>\n",
              "      <th>Region</th>\n",
              "      <th>Not selected</th>\n",
              "    </tr>\n",
              "  </thead>\n",
              "  <tbody>\n",
              "    <tr>\n",
              "      <th>0</th>\n",
              "      <td>246048</td>\n",
              "      <td>1</td>\n",
              "      <td>4</td>\n",
              "      <td>2</td>\n",
              "      <td>6</td>\n",
              "      <td>5</td>\n",
              "      <td>6</td>\n",
              "      <td>6</td>\n",
              "      <td>6</td>\n",
              "      <td>6</td>\n",
              "      <td>6</td>\n",
              "      <td>5</td>\n",
              "      <td>6</td>\n",
              "      <td>7</td>\n",
              "      <td>7</td>\n",
              "      <td>5</td>\n",
              "      <td>7</td>\n",
              "      <td>6</td>\n",
              "      <td>7</td>\n",
              "      <td>0</td>\n",
              "    </tr>\n",
              "    <tr>\n",
              "      <th>1</th>\n",
              "      <td>387987</td>\n",
              "      <td>1</td>\n",
              "      <td>2</td>\n",
              "      <td>1</td>\n",
              "      <td>5</td>\n",
              "      <td>7</td>\n",
              "      <td>10</td>\n",
              "      <td>10</td>\n",
              "      <td>6</td>\n",
              "      <td>2</td>\n",
              "      <td>7</td>\n",
              "      <td>3</td>\n",
              "      <td>7</td>\n",
              "      <td>8</td>\n",
              "      <td>9</td>\n",
              "      <td>6</td>\n",
              "      <td>6</td>\n",
              "      <td>9</td>\n",
              "      <td>1</td>\n",
              "      <td>1</td>\n",
              "    </tr>\n",
              "    <tr>\n",
              "      <th>2</th>\n",
              "      <td>788442</td>\n",
              "      <td>3</td>\n",
              "      <td>4</td>\n",
              "      <td>1</td>\n",
              "      <td>5</td>\n",
              "      <td>7</td>\n",
              "      <td>2</td>\n",
              "      <td>5</td>\n",
              "      <td>3</td>\n",
              "      <td>5</td>\n",
              "      <td>5</td>\n",
              "      <td>5</td>\n",
              "      <td>3</td>\n",
              "      <td>7</td>\n",
              "      <td>7</td>\n",
              "      <td>5</td>\n",
              "      <td>7</td>\n",
              "      <td>7</td>\n",
              "      <td>6</td>\n",
              "      <td>0</td>\n",
              "    </tr>\n",
              "    <tr>\n",
              "      <th>3</th>\n",
              "      <td>465918</td>\n",
              "      <td>0</td>\n",
              "      <td>5</td>\n",
              "      <td>1</td>\n",
              "      <td>7</td>\n",
              "      <td>5</td>\n",
              "      <td>6</td>\n",
              "      <td>5</td>\n",
              "      <td>9</td>\n",
              "      <td>4</td>\n",
              "      <td>6</td>\n",
              "      <td>5</td>\n",
              "      <td>8</td>\n",
              "      <td>7</td>\n",
              "      <td>9</td>\n",
              "      <td>5</td>\n",
              "      <td>7</td>\n",
              "      <td>6</td>\n",
              "      <td>8</td>\n",
              "      <td>0</td>\n",
              "    </tr>\n",
              "    <tr>\n",
              "      <th>4</th>\n",
              "      <td>295804</td>\n",
              "      <td>0</td>\n",
              "      <td>5</td>\n",
              "      <td>1</td>\n",
              "      <td>6</td>\n",
              "      <td>7</td>\n",
              "      <td>7</td>\n",
              "      <td>7</td>\n",
              "      <td>9</td>\n",
              "      <td>5</td>\n",
              "      <td>7</td>\n",
              "      <td>7</td>\n",
              "      <td>7</td>\n",
              "      <td>8</td>\n",
              "      <td>8</td>\n",
              "      <td>8</td>\n",
              "      <td>9</td>\n",
              "      <td>5</td>\n",
              "      <td>0</td>\n",
              "      <td>0</td>\n",
              "    </tr>\n",
              "  </tbody>\n",
              "</table>\n",
              "</div>"
            ],
            "text/plain": [
              "   player ID Batting Avg.  Strike rate  ... Catch percentage  Region  Not selected\n",
              "0     246048            1            4  ...                6       7             0\n",
              "1     387987            1            2  ...                9       1             1\n",
              "2     788442            3            4  ...                7       6             0\n",
              "3     465918            0            5  ...                6       8             0\n",
              "4     295804            0            5  ...                5       0             0\n",
              "\n",
              "[5 rows x 20 columns]"
            ]
          },
          "metadata": {
            "tags": []
          },
          "execution_count": 219
        }
      ]
    },
    {
      "cell_type": "code",
      "metadata": {
        "id": "CGN1-2Rku43H",
        "outputId": "d6abdf4b-f66e-41de-c56f-2a3ef1baf6fe",
        "colab": {
          "base_uri": "https://localhost:8080/",
          "height": 34
        }
      },
      "source": [
        "enc=OrdinalEncoder()\n",
        "enc.fit(train[['Region']])"
      ],
      "execution_count": null,
      "outputs": [
        {
          "output_type": "execute_result",
          "data": {
            "text/plain": [
              "OrdinalEncoder(categories='auto', dtype=<class 'numpy.float64'>)"
            ]
          },
          "metadata": {
            "tags": []
          },
          "execution_count": 212
        }
      ]
    },
    {
      "cell_type": "markdown",
      "metadata": {
        "id": "MwMoSuPHRNTh"
      },
      "source": [
        "# **Arena**"
      ]
    },
    {
      "cell_type": "code",
      "metadata": {
        "id": "Wr9kWVLYQn7U",
        "outputId": "7fe8eaad-e8e8-4dae-df5b-3e3d47d91fb9",
        "colab": {
          "base_uri": "https://localhost:8080/",
          "height": 123
        }
      },
      "source": [
        "train.columns"
      ],
      "execution_count": null,
      "outputs": [
        {
          "output_type": "execute_result",
          "data": {
            "text/plain": [
              "Index(['player ID', 'Batting Avg.', 'Strike rate', 'L/R Handed Batsman',\n",
              "       'Wicket keeping', 'economy', 'avg speed', 'fitness index', 'Sixes',\n",
              "       'fours', 'Fast bowling', 'Leg Spin', 'Off Spin', 'against fast bowl',\n",
              "       'against leg spin', 'against off spin', 'Fanbase', 'Catch percentage',\n",
              "       'Region', 'Not selected'],\n",
              "      dtype='object')"
            ]
          },
          "metadata": {
            "tags": []
          },
          "execution_count": 81
        }
      ]
    },
    {
      "cell_type": "code",
      "metadata": {
        "id": "8Ea0BtURQs2Z",
        "outputId": "9ff577de-fc68-4bc4-b5ba-52b231f79bb5",
        "colab": {
          "base_uri": "https://localhost:8080/",
          "height": 221
        }
      },
      "source": [
        "test.head()"
      ],
      "execution_count": null,
      "outputs": [
        {
          "output_type": "execute_result",
          "data": {
            "text/html": [
              "<div>\n",
              "<style scoped>\n",
              "    .dataframe tbody tr th:only-of-type {\n",
              "        vertical-align: middle;\n",
              "    }\n",
              "\n",
              "    .dataframe tbody tr th {\n",
              "        vertical-align: top;\n",
              "    }\n",
              "\n",
              "    .dataframe thead th {\n",
              "        text-align: right;\n",
              "    }\n",
              "</style>\n",
              "<table border=\"1\" class=\"dataframe\">\n",
              "  <thead>\n",
              "    <tr style=\"text-align: right;\">\n",
              "      <th></th>\n",
              "      <th>player ID</th>\n",
              "      <th>Batting Avg.</th>\n",
              "      <th>Strike rate</th>\n",
              "      <th>L/R Handed Batsman</th>\n",
              "      <th>Wicket keeping</th>\n",
              "      <th>economy</th>\n",
              "      <th>avg speed</th>\n",
              "      <th>fitness index</th>\n",
              "      <th>Sixes</th>\n",
              "      <th>fours</th>\n",
              "      <th>Fast bowling</th>\n",
              "      <th>Leg Spin</th>\n",
              "      <th>Off Spin</th>\n",
              "      <th>against fast bowl</th>\n",
              "      <th>against leg spin</th>\n",
              "      <th>against off spin</th>\n",
              "      <th>Fanbase</th>\n",
              "      <th>Catch percentage</th>\n",
              "      <th>Region</th>\n",
              "    </tr>\n",
              "  </thead>\n",
              "  <tbody>\n",
              "    <tr>\n",
              "      <th>0</th>\n",
              "      <td>943412</td>\n",
              "      <td>0</td>\n",
              "      <td>5</td>\n",
              "      <td>1</td>\n",
              "      <td>5</td>\n",
              "      <td>3</td>\n",
              "      <td>8</td>\n",
              "      <td>10</td>\n",
              "      <td>8</td>\n",
              "      <td>5</td>\n",
              "      <td>8</td>\n",
              "      <td>8</td>\n",
              "      <td>4</td>\n",
              "      <td>10</td>\n",
              "      <td>10</td>\n",
              "      <td>9</td>\n",
              "      <td>10</td>\n",
              "      <td>6</td>\n",
              "      <td>6.0</td>\n",
              "    </tr>\n",
              "    <tr>\n",
              "      <th>1</th>\n",
              "      <td>891010</td>\n",
              "      <td>0</td>\n",
              "      <td>5</td>\n",
              "      <td>1</td>\n",
              "      <td>5</td>\n",
              "      <td>5</td>\n",
              "      <td>6</td>\n",
              "      <td>5</td>\n",
              "      <td>5</td>\n",
              "      <td>5</td>\n",
              "      <td>5</td>\n",
              "      <td>6</td>\n",
              "      <td>5</td>\n",
              "      <td>4</td>\n",
              "      <td>6</td>\n",
              "      <td>6</td>\n",
              "      <td>5</td>\n",
              "      <td>5</td>\n",
              "      <td>1.0</td>\n",
              "    </tr>\n",
              "    <tr>\n",
              "      <th>2</th>\n",
              "      <td>232982</td>\n",
              "      <td>2</td>\n",
              "      <td>3</td>\n",
              "      <td>1</td>\n",
              "      <td>8</td>\n",
              "      <td>6</td>\n",
              "      <td>8</td>\n",
              "      <td>6</td>\n",
              "      <td>4</td>\n",
              "      <td>5</td>\n",
              "      <td>3</td>\n",
              "      <td>5</td>\n",
              "      <td>8</td>\n",
              "      <td>7</td>\n",
              "      <td>4</td>\n",
              "      <td>7</td>\n",
              "      <td>9</td>\n",
              "      <td>5</td>\n",
              "      <td>7.0</td>\n",
              "    </tr>\n",
              "    <tr>\n",
              "      <th>3</th>\n",
              "      <td>762647</td>\n",
              "      <td>3</td>\n",
              "      <td>4</td>\n",
              "      <td>1</td>\n",
              "      <td>8</td>\n",
              "      <td>6</td>\n",
              "      <td>8</td>\n",
              "      <td>8</td>\n",
              "      <td>7</td>\n",
              "      <td>6</td>\n",
              "      <td>6</td>\n",
              "      <td>6</td>\n",
              "      <td>7</td>\n",
              "      <td>7</td>\n",
              "      <td>8</td>\n",
              "      <td>7</td>\n",
              "      <td>7</td>\n",
              "      <td>7</td>\n",
              "      <td>6.0</td>\n",
              "    </tr>\n",
              "    <tr>\n",
              "      <th>4</th>\n",
              "      <td>882052</td>\n",
              "      <td>6</td>\n",
              "      <td>4</td>\n",
              "      <td>2</td>\n",
              "      <td>9</td>\n",
              "      <td>6</td>\n",
              "      <td>7</td>\n",
              "      <td>7</td>\n",
              "      <td>9</td>\n",
              "      <td>4</td>\n",
              "      <td>3</td>\n",
              "      <td>7</td>\n",
              "      <td>8</td>\n",
              "      <td>10</td>\n",
              "      <td>9</td>\n",
              "      <td>7</td>\n",
              "      <td>8</td>\n",
              "      <td>6</td>\n",
              "      <td>3.0</td>\n",
              "    </tr>\n",
              "  </tbody>\n",
              "</table>\n",
              "</div>"
            ],
            "text/plain": [
              "   player ID  Batting Avg.  Strike rate  ... Fanbase  Catch percentage  Region\n",
              "0     943412             0            5  ...      10                 6     6.0\n",
              "1     891010             0            5  ...       5                 5     1.0\n",
              "2     232982             2            3  ...       9                 5     7.0\n",
              "3     762647             3            4  ...       7                 7     6.0\n",
              "4     882052             6            4  ...       8                 6     3.0\n",
              "\n",
              "[5 rows x 19 columns]"
            ]
          },
          "metadata": {
            "tags": []
          },
          "execution_count": 37
        }
      ]
    },
    {
      "cell_type": "code",
      "metadata": {
        "id": "-dSkAk3Ka29q"
      },
      "source": [
        "train=train.infer_objects()"
      ],
      "execution_count": null,
      "outputs": []
    },
    {
      "cell_type": "code",
      "metadata": {
        "id": "P2MHKN2lSdI2",
        "outputId": "aa3674aa-ee04-4e5f-b162-33ccbb4987a3",
        "colab": {
          "base_uri": "https://localhost:8080/",
          "height": 496
        }
      },
      "source": [
        "train.info()"
      ],
      "execution_count": null,
      "outputs": [
        {
          "output_type": "stream",
          "text": [
            "<class 'pandas.core.frame.DataFrame'>\n",
            "Int64Index: 193 entries, 0 to 194\n",
            "Data columns (total 20 columns):\n",
            " #   Column              Non-Null Count  Dtype  \n",
            "---  ------              --------------  -----  \n",
            " 0   player ID           193 non-null    int64  \n",
            " 1   Batting Avg.        193 non-null    object \n",
            " 2   Strike rate         193 non-null    int64  \n",
            " 3   L/R Handed Batsman  193 non-null    object \n",
            " 4   Wicket keeping      193 non-null    int64  \n",
            " 5   economy             193 non-null    int64  \n",
            " 6   avg speed           193 non-null    int64  \n",
            " 7   fitness index       193 non-null    int64  \n",
            " 8   Sixes               193 non-null    int64  \n",
            " 9   fours               193 non-null    int64  \n",
            " 10  Fast bowling        193 non-null    int64  \n",
            " 11  Leg Spin            193 non-null    int64  \n",
            " 12  Off Spin            193 non-null    int64  \n",
            " 13  against fast bowl   193 non-null    int64  \n",
            " 14  against leg spin    193 non-null    int64  \n",
            " 15  against off spin    193 non-null    int64  \n",
            " 16  Fanbase             193 non-null    int64  \n",
            " 17  Catch percentage    193 non-null    int64  \n",
            " 18  Region              193 non-null    float64\n",
            " 19  Not selected        193 non-null    int64  \n",
            "dtypes: float64(1), int64(17), object(2)\n",
            "memory usage: 31.7+ KB\n"
          ],
          "name": "stdout"
        }
      ]
    },
    {
      "cell_type": "code",
      "metadata": {
        "id": "klRPfKd3SvOO",
        "outputId": "5cf85c90-d68a-417a-f15c-537cc0d8ebd3",
        "colab": {
          "base_uri": "https://localhost:8080/",
          "height": 34
        }
      },
      "source": [
        "train['Not selected'].unique()"
      ],
      "execution_count": null,
      "outputs": [
        {
          "output_type": "execute_result",
          "data": {
            "text/plain": [
              "array([0, 1])"
            ]
          },
          "metadata": {
            "tags": []
          },
          "execution_count": 152
        }
      ]
    },
    {
      "cell_type": "code",
      "metadata": {
        "id": "UD3BD3XkXrHJ",
        "outputId": "5d1911de-a4ae-4708-cfec-8894d150d462",
        "colab": {
          "base_uri": "https://localhost:8080/",
          "height": 34
        }
      },
      "source": [
        "train['L/R Handed Batsman'].unique()"
      ],
      "execution_count": null,
      "outputs": [
        {
          "output_type": "execute_result",
          "data": {
            "text/plain": [
              "array(['2', '1', -1, 3], dtype=object)"
            ]
          },
          "metadata": {
            "tags": []
          },
          "execution_count": 73
        }
      ]
    },
    {
      "cell_type": "code",
      "metadata": {
        "id": "O_hWuDaPabHU"
      },
      "source": [
        ""
      ],
      "execution_count": null,
      "outputs": []
    },
    {
      "cell_type": "code",
      "metadata": {
        "id": "ugfGGaTIZ0VM",
        "outputId": "ed2445a5-12bf-420f-fd39-e12bdff749d8",
        "colab": {
          "base_uri": "https://localhost:8080/",
          "height": 64
        }
      },
      "source": [
        "train[train['Not selected']==3]"
      ],
      "execution_count": null,
      "outputs": [
        {
          "output_type": "execute_result",
          "data": {
            "text/html": [
              "<div>\n",
              "<style scoped>\n",
              "    .dataframe tbody tr th:only-of-type {\n",
              "        vertical-align: middle;\n",
              "    }\n",
              "\n",
              "    .dataframe tbody tr th {\n",
              "        vertical-align: top;\n",
              "    }\n",
              "\n",
              "    .dataframe thead th {\n",
              "        text-align: right;\n",
              "    }\n",
              "</style>\n",
              "<table border=\"1\" class=\"dataframe\">\n",
              "  <thead>\n",
              "    <tr style=\"text-align: right;\">\n",
              "      <th></th>\n",
              "      <th>player ID</th>\n",
              "      <th>Batting Avg.</th>\n",
              "      <th>Strike rate</th>\n",
              "      <th>L/R Handed Batsman</th>\n",
              "      <th>Wicket keeping</th>\n",
              "      <th>economy</th>\n",
              "      <th>avg speed</th>\n",
              "      <th>fitness index</th>\n",
              "      <th>Sixes</th>\n",
              "      <th>fours</th>\n",
              "      <th>Fast bowling</th>\n",
              "      <th>Leg Spin</th>\n",
              "      <th>Off Spin</th>\n",
              "      <th>against fast bowl</th>\n",
              "      <th>against leg spin</th>\n",
              "      <th>against off spin</th>\n",
              "      <th>Fanbase</th>\n",
              "      <th>Catch percentage</th>\n",
              "      <th>Region</th>\n",
              "      <th>Not selected</th>\n",
              "    </tr>\n",
              "  </thead>\n",
              "  <tbody>\n",
              "  </tbody>\n",
              "</table>\n",
              "</div>"
            ],
            "text/plain": [
              "Empty DataFrame\n",
              "Columns: [player ID, Batting Avg., Strike rate, L/R Handed Batsman, Wicket keeping, economy, avg speed, fitness index, Sixes, fours, Fast bowling, Leg Spin, Off Spin, against fast bowl, against leg spin, against off spin, Fanbase, Catch percentage, Region, Not selected]\n",
              "Index: []"
            ]
          },
          "metadata": {
            "tags": []
          },
          "execution_count": 151
        }
      ]
    },
    {
      "cell_type": "code",
      "metadata": {
        "id": "zcyFeYdcgeVD",
        "outputId": "6015238f-bb2f-430e-c6b3-9a1785a2d603",
        "colab": {
          "base_uri": "https://localhost:8080/",
          "height": 64
        }
      },
      "source": [
        "train[train['Not selected']==3]"
      ],
      "execution_count": null,
      "outputs": [
        {
          "output_type": "execute_result",
          "data": {
            "text/html": [
              "<div>\n",
              "<style scoped>\n",
              "    .dataframe tbody tr th:only-of-type {\n",
              "        vertical-align: middle;\n",
              "    }\n",
              "\n",
              "    .dataframe tbody tr th {\n",
              "        vertical-align: top;\n",
              "    }\n",
              "\n",
              "    .dataframe thead th {\n",
              "        text-align: right;\n",
              "    }\n",
              "</style>\n",
              "<table border=\"1\" class=\"dataframe\">\n",
              "  <thead>\n",
              "    <tr style=\"text-align: right;\">\n",
              "      <th></th>\n",
              "      <th>player ID</th>\n",
              "      <th>Batting Avg.</th>\n",
              "      <th>Strike rate</th>\n",
              "      <th>L/R Handed Batsman</th>\n",
              "      <th>Wicket keeping</th>\n",
              "      <th>economy</th>\n",
              "      <th>avg speed</th>\n",
              "      <th>fitness index</th>\n",
              "      <th>Sixes</th>\n",
              "      <th>fours</th>\n",
              "      <th>Fast bowling</th>\n",
              "      <th>Leg Spin</th>\n",
              "      <th>Off Spin</th>\n",
              "      <th>against fast bowl</th>\n",
              "      <th>against leg spin</th>\n",
              "      <th>against off spin</th>\n",
              "      <th>Fanbase</th>\n",
              "      <th>Catch percentage</th>\n",
              "      <th>Region</th>\n",
              "      <th>Not selected</th>\n",
              "    </tr>\n",
              "  </thead>\n",
              "  <tbody>\n",
              "  </tbody>\n",
              "</table>\n",
              "</div>"
            ],
            "text/plain": [
              "Empty DataFrame\n",
              "Columns: [player ID, Batting Avg., Strike rate, L/R Handed Batsman, Wicket keeping, economy, avg speed, fitness index, Sixes, fours, Fast bowling, Leg Spin, Off Spin, against fast bowl, against leg spin, against off spin, Fanbase, Catch percentage, Region, Not selected]\n",
              "Index: []"
            ]
          },
          "metadata": {
            "tags": []
          },
          "execution_count": 139
        }
      ]
    },
    {
      "cell_type": "code",
      "metadata": {
        "id": "6i2FP35MTk6f",
        "outputId": "633f7dee-814d-4a2c-d1ae-6338e26c5692",
        "colab": {
          "base_uri": "https://localhost:8080/",
          "height": 444
        }
      },
      "source": [
        "train.describe(include='all')"
      ],
      "execution_count": null,
      "outputs": [
        {
          "output_type": "execute_result",
          "data": {
            "text/html": [
              "<div>\n",
              "<style scoped>\n",
              "    .dataframe tbody tr th:only-of-type {\n",
              "        vertical-align: middle;\n",
              "    }\n",
              "\n",
              "    .dataframe tbody tr th {\n",
              "        vertical-align: top;\n",
              "    }\n",
              "\n",
              "    .dataframe thead th {\n",
              "        text-align: right;\n",
              "    }\n",
              "</style>\n",
              "<table border=\"1\" class=\"dataframe\">\n",
              "  <thead>\n",
              "    <tr style=\"text-align: right;\">\n",
              "      <th></th>\n",
              "      <th>player ID</th>\n",
              "      <th>Batting Avg.</th>\n",
              "      <th>Strike rate</th>\n",
              "      <th>L/R Handed Batsman</th>\n",
              "      <th>Wicket keeping</th>\n",
              "      <th>economy</th>\n",
              "      <th>avg speed</th>\n",
              "      <th>fitness index</th>\n",
              "      <th>Sixes</th>\n",
              "      <th>fours</th>\n",
              "      <th>Fast bowling</th>\n",
              "      <th>Leg Spin</th>\n",
              "      <th>Off Spin</th>\n",
              "      <th>against fast bowl</th>\n",
              "      <th>against leg spin</th>\n",
              "      <th>against off spin</th>\n",
              "      <th>Fanbase</th>\n",
              "      <th>Catch percentage</th>\n",
              "      <th>Region</th>\n",
              "      <th>Not selected</th>\n",
              "    </tr>\n",
              "  </thead>\n",
              "  <tbody>\n",
              "    <tr>\n",
              "      <th>count</th>\n",
              "      <td>195.000000</td>\n",
              "      <td>195</td>\n",
              "      <td>195.000000</td>\n",
              "      <td>195</td>\n",
              "      <td>195.000000</td>\n",
              "      <td>195.000000</td>\n",
              "      <td>195.000000</td>\n",
              "      <td>195.000000</td>\n",
              "      <td>195.000000</td>\n",
              "      <td>195.000000</td>\n",
              "      <td>195.000000</td>\n",
              "      <td>195.000000</td>\n",
              "      <td>195.000000</td>\n",
              "      <td>195.000000</td>\n",
              "      <td>195.000000</td>\n",
              "      <td>195.000000</td>\n",
              "      <td>195.000000</td>\n",
              "      <td>195.000000</td>\n",
              "      <td>195</td>\n",
              "      <td>195.000000</td>\n",
              "    </tr>\n",
              "    <tr>\n",
              "      <th>unique</th>\n",
              "      <td>NaN</td>\n",
              "      <td>7</td>\n",
              "      <td>NaN</td>\n",
              "      <td>4</td>\n",
              "      <td>NaN</td>\n",
              "      <td>NaN</td>\n",
              "      <td>NaN</td>\n",
              "      <td>NaN</td>\n",
              "      <td>NaN</td>\n",
              "      <td>NaN</td>\n",
              "      <td>NaN</td>\n",
              "      <td>NaN</td>\n",
              "      <td>NaN</td>\n",
              "      <td>NaN</td>\n",
              "      <td>NaN</td>\n",
              "      <td>NaN</td>\n",
              "      <td>NaN</td>\n",
              "      <td>NaN</td>\n",
              "      <td>10</td>\n",
              "      <td>NaN</td>\n",
              "    </tr>\n",
              "    <tr>\n",
              "      <th>top</th>\n",
              "      <td>NaN</td>\n",
              "      <td>1</td>\n",
              "      <td>NaN</td>\n",
              "      <td>1</td>\n",
              "      <td>NaN</td>\n",
              "      <td>NaN</td>\n",
              "      <td>NaN</td>\n",
              "      <td>NaN</td>\n",
              "      <td>NaN</td>\n",
              "      <td>NaN</td>\n",
              "      <td>NaN</td>\n",
              "      <td>NaN</td>\n",
              "      <td>NaN</td>\n",
              "      <td>NaN</td>\n",
              "      <td>NaN</td>\n",
              "      <td>NaN</td>\n",
              "      <td>NaN</td>\n",
              "      <td>NaN</td>\n",
              "      <td>RGB8</td>\n",
              "      <td>NaN</td>\n",
              "    </tr>\n",
              "    <tr>\n",
              "      <th>freq</th>\n",
              "      <td>NaN</td>\n",
              "      <td>45</td>\n",
              "      <td>NaN</td>\n",
              "      <td>122</td>\n",
              "      <td>NaN</td>\n",
              "      <td>NaN</td>\n",
              "      <td>NaN</td>\n",
              "      <td>NaN</td>\n",
              "      <td>NaN</td>\n",
              "      <td>NaN</td>\n",
              "      <td>NaN</td>\n",
              "      <td>NaN</td>\n",
              "      <td>NaN</td>\n",
              "      <td>NaN</td>\n",
              "      <td>NaN</td>\n",
              "      <td>NaN</td>\n",
              "      <td>NaN</td>\n",
              "      <td>NaN</td>\n",
              "      <td>25</td>\n",
              "      <td>NaN</td>\n",
              "    </tr>\n",
              "    <tr>\n",
              "      <th>mean</th>\n",
              "      <td>532440.825641</td>\n",
              "      <td>NaN</td>\n",
              "      <td>3.630769</td>\n",
              "      <td>NaN</td>\n",
              "      <td>6.769231</td>\n",
              "      <td>6.410256</td>\n",
              "      <td>6.825641</td>\n",
              "      <td>6.748718</td>\n",
              "      <td>6.548718</td>\n",
              "      <td>5.928205</td>\n",
              "      <td>6.184615</td>\n",
              "      <td>6.133333</td>\n",
              "      <td>6.271795</td>\n",
              "      <td>7.210256</td>\n",
              "      <td>7.558974</td>\n",
              "      <td>6.441026</td>\n",
              "      <td>7.379487</td>\n",
              "      <td>6.261538</td>\n",
              "      <td>NaN</td>\n",
              "      <td>0.148718</td>\n",
              "    </tr>\n",
              "    <tr>\n",
              "      <th>std</th>\n",
              "      <td>246776.419211</td>\n",
              "      <td>NaN</td>\n",
              "      <td>1.087453</td>\n",
              "      <td>NaN</td>\n",
              "      <td>2.252851</td>\n",
              "      <td>2.448626</td>\n",
              "      <td>2.098197</td>\n",
              "      <td>2.320557</td>\n",
              "      <td>2.534593</td>\n",
              "      <td>2.351787</td>\n",
              "      <td>2.365292</td>\n",
              "      <td>2.454255</td>\n",
              "      <td>2.454320</td>\n",
              "      <td>2.346723</td>\n",
              "      <td>2.233844</td>\n",
              "      <td>2.828493</td>\n",
              "      <td>2.231358</td>\n",
              "      <td>2.321639</td>\n",
              "      <td>NaN</td>\n",
              "      <td>0.356726</td>\n",
              "    </tr>\n",
              "    <tr>\n",
              "      <th>min</th>\n",
              "      <td>103045.000000</td>\n",
              "      <td>NaN</td>\n",
              "      <td>1.000000</td>\n",
              "      <td>NaN</td>\n",
              "      <td>-3.000000</td>\n",
              "      <td>-3.000000</td>\n",
              "      <td>-3.000000</td>\n",
              "      <td>-3.000000</td>\n",
              "      <td>-3.000000</td>\n",
              "      <td>-3.000000</td>\n",
              "      <td>-3.000000</td>\n",
              "      <td>-3.000000</td>\n",
              "      <td>-3.000000</td>\n",
              "      <td>-3.000000</td>\n",
              "      <td>-3.000000</td>\n",
              "      <td>-3.000000</td>\n",
              "      <td>-3.000000</td>\n",
              "      <td>-3.000000</td>\n",
              "      <td>NaN</td>\n",
              "      <td>0.000000</td>\n",
              "    </tr>\n",
              "    <tr>\n",
              "      <th>25%</th>\n",
              "      <td>336293.000000</td>\n",
              "      <td>NaN</td>\n",
              "      <td>3.000000</td>\n",
              "      <td>NaN</td>\n",
              "      <td>5.000000</td>\n",
              "      <td>5.000000</td>\n",
              "      <td>6.000000</td>\n",
              "      <td>5.000000</td>\n",
              "      <td>5.000000</td>\n",
              "      <td>5.000000</td>\n",
              "      <td>5.000000</td>\n",
              "      <td>5.000000</td>\n",
              "      <td>5.000000</td>\n",
              "      <td>6.000000</td>\n",
              "      <td>6.500000</td>\n",
              "      <td>5.000000</td>\n",
              "      <td>7.000000</td>\n",
              "      <td>5.000000</td>\n",
              "      <td>NaN</td>\n",
              "      <td>0.000000</td>\n",
              "    </tr>\n",
              "    <tr>\n",
              "      <th>50%</th>\n",
              "      <td>512274.000000</td>\n",
              "      <td>NaN</td>\n",
              "      <td>4.000000</td>\n",
              "      <td>NaN</td>\n",
              "      <td>7.000000</td>\n",
              "      <td>6.000000</td>\n",
              "      <td>7.000000</td>\n",
              "      <td>7.000000</td>\n",
              "      <td>7.000000</td>\n",
              "      <td>6.000000</td>\n",
              "      <td>6.000000</td>\n",
              "      <td>6.000000</td>\n",
              "      <td>7.000000</td>\n",
              "      <td>8.000000</td>\n",
              "      <td>8.000000</td>\n",
              "      <td>7.000000</td>\n",
              "      <td>8.000000</td>\n",
              "      <td>6.000000</td>\n",
              "      <td>NaN</td>\n",
              "      <td>0.000000</td>\n",
              "    </tr>\n",
              "    <tr>\n",
              "      <th>75%</th>\n",
              "      <td>732406.000000</td>\n",
              "      <td>NaN</td>\n",
              "      <td>5.000000</td>\n",
              "      <td>NaN</td>\n",
              "      <td>8.000000</td>\n",
              "      <td>8.000000</td>\n",
              "      <td>8.000000</td>\n",
              "      <td>8.000000</td>\n",
              "      <td>8.000000</td>\n",
              "      <td>8.000000</td>\n",
              "      <td>8.000000</td>\n",
              "      <td>8.000000</td>\n",
              "      <td>8.000000</td>\n",
              "      <td>9.000000</td>\n",
              "      <td>9.000000</td>\n",
              "      <td>8.000000</td>\n",
              "      <td>9.000000</td>\n",
              "      <td>8.000000</td>\n",
              "      <td>NaN</td>\n",
              "      <td>0.000000</td>\n",
              "    </tr>\n",
              "    <tr>\n",
              "      <th>max</th>\n",
              "      <td>980961.000000</td>\n",
              "      <td>NaN</td>\n",
              "      <td>5.000000</td>\n",
              "      <td>NaN</td>\n",
              "      <td>10.000000</td>\n",
              "      <td>10.000000</td>\n",
              "      <td>10.000000</td>\n",
              "      <td>10.000000</td>\n",
              "      <td>10.000000</td>\n",
              "      <td>10.000000</td>\n",
              "      <td>10.000000</td>\n",
              "      <td>10.000000</td>\n",
              "      <td>10.000000</td>\n",
              "      <td>10.000000</td>\n",
              "      <td>10.000000</td>\n",
              "      <td>10.000000</td>\n",
              "      <td>10.000000</td>\n",
              "      <td>10.000000</td>\n",
              "      <td>NaN</td>\n",
              "      <td>1.000000</td>\n",
              "    </tr>\n",
              "  </tbody>\n",
              "</table>\n",
              "</div>"
            ],
            "text/plain": [
              "            player ID Batting Avg.  ...  Region Not selected\n",
              "count      195.000000          195  ...     195   195.000000\n",
              "unique            NaN            7  ...      10          NaN\n",
              "top               NaN            1  ...    RGB8          NaN\n",
              "freq              NaN           45  ...      25          NaN\n",
              "mean    532440.825641          NaN  ...     NaN     0.148718\n",
              "std     246776.419211          NaN  ...     NaN     0.356726\n",
              "min     103045.000000          NaN  ...     NaN     0.000000\n",
              "25%     336293.000000          NaN  ...     NaN     0.000000\n",
              "50%     512274.000000          NaN  ...     NaN     0.000000\n",
              "75%     732406.000000          NaN  ...     NaN     0.000000\n",
              "max     980961.000000          NaN  ...     NaN     1.000000\n",
              "\n",
              "[11 rows x 20 columns]"
            ]
          },
          "metadata": {
            "tags": []
          },
          "execution_count": 14
        }
      ]
    },
    {
      "cell_type": "markdown",
      "metadata": {
        "id": "Bap9Su-WSM3F"
      },
      "source": [
        "# **Train and Test Data**"
      ]
    },
    {
      "cell_type": "code",
      "metadata": {
        "id": "Bg9-wGWIS4ba"
      },
      "source": [
        "enc=OrdinalEncoder(dtype=np.int32)\n",
        "train.Region = enc.fit_transform(train[['Region']])\n",
        "test.Region = enc.transform(test[['Region']])"
      ],
      "execution_count": null,
      "outputs": []
    },
    {
      "cell_type": "code",
      "metadata": {
        "id": "Ig0HrAwQcSVI"
      },
      "source": [
        "train=train[(train['Batting Avg.']!='na') & (train['L/R Handed Batsman']!='na')]\n",
        "train.loc[train['L/R Handed Batsman']=='*','L/R Handed Batsman']=3\n",
        "test.loc[test['L/R Handed Batsman']=='*','L/R Handed Batsman']=3\n",
        "train=train.astype(np.int64)\n",
        "test=test.astype(np.int64)"
      ],
      "execution_count": null,
      "outputs": []
    },
    {
      "cell_type": "code",
      "metadata": {
        "id": "oeCuHNoWSMSw"
      },
      "source": [
        "X_train, X_test, y_train, y_test = train_test_split(train.drop(['player ID','Not selected'],axis=1),train['Not selected'], test_size=0.1, random_state=2020)"
      ],
      "execution_count": null,
      "outputs": []
    },
    {
      "cell_type": "markdown",
      "metadata": {
        "id": "O3i8UnNsRnd_"
      },
      "source": [
        "# **Models**"
      ]
    },
    {
      "cell_type": "markdown",
      "metadata": {
        "id": "qFjdBNpQp0Ld"
      },
      "source": [
        "## **Model1(Logistic Regression)**"
      ]
    },
    {
      "cell_type": "code",
      "metadata": {
        "id": "r4nwiYJpRm2v",
        "outputId": "3d927403-7c02-4fa1-b506-60c02b37c4af",
        "colab": {
          "base_uri": "https://localhost:8080/",
          "height": 238
        }
      },
      "source": [
        "model=LogisticRegression()\n",
        "model.fit(X_train,y_train)"
      ],
      "execution_count": null,
      "outputs": [
        {
          "output_type": "stream",
          "text": [
            "/usr/local/lib/python3.6/dist-packages/sklearn/linear_model/_logistic.py:940: ConvergenceWarning: lbfgs failed to converge (status=1):\n",
            "STOP: TOTAL NO. of ITERATIONS REACHED LIMIT.\n",
            "\n",
            "Increase the number of iterations (max_iter) or scale the data as shown in:\n",
            "    https://scikit-learn.org/stable/modules/preprocessing.html\n",
            "Please also refer to the documentation for alternative solver options:\n",
            "    https://scikit-learn.org/stable/modules/linear_model.html#logistic-regression\n",
            "  extra_warning_msg=_LOGISTIC_SOLVER_CONVERGENCE_MSG)\n"
          ],
          "name": "stderr"
        },
        {
          "output_type": "execute_result",
          "data": {
            "text/plain": [
              "LogisticRegression(C=1.0, class_weight=None, dual=False, fit_intercept=True,\n",
              "                   intercept_scaling=1, l1_ratio=None, max_iter=100,\n",
              "                   multi_class='auto', n_jobs=None, penalty='l2',\n",
              "                   random_state=None, solver='lbfgs', tol=0.0001, verbose=0,\n",
              "                   warm_start=False)"
            ]
          },
          "metadata": {
            "tags": []
          },
          "execution_count": 274
        }
      ]
    },
    {
      "cell_type": "markdown",
      "metadata": {
        "id": "41DxKn_DqeeB"
      },
      "source": [
        "## **Model2(Random Forest)**"
      ]
    },
    {
      "cell_type": "code",
      "metadata": {
        "id": "Dl-hofSbd5sA",
        "outputId": "d808af06-8ffc-4dbb-f4dc-56d985a65ae6",
        "colab": {
          "base_uri": "https://localhost:8080/",
          "height": 153
        }
      },
      "source": [
        "model=RandomForestClassifier()\n",
        "model.fit(X_train,y_train)"
      ],
      "execution_count": null,
      "outputs": [
        {
          "output_type": "execute_result",
          "data": {
            "text/plain": [
              "RandomForestClassifier(bootstrap=True, ccp_alpha=0.0, class_weight=None,\n",
              "                       criterion='gini', max_depth=None, max_features='auto',\n",
              "                       max_leaf_nodes=None, max_samples=None,\n",
              "                       min_impurity_decrease=0.0, min_impurity_split=None,\n",
              "                       min_samples_leaf=1, min_samples_split=2,\n",
              "                       min_weight_fraction_leaf=0.0, n_estimators=100,\n",
              "                       n_jobs=None, oob_score=False, random_state=None,\n",
              "                       verbose=0, warm_start=False)"
            ]
          },
          "metadata": {
            "tags": []
          },
          "execution_count": 277
        }
      ]
    },
    {
      "cell_type": "markdown",
      "metadata": {
        "id": "L2sVPZYc4XyY"
      },
      "source": [
        "## **Model3(XGBoost)**"
      ]
    },
    {
      "cell_type": "code",
      "metadata": {
        "id": "acpekUtl4hP8"
      },
      "source": [
        ""
      ],
      "execution_count": null,
      "outputs": []
    },
    {
      "cell_type": "markdown",
      "metadata": {
        "id": "1G3qyzIC8TGZ"
      },
      "source": [
        "## **Model4(Gradient Boosting)**"
      ]
    },
    {
      "cell_type": "code",
      "metadata": {
        "id": "_kwNuel48icV"
      },
      "source": [
        ""
      ],
      "execution_count": null,
      "outputs": []
    },
    {
      "cell_type": "markdown",
      "metadata": {
        "id": "nbeeRdMj3swR"
      },
      "source": [
        "# **Score**"
      ]
    },
    {
      "cell_type": "code",
      "metadata": {
        "id": "Qt_Ionuz3vds",
        "outputId": "d0f16794-f927-4420-c6c1-bf3fb4929e86",
        "colab": {
          "base_uri": "https://localhost:8080/",
          "height": 34
        }
      },
      "source": [
        "fpr,tpr,thresholds = metrics.roc_curve(y_test,model.predict(X_test),pos_label=1)\n",
        "metrics.auc(fpr, tpr)"
      ],
      "execution_count": null,
      "outputs": [
        {
          "output_type": "execute_result",
          "data": {
            "text/plain": [
              "0.4722222222222222"
            ]
          },
          "metadata": {
            "tags": []
          },
          "execution_count": 280
        }
      ]
    },
    {
      "cell_type": "markdown",
      "metadata": {
        "id": "rEdqi38zfInO"
      },
      "source": [
        "# **Submit file creator**"
      ]
    },
    {
      "cell_type": "code",
      "metadata": {
        "id": "NO_TZ-eIkEZk",
        "outputId": "74c14694-b261-4a1d-e8da-f07a2579b015",
        "colab": {
          "base_uri": "https://localhost:8080/",
          "height": 102
        }
      },
      "source": [
        "model.fit(train.drop(['player ID','Not selected'],axis=1),train['Not selected'])"
      ],
      "execution_count": null,
      "outputs": [
        {
          "output_type": "execute_result",
          "data": {
            "text/plain": [
              "LogisticRegression(C=1.0, class_weight=None, dual=False, fit_intercept=True,\n",
              "                   intercept_scaling=1, l1_ratio=None, max_iter=100,\n",
              "                   multi_class='auto', n_jobs=None, penalty='l2',\n",
              "                   random_state=None, solver='lbfgs', tol=0.0001, verbose=0,\n",
              "                   warm_start=False)"
            ]
          },
          "metadata": {
            "tags": []
          },
          "execution_count": 246
        }
      ]
    },
    {
      "cell_type": "code",
      "metadata": {
        "id": "_bGrx0sjfGtr"
      },
      "source": [
        "y_pred=pd.Series(model.predict(test.drop(['player ID'],axis=1)),name='not selected')\n",
        "result=pd.merge(test['player ID'],y_pred,right_index = True,left_index = True)\n",
        "result.to_csv('Terminators.csv',index=False,header=['Player id','not selected'])"
      ],
      "execution_count": null,
      "outputs": []
    },
    {
      "cell_type": "code",
      "metadata": {
        "id": "hSu9QZRomAoO"
      },
      "source": [
        "result.head()"
      ],
      "execution_count": null,
      "outputs": []
    },
    {
      "cell_type": "code",
      "metadata": {
        "id": "OknXo8nvq44O"
      },
      "source": [
        "sub.head()"
      ],
      "execution_count": null,
      "outputs": []
    }
  ]
}