{
  "nbformat": 4,
  "nbformat_minor": 0,
  "metadata": {
    "colab": {
      "name": "kaggle-iiit-round1.ipynb",
      "provenance": [],
      "collapsed_sections": [
        "qFjdBNpQp0Ld"
      ],
      "include_colab_link": true
    },
    "kernelspec": {
      "name": "python3",
      "display_name": "Python 3"
    }
  },
  "cells": [
    {
      "cell_type": "markdown",
      "metadata": {
        "id": "view-in-github",
        "colab_type": "text"
      },
      "source": [
        "<a href=\"https://colab.research.google.com/github/hruthiksiva/KaggleComp-IIIT-Delhi/blob/main/kaggle_iiit_round1.ipynb\" target=\"_parent\"><img src=\"https://colab.research.google.com/assets/colab-badge.svg\" alt=\"Open In Colab\"/></a>"
      ]
    },
    {
      "cell_type": "code",
      "metadata": {
        "id": "Lz4gbtjdOyE1"
      },
      "source": [
        "import pandas as pd\n",
        "import numpy as np\n",
        "from sklearn.preprocessing import OrdinalEncoder\n",
        "from sklearn.model_selection import train_test_split\n",
        "from sklearn import metrics\n",
        "from sklearn.metrics import classification_report,accuracy_score\n",
        "import matplotlib.pyplot as plt"
      ],
      "execution_count": null,
      "outputs": []
    },
    {
      "cell_type": "code",
      "metadata": {
        "id": "U9Voe-w7P52W",
        "outputId": "d757505c-4b0d-4d6c-aca7-52a47c915b31",
        "colab": {
          "base_uri": "https://localhost:8080/",
          "height": 50
        }
      },
      "source": [
        "!ls\n",
        "train=pd.read_csv('Train_data_players.csv')\n",
        "test=pd.read_csv('Test_data_player.csv')\n",
        "sub=pd.read_csv('example_submission.csv')"
      ],
      "execution_count": null,
      "outputs": [
        {
          "output_type": "stream",
          "text": [
            "example_submission.csv\tTest_data_player.csv\n",
            "Terminators.csv\t\tTrain_data_players.csv\n"
          ],
          "name": "stdout"
        }
      ]
    },
    {
      "cell_type": "markdown",
      "metadata": {
        "id": "hKegO6uXWM-v"
      },
      "source": [
        "# **Visualize Data**"
      ]
    },
    {
      "cell_type": "code",
      "metadata": {
        "id": "fX3U2KD0usjA",
        "outputId": "5befce53-44e2-4656-9f6a-585941111423",
        "colab": {
          "base_uri": "https://localhost:8080/",
          "height": 212
        }
      },
      "source": [
        "train.head()"
      ],
      "execution_count": null,
      "outputs": [
        {
          "output_type": "execute_result",
          "data": {
            "text/html": [
              "<div>\n",
              "<style scoped>\n",
              "    .dataframe tbody tr th:only-of-type {\n",
              "        vertical-align: middle;\n",
              "    }\n",
              "\n",
              "    .dataframe tbody tr th {\n",
              "        vertical-align: top;\n",
              "    }\n",
              "\n",
              "    .dataframe thead th {\n",
              "        text-align: right;\n",
              "    }\n",
              "</style>\n",
              "<table border=\"1\" class=\"dataframe\">\n",
              "  <thead>\n",
              "    <tr style=\"text-align: right;\">\n",
              "      <th></th>\n",
              "      <th>player ID</th>\n",
              "      <th>Batting Avg.</th>\n",
              "      <th>Strike rate</th>\n",
              "      <th>L/R Handed Batsman</th>\n",
              "      <th>Wicket keeping</th>\n",
              "      <th>economy</th>\n",
              "      <th>avg speed</th>\n",
              "      <th>fitness index</th>\n",
              "      <th>Sixes</th>\n",
              "      <th>fours</th>\n",
              "      <th>Fast bowling</th>\n",
              "      <th>Leg Spin</th>\n",
              "      <th>Off Spin</th>\n",
              "      <th>against fast bowl</th>\n",
              "      <th>against leg spin</th>\n",
              "      <th>against off spin</th>\n",
              "      <th>Fanbase</th>\n",
              "      <th>Catch percentage</th>\n",
              "      <th>Region</th>\n",
              "      <th>Not selected</th>\n",
              "    </tr>\n",
              "  </thead>\n",
              "  <tbody>\n",
              "    <tr>\n",
              "      <th>0</th>\n",
              "      <td>246048</td>\n",
              "      <td>1</td>\n",
              "      <td>4</td>\n",
              "      <td>2</td>\n",
              "      <td>6</td>\n",
              "      <td>5</td>\n",
              "      <td>6</td>\n",
              "      <td>6</td>\n",
              "      <td>6</td>\n",
              "      <td>6</td>\n",
              "      <td>6</td>\n",
              "      <td>5</td>\n",
              "      <td>6</td>\n",
              "      <td>7</td>\n",
              "      <td>7</td>\n",
              "      <td>5</td>\n",
              "      <td>7</td>\n",
              "      <td>6</td>\n",
              "      <td>RGB7</td>\n",
              "      <td>0</td>\n",
              "    </tr>\n",
              "    <tr>\n",
              "      <th>1</th>\n",
              "      <td>387987</td>\n",
              "      <td>1</td>\n",
              "      <td>2</td>\n",
              "      <td>1</td>\n",
              "      <td>5</td>\n",
              "      <td>7</td>\n",
              "      <td>10</td>\n",
              "      <td>10</td>\n",
              "      <td>6</td>\n",
              "      <td>2</td>\n",
              "      <td>7</td>\n",
              "      <td>3</td>\n",
              "      <td>7</td>\n",
              "      <td>8</td>\n",
              "      <td>9</td>\n",
              "      <td>6</td>\n",
              "      <td>6</td>\n",
              "      <td>9</td>\n",
              "      <td>RGB10</td>\n",
              "      <td>1</td>\n",
              "    </tr>\n",
              "    <tr>\n",
              "      <th>2</th>\n",
              "      <td>788442</td>\n",
              "      <td>3</td>\n",
              "      <td>4</td>\n",
              "      <td>1</td>\n",
              "      <td>5</td>\n",
              "      <td>7</td>\n",
              "      <td>2</td>\n",
              "      <td>5</td>\n",
              "      <td>3</td>\n",
              "      <td>5</td>\n",
              "      <td>5</td>\n",
              "      <td>5</td>\n",
              "      <td>3</td>\n",
              "      <td>7</td>\n",
              "      <td>7</td>\n",
              "      <td>5</td>\n",
              "      <td>7</td>\n",
              "      <td>7</td>\n",
              "      <td>RGB6</td>\n",
              "      <td>0</td>\n",
              "    </tr>\n",
              "    <tr>\n",
              "      <th>3</th>\n",
              "      <td>465918</td>\n",
              "      <td>0</td>\n",
              "      <td>5</td>\n",
              "      <td>1</td>\n",
              "      <td>7</td>\n",
              "      <td>5</td>\n",
              "      <td>6</td>\n",
              "      <td>5</td>\n",
              "      <td>9</td>\n",
              "      <td>4</td>\n",
              "      <td>6</td>\n",
              "      <td>5</td>\n",
              "      <td>8</td>\n",
              "      <td>7</td>\n",
              "      <td>9</td>\n",
              "      <td>5</td>\n",
              "      <td>7</td>\n",
              "      <td>6</td>\n",
              "      <td>RGB8</td>\n",
              "      <td>0</td>\n",
              "    </tr>\n",
              "    <tr>\n",
              "      <th>4</th>\n",
              "      <td>295804</td>\n",
              "      <td>0</td>\n",
              "      <td>5</td>\n",
              "      <td>1</td>\n",
              "      <td>6</td>\n",
              "      <td>7</td>\n",
              "      <td>7</td>\n",
              "      <td>7</td>\n",
              "      <td>9</td>\n",
              "      <td>5</td>\n",
              "      <td>7</td>\n",
              "      <td>7</td>\n",
              "      <td>7</td>\n",
              "      <td>8</td>\n",
              "      <td>8</td>\n",
              "      <td>8</td>\n",
              "      <td>9</td>\n",
              "      <td>5</td>\n",
              "      <td>RGB1</td>\n",
              "      <td>0</td>\n",
              "    </tr>\n",
              "  </tbody>\n",
              "</table>\n",
              "</div>"
            ],
            "text/plain": [
              "   player ID Batting Avg.  Strike rate  ... Catch percentage  Region  Not selected\n",
              "0     246048            1            4  ...                6    RGB7             0\n",
              "1     387987            1            2  ...                9   RGB10             1\n",
              "2     788442            3            4  ...                7    RGB6             0\n",
              "3     465918            0            5  ...                6    RGB8             0\n",
              "4     295804            0            5  ...                5    RGB1             0\n",
              "\n",
              "[5 rows x 20 columns]"
            ]
          },
          "metadata": {
            "tags": []
          },
          "execution_count": 435
        }
      ]
    },
    {
      "cell_type": "code",
      "metadata": {
        "id": "CGN1-2Rku43H",
        "outputId": "ec97dac9-4e95-4d02-d0b5-c17eaf92b196",
        "colab": {
          "base_uri": "https://localhost:8080/",
          "height": 34
        }
      },
      "source": [
        "enc=OrdinalEncoder()\n",
        "enc.fit(train[['Region']])"
      ],
      "execution_count": null,
      "outputs": [
        {
          "output_type": "execute_result",
          "data": {
            "text/plain": [
              "OrdinalEncoder(categories='auto', dtype=<class 'numpy.float64'>)"
            ]
          },
          "metadata": {
            "tags": []
          },
          "execution_count": 436
        }
      ]
    },
    {
      "cell_type": "markdown",
      "metadata": {
        "id": "MwMoSuPHRNTh"
      },
      "source": [
        "# **Arena**"
      ]
    },
    {
      "cell_type": "code",
      "metadata": {
        "id": "Wr9kWVLYQn7U",
        "outputId": "0553988c-9a8b-4627-f9ca-21067353d352",
        "colab": {
          "base_uri": "https://localhost:8080/",
          "height": 118
        }
      },
      "source": [
        "train.columns"
      ],
      "execution_count": null,
      "outputs": [
        {
          "output_type": "execute_result",
          "data": {
            "text/plain": [
              "Index(['player ID', 'Batting Avg.', 'Strike rate', 'L/R Handed Batsman',\n",
              "       'Wicket keeping', 'economy', 'avg speed', 'fitness index', 'Sixes',\n",
              "       'fours', 'Fast bowling', 'Leg Spin', 'Off Spin', 'against fast bowl',\n",
              "       'against leg spin', 'against off spin', 'Fanbase', 'Catch percentage',\n",
              "       'Region', 'Not selected'],\n",
              "      dtype='object')"
            ]
          },
          "metadata": {
            "tags": []
          },
          "execution_count": 437
        }
      ]
    },
    {
      "cell_type": "code",
      "metadata": {
        "id": "8Ea0BtURQs2Z",
        "outputId": "e687bce9-295b-4b64-8818-7b0a510043f1",
        "colab": {
          "base_uri": "https://localhost:8080/",
          "height": 212
        }
      },
      "source": [
        "test.head()"
      ],
      "execution_count": null,
      "outputs": [
        {
          "output_type": "execute_result",
          "data": {
            "text/html": [
              "<div>\n",
              "<style scoped>\n",
              "    .dataframe tbody tr th:only-of-type {\n",
              "        vertical-align: middle;\n",
              "    }\n",
              "\n",
              "    .dataframe tbody tr th {\n",
              "        vertical-align: top;\n",
              "    }\n",
              "\n",
              "    .dataframe thead th {\n",
              "        text-align: right;\n",
              "    }\n",
              "</style>\n",
              "<table border=\"1\" class=\"dataframe\">\n",
              "  <thead>\n",
              "    <tr style=\"text-align: right;\">\n",
              "      <th></th>\n",
              "      <th>player ID</th>\n",
              "      <th>Batting Avg.</th>\n",
              "      <th>Strike rate</th>\n",
              "      <th>L/R Handed Batsman</th>\n",
              "      <th>Wicket keeping</th>\n",
              "      <th>economy</th>\n",
              "      <th>avg speed</th>\n",
              "      <th>fitness index</th>\n",
              "      <th>Sixes</th>\n",
              "      <th>fours</th>\n",
              "      <th>Fast bowling</th>\n",
              "      <th>Leg Spin</th>\n",
              "      <th>Off Spin</th>\n",
              "      <th>against fast bowl</th>\n",
              "      <th>against leg spin</th>\n",
              "      <th>against off spin</th>\n",
              "      <th>Fanbase</th>\n",
              "      <th>Catch percentage</th>\n",
              "      <th>Region</th>\n",
              "    </tr>\n",
              "  </thead>\n",
              "  <tbody>\n",
              "    <tr>\n",
              "      <th>0</th>\n",
              "      <td>943412</td>\n",
              "      <td>0</td>\n",
              "      <td>5</td>\n",
              "      <td>1</td>\n",
              "      <td>5</td>\n",
              "      <td>3</td>\n",
              "      <td>8</td>\n",
              "      <td>10</td>\n",
              "      <td>8</td>\n",
              "      <td>5</td>\n",
              "      <td>8</td>\n",
              "      <td>8</td>\n",
              "      <td>4</td>\n",
              "      <td>10</td>\n",
              "      <td>10</td>\n",
              "      <td>9</td>\n",
              "      <td>10</td>\n",
              "      <td>6</td>\n",
              "      <td>RGB6</td>\n",
              "    </tr>\n",
              "    <tr>\n",
              "      <th>1</th>\n",
              "      <td>891010</td>\n",
              "      <td>0</td>\n",
              "      <td>5</td>\n",
              "      <td>1</td>\n",
              "      <td>5</td>\n",
              "      <td>5</td>\n",
              "      <td>6</td>\n",
              "      <td>5</td>\n",
              "      <td>5</td>\n",
              "      <td>5</td>\n",
              "      <td>5</td>\n",
              "      <td>6</td>\n",
              "      <td>5</td>\n",
              "      <td>4</td>\n",
              "      <td>6</td>\n",
              "      <td>6</td>\n",
              "      <td>5</td>\n",
              "      <td>5</td>\n",
              "      <td>RGB10</td>\n",
              "    </tr>\n",
              "    <tr>\n",
              "      <th>2</th>\n",
              "      <td>232982</td>\n",
              "      <td>2</td>\n",
              "      <td>3</td>\n",
              "      <td>1</td>\n",
              "      <td>8</td>\n",
              "      <td>6</td>\n",
              "      <td>8</td>\n",
              "      <td>6</td>\n",
              "      <td>4</td>\n",
              "      <td>5</td>\n",
              "      <td>3</td>\n",
              "      <td>5</td>\n",
              "      <td>8</td>\n",
              "      <td>7</td>\n",
              "      <td>4</td>\n",
              "      <td>7</td>\n",
              "      <td>9</td>\n",
              "      <td>5</td>\n",
              "      <td>RGB7</td>\n",
              "    </tr>\n",
              "    <tr>\n",
              "      <th>3</th>\n",
              "      <td>762647</td>\n",
              "      <td>3</td>\n",
              "      <td>4</td>\n",
              "      <td>1</td>\n",
              "      <td>8</td>\n",
              "      <td>6</td>\n",
              "      <td>8</td>\n",
              "      <td>8</td>\n",
              "      <td>7</td>\n",
              "      <td>6</td>\n",
              "      <td>6</td>\n",
              "      <td>6</td>\n",
              "      <td>7</td>\n",
              "      <td>7</td>\n",
              "      <td>8</td>\n",
              "      <td>7</td>\n",
              "      <td>7</td>\n",
              "      <td>7</td>\n",
              "      <td>RGB6</td>\n",
              "    </tr>\n",
              "    <tr>\n",
              "      <th>4</th>\n",
              "      <td>882052</td>\n",
              "      <td>6</td>\n",
              "      <td>4</td>\n",
              "      <td>2</td>\n",
              "      <td>9</td>\n",
              "      <td>6</td>\n",
              "      <td>7</td>\n",
              "      <td>7</td>\n",
              "      <td>9</td>\n",
              "      <td>4</td>\n",
              "      <td>3</td>\n",
              "      <td>7</td>\n",
              "      <td>8</td>\n",
              "      <td>10</td>\n",
              "      <td>9</td>\n",
              "      <td>7</td>\n",
              "      <td>8</td>\n",
              "      <td>6</td>\n",
              "      <td>RGB3</td>\n",
              "    </tr>\n",
              "  </tbody>\n",
              "</table>\n",
              "</div>"
            ],
            "text/plain": [
              "   player ID  Batting Avg.  Strike rate  ... Fanbase  Catch percentage  Region\n",
              "0     943412             0            5  ...      10                 6    RGB6\n",
              "1     891010             0            5  ...       5                 5   RGB10\n",
              "2     232982             2            3  ...       9                 5    RGB7\n",
              "3     762647             3            4  ...       7                 7    RGB6\n",
              "4     882052             6            4  ...       8                 6    RGB3\n",
              "\n",
              "[5 rows x 19 columns]"
            ]
          },
          "metadata": {
            "tags": []
          },
          "execution_count": 438
        }
      ]
    },
    {
      "cell_type": "code",
      "metadata": {
        "id": "-dSkAk3Ka29q"
      },
      "source": [
        "train=train.infer_objects()"
      ],
      "execution_count": null,
      "outputs": []
    },
    {
      "cell_type": "code",
      "metadata": {
        "id": "P2MHKN2lSdI2",
        "outputId": "6028b7bb-4cb0-470e-c037-37ba618be47d",
        "colab": {
          "base_uri": "https://localhost:8080/",
          "height": 470
        }
      },
      "source": [
        "train.info()"
      ],
      "execution_count": null,
      "outputs": [
        {
          "output_type": "stream",
          "text": [
            "<class 'pandas.core.frame.DataFrame'>\n",
            "RangeIndex: 195 entries, 0 to 194\n",
            "Data columns (total 20 columns):\n",
            " #   Column              Non-Null Count  Dtype \n",
            "---  ------              --------------  ----- \n",
            " 0   player ID           195 non-null    int64 \n",
            " 1   Batting Avg.        195 non-null    object\n",
            " 2   Strike rate         195 non-null    int64 \n",
            " 3   L/R Handed Batsman  195 non-null    object\n",
            " 4   Wicket keeping      195 non-null    int64 \n",
            " 5   economy             195 non-null    int64 \n",
            " 6   avg speed           195 non-null    int64 \n",
            " 7   fitness index       195 non-null    int64 \n",
            " 8   Sixes               195 non-null    int64 \n",
            " 9   fours               195 non-null    int64 \n",
            " 10  Fast bowling        195 non-null    int64 \n",
            " 11  Leg Spin            195 non-null    int64 \n",
            " 12  Off Spin            195 non-null    int64 \n",
            " 13  against fast bowl   195 non-null    int64 \n",
            " 14  against leg spin    195 non-null    int64 \n",
            " 15  against off spin    195 non-null    int64 \n",
            " 16  Fanbase             195 non-null    int64 \n",
            " 17  Catch percentage    195 non-null    int64 \n",
            " 18  Region              195 non-null    object\n",
            " 19  Not selected        195 non-null    int64 \n",
            "dtypes: int64(17), object(3)\n",
            "memory usage: 30.6+ KB\n"
          ],
          "name": "stdout"
        }
      ]
    },
    {
      "cell_type": "code",
      "metadata": {
        "id": "klRPfKd3SvOO",
        "outputId": "10b0cfe2-b0c5-4537-de15-37b2007d152b",
        "colab": {
          "base_uri": "https://localhost:8080/",
          "height": 34
        }
      },
      "source": [
        "train['Not selected'].unique()"
      ],
      "execution_count": null,
      "outputs": [
        {
          "output_type": "execute_result",
          "data": {
            "text/plain": [
              "array([0, 1])"
            ]
          },
          "metadata": {
            "tags": []
          },
          "execution_count": 441
        }
      ]
    },
    {
      "cell_type": "code",
      "metadata": {
        "id": "UD3BD3XkXrHJ",
        "outputId": "2641078a-e492-4919-b15a-b5972e358a4f",
        "colab": {
          "base_uri": "https://localhost:8080/",
          "height": 34
        }
      },
      "source": [
        "train['L/R Handed Batsman'].unique()"
      ],
      "execution_count": null,
      "outputs": [
        {
          "output_type": "execute_result",
          "data": {
            "text/plain": [
              "array(['2', '1', '*', 'na'], dtype=object)"
            ]
          },
          "metadata": {
            "tags": []
          },
          "execution_count": 442
        }
      ]
    },
    {
      "cell_type": "code",
      "metadata": {
        "id": "O_hWuDaPabHU",
        "outputId": "fe03658b-a5b7-468c-afb5-eedb8be5cbf8",
        "colab": {
          "base_uri": "https://localhost:8080/",
          "height": 218
        }
      },
      "source": [
        "train['Region']"
      ],
      "execution_count": null,
      "outputs": [
        {
          "output_type": "execute_result",
          "data": {
            "text/plain": [
              "0       RGB7\n",
              "1      RGB10\n",
              "2       RGB6\n",
              "3       RGB8\n",
              "4       RGB1\n",
              "       ...  \n",
              "190     RGB3\n",
              "191     RGB8\n",
              "192     RGB6\n",
              "193     RGB8\n",
              "194     RGB3\n",
              "Name: Region, Length: 195, dtype: object"
            ]
          },
          "metadata": {
            "tags": []
          },
          "execution_count": 443
        }
      ]
    },
    {
      "cell_type": "code",
      "metadata": {
        "id": "ugfGGaTIZ0VM",
        "outputId": "afdd5af8-71d1-495e-b927-c041d7eafa38",
        "colab": {
          "base_uri": "https://localhost:8080/",
          "height": 64
        }
      },
      "source": [
        "train[train['Not selected']==3]"
      ],
      "execution_count": null,
      "outputs": [
        {
          "output_type": "execute_result",
          "data": {
            "text/html": [
              "<div>\n",
              "<style scoped>\n",
              "    .dataframe tbody tr th:only-of-type {\n",
              "        vertical-align: middle;\n",
              "    }\n",
              "\n",
              "    .dataframe tbody tr th {\n",
              "        vertical-align: top;\n",
              "    }\n",
              "\n",
              "    .dataframe thead th {\n",
              "        text-align: right;\n",
              "    }\n",
              "</style>\n",
              "<table border=\"1\" class=\"dataframe\">\n",
              "  <thead>\n",
              "    <tr style=\"text-align: right;\">\n",
              "      <th></th>\n",
              "      <th>player ID</th>\n",
              "      <th>Batting Avg.</th>\n",
              "      <th>Strike rate</th>\n",
              "      <th>L/R Handed Batsman</th>\n",
              "      <th>Wicket keeping</th>\n",
              "      <th>economy</th>\n",
              "      <th>avg speed</th>\n",
              "      <th>fitness index</th>\n",
              "      <th>Sixes</th>\n",
              "      <th>fours</th>\n",
              "      <th>Fast bowling</th>\n",
              "      <th>Leg Spin</th>\n",
              "      <th>Off Spin</th>\n",
              "      <th>against fast bowl</th>\n",
              "      <th>against leg spin</th>\n",
              "      <th>against off spin</th>\n",
              "      <th>Fanbase</th>\n",
              "      <th>Catch percentage</th>\n",
              "      <th>Region</th>\n",
              "      <th>Not selected</th>\n",
              "    </tr>\n",
              "  </thead>\n",
              "  <tbody>\n",
              "  </tbody>\n",
              "</table>\n",
              "</div>"
            ],
            "text/plain": [
              "Empty DataFrame\n",
              "Columns: [player ID, Batting Avg., Strike rate, L/R Handed Batsman, Wicket keeping, economy, avg speed, fitness index, Sixes, fours, Fast bowling, Leg Spin, Off Spin, against fast bowl, against leg spin, against off spin, Fanbase, Catch percentage, Region, Not selected]\n",
              "Index: []"
            ]
          },
          "metadata": {
            "tags": []
          },
          "execution_count": 444
        }
      ]
    },
    {
      "cell_type": "code",
      "metadata": {
        "id": "zcyFeYdcgeVD",
        "outputId": "ea8521c1-9c1b-4668-ad98-f74f1794e582",
        "colab": {
          "base_uri": "https://localhost:8080/",
          "height": 64
        }
      },
      "source": [
        "train[train['Not selected']==3]"
      ],
      "execution_count": null,
      "outputs": [
        {
          "output_type": "execute_result",
          "data": {
            "text/html": [
              "<div>\n",
              "<style scoped>\n",
              "    .dataframe tbody tr th:only-of-type {\n",
              "        vertical-align: middle;\n",
              "    }\n",
              "\n",
              "    .dataframe tbody tr th {\n",
              "        vertical-align: top;\n",
              "    }\n",
              "\n",
              "    .dataframe thead th {\n",
              "        text-align: right;\n",
              "    }\n",
              "</style>\n",
              "<table border=\"1\" class=\"dataframe\">\n",
              "  <thead>\n",
              "    <tr style=\"text-align: right;\">\n",
              "      <th></th>\n",
              "      <th>player ID</th>\n",
              "      <th>Batting Avg.</th>\n",
              "      <th>Strike rate</th>\n",
              "      <th>L/R Handed Batsman</th>\n",
              "      <th>Wicket keeping</th>\n",
              "      <th>economy</th>\n",
              "      <th>avg speed</th>\n",
              "      <th>fitness index</th>\n",
              "      <th>Sixes</th>\n",
              "      <th>fours</th>\n",
              "      <th>Fast bowling</th>\n",
              "      <th>Leg Spin</th>\n",
              "      <th>Off Spin</th>\n",
              "      <th>against fast bowl</th>\n",
              "      <th>against leg spin</th>\n",
              "      <th>against off spin</th>\n",
              "      <th>Fanbase</th>\n",
              "      <th>Catch percentage</th>\n",
              "      <th>Region</th>\n",
              "      <th>Not selected</th>\n",
              "    </tr>\n",
              "  </thead>\n",
              "  <tbody>\n",
              "  </tbody>\n",
              "</table>\n",
              "</div>"
            ],
            "text/plain": [
              "Empty DataFrame\n",
              "Columns: [player ID, Batting Avg., Strike rate, L/R Handed Batsman, Wicket keeping, economy, avg speed, fitness index, Sixes, fours, Fast bowling, Leg Spin, Off Spin, against fast bowl, against leg spin, against off spin, Fanbase, Catch percentage, Region, Not selected]\n",
              "Index: []"
            ]
          },
          "metadata": {
            "tags": []
          },
          "execution_count": 445
        }
      ]
    },
    {
      "cell_type": "code",
      "metadata": {
        "id": "6i2FP35MTk6f",
        "outputId": "2db172ed-65e9-4959-a103-e692a94a67d1",
        "colab": {
          "base_uri": "https://localhost:8080/",
          "height": 426
        }
      },
      "source": [
        "train.describe(include='all')"
      ],
      "execution_count": null,
      "outputs": [
        {
          "output_type": "execute_result",
          "data": {
            "text/html": [
              "<div>\n",
              "<style scoped>\n",
              "    .dataframe tbody tr th:only-of-type {\n",
              "        vertical-align: middle;\n",
              "    }\n",
              "\n",
              "    .dataframe tbody tr th {\n",
              "        vertical-align: top;\n",
              "    }\n",
              "\n",
              "    .dataframe thead th {\n",
              "        text-align: right;\n",
              "    }\n",
              "</style>\n",
              "<table border=\"1\" class=\"dataframe\">\n",
              "  <thead>\n",
              "    <tr style=\"text-align: right;\">\n",
              "      <th></th>\n",
              "      <th>player ID</th>\n",
              "      <th>Batting Avg.</th>\n",
              "      <th>Strike rate</th>\n",
              "      <th>L/R Handed Batsman</th>\n",
              "      <th>Wicket keeping</th>\n",
              "      <th>economy</th>\n",
              "      <th>avg speed</th>\n",
              "      <th>fitness index</th>\n",
              "      <th>Sixes</th>\n",
              "      <th>fours</th>\n",
              "      <th>Fast bowling</th>\n",
              "      <th>Leg Spin</th>\n",
              "      <th>Off Spin</th>\n",
              "      <th>against fast bowl</th>\n",
              "      <th>against leg spin</th>\n",
              "      <th>against off spin</th>\n",
              "      <th>Fanbase</th>\n",
              "      <th>Catch percentage</th>\n",
              "      <th>Region</th>\n",
              "      <th>Not selected</th>\n",
              "    </tr>\n",
              "  </thead>\n",
              "  <tbody>\n",
              "    <tr>\n",
              "      <th>count</th>\n",
              "      <td>195.000000</td>\n",
              "      <td>195</td>\n",
              "      <td>195.000000</td>\n",
              "      <td>195</td>\n",
              "      <td>195.000000</td>\n",
              "      <td>195.000000</td>\n",
              "      <td>195.000000</td>\n",
              "      <td>195.000000</td>\n",
              "      <td>195.000000</td>\n",
              "      <td>195.000000</td>\n",
              "      <td>195.000000</td>\n",
              "      <td>195.000000</td>\n",
              "      <td>195.000000</td>\n",
              "      <td>195.000000</td>\n",
              "      <td>195.000000</td>\n",
              "      <td>195.000000</td>\n",
              "      <td>195.000000</td>\n",
              "      <td>195.000000</td>\n",
              "      <td>195</td>\n",
              "      <td>195.000000</td>\n",
              "    </tr>\n",
              "    <tr>\n",
              "      <th>unique</th>\n",
              "      <td>NaN</td>\n",
              "      <td>7</td>\n",
              "      <td>NaN</td>\n",
              "      <td>4</td>\n",
              "      <td>NaN</td>\n",
              "      <td>NaN</td>\n",
              "      <td>NaN</td>\n",
              "      <td>NaN</td>\n",
              "      <td>NaN</td>\n",
              "      <td>NaN</td>\n",
              "      <td>NaN</td>\n",
              "      <td>NaN</td>\n",
              "      <td>NaN</td>\n",
              "      <td>NaN</td>\n",
              "      <td>NaN</td>\n",
              "      <td>NaN</td>\n",
              "      <td>NaN</td>\n",
              "      <td>NaN</td>\n",
              "      <td>10</td>\n",
              "      <td>NaN</td>\n",
              "    </tr>\n",
              "    <tr>\n",
              "      <th>top</th>\n",
              "      <td>NaN</td>\n",
              "      <td>1</td>\n",
              "      <td>NaN</td>\n",
              "      <td>1</td>\n",
              "      <td>NaN</td>\n",
              "      <td>NaN</td>\n",
              "      <td>NaN</td>\n",
              "      <td>NaN</td>\n",
              "      <td>NaN</td>\n",
              "      <td>NaN</td>\n",
              "      <td>NaN</td>\n",
              "      <td>NaN</td>\n",
              "      <td>NaN</td>\n",
              "      <td>NaN</td>\n",
              "      <td>NaN</td>\n",
              "      <td>NaN</td>\n",
              "      <td>NaN</td>\n",
              "      <td>NaN</td>\n",
              "      <td>RGB8</td>\n",
              "      <td>NaN</td>\n",
              "    </tr>\n",
              "    <tr>\n",
              "      <th>freq</th>\n",
              "      <td>NaN</td>\n",
              "      <td>45</td>\n",
              "      <td>NaN</td>\n",
              "      <td>122</td>\n",
              "      <td>NaN</td>\n",
              "      <td>NaN</td>\n",
              "      <td>NaN</td>\n",
              "      <td>NaN</td>\n",
              "      <td>NaN</td>\n",
              "      <td>NaN</td>\n",
              "      <td>NaN</td>\n",
              "      <td>NaN</td>\n",
              "      <td>NaN</td>\n",
              "      <td>NaN</td>\n",
              "      <td>NaN</td>\n",
              "      <td>NaN</td>\n",
              "      <td>NaN</td>\n",
              "      <td>NaN</td>\n",
              "      <td>25</td>\n",
              "      <td>NaN</td>\n",
              "    </tr>\n",
              "    <tr>\n",
              "      <th>mean</th>\n",
              "      <td>532440.825641</td>\n",
              "      <td>NaN</td>\n",
              "      <td>3.630769</td>\n",
              "      <td>NaN</td>\n",
              "      <td>6.769231</td>\n",
              "      <td>6.410256</td>\n",
              "      <td>6.825641</td>\n",
              "      <td>6.748718</td>\n",
              "      <td>6.548718</td>\n",
              "      <td>5.928205</td>\n",
              "      <td>6.184615</td>\n",
              "      <td>6.133333</td>\n",
              "      <td>6.271795</td>\n",
              "      <td>7.210256</td>\n",
              "      <td>7.558974</td>\n",
              "      <td>6.441026</td>\n",
              "      <td>7.379487</td>\n",
              "      <td>6.261538</td>\n",
              "      <td>NaN</td>\n",
              "      <td>0.148718</td>\n",
              "    </tr>\n",
              "    <tr>\n",
              "      <th>std</th>\n",
              "      <td>246776.419211</td>\n",
              "      <td>NaN</td>\n",
              "      <td>1.087453</td>\n",
              "      <td>NaN</td>\n",
              "      <td>2.252851</td>\n",
              "      <td>2.448626</td>\n",
              "      <td>2.098197</td>\n",
              "      <td>2.320557</td>\n",
              "      <td>2.534593</td>\n",
              "      <td>2.351787</td>\n",
              "      <td>2.365292</td>\n",
              "      <td>2.454255</td>\n",
              "      <td>2.454320</td>\n",
              "      <td>2.346723</td>\n",
              "      <td>2.233844</td>\n",
              "      <td>2.828493</td>\n",
              "      <td>2.231358</td>\n",
              "      <td>2.321639</td>\n",
              "      <td>NaN</td>\n",
              "      <td>0.356726</td>\n",
              "    </tr>\n",
              "    <tr>\n",
              "      <th>min</th>\n",
              "      <td>103045.000000</td>\n",
              "      <td>NaN</td>\n",
              "      <td>1.000000</td>\n",
              "      <td>NaN</td>\n",
              "      <td>-3.000000</td>\n",
              "      <td>-3.000000</td>\n",
              "      <td>-3.000000</td>\n",
              "      <td>-3.000000</td>\n",
              "      <td>-3.000000</td>\n",
              "      <td>-3.000000</td>\n",
              "      <td>-3.000000</td>\n",
              "      <td>-3.000000</td>\n",
              "      <td>-3.000000</td>\n",
              "      <td>-3.000000</td>\n",
              "      <td>-3.000000</td>\n",
              "      <td>-3.000000</td>\n",
              "      <td>-3.000000</td>\n",
              "      <td>-3.000000</td>\n",
              "      <td>NaN</td>\n",
              "      <td>0.000000</td>\n",
              "    </tr>\n",
              "    <tr>\n",
              "      <th>25%</th>\n",
              "      <td>336293.000000</td>\n",
              "      <td>NaN</td>\n",
              "      <td>3.000000</td>\n",
              "      <td>NaN</td>\n",
              "      <td>5.000000</td>\n",
              "      <td>5.000000</td>\n",
              "      <td>6.000000</td>\n",
              "      <td>5.000000</td>\n",
              "      <td>5.000000</td>\n",
              "      <td>5.000000</td>\n",
              "      <td>5.000000</td>\n",
              "      <td>5.000000</td>\n",
              "      <td>5.000000</td>\n",
              "      <td>6.000000</td>\n",
              "      <td>6.500000</td>\n",
              "      <td>5.000000</td>\n",
              "      <td>7.000000</td>\n",
              "      <td>5.000000</td>\n",
              "      <td>NaN</td>\n",
              "      <td>0.000000</td>\n",
              "    </tr>\n",
              "    <tr>\n",
              "      <th>50%</th>\n",
              "      <td>512274.000000</td>\n",
              "      <td>NaN</td>\n",
              "      <td>4.000000</td>\n",
              "      <td>NaN</td>\n",
              "      <td>7.000000</td>\n",
              "      <td>6.000000</td>\n",
              "      <td>7.000000</td>\n",
              "      <td>7.000000</td>\n",
              "      <td>7.000000</td>\n",
              "      <td>6.000000</td>\n",
              "      <td>6.000000</td>\n",
              "      <td>6.000000</td>\n",
              "      <td>7.000000</td>\n",
              "      <td>8.000000</td>\n",
              "      <td>8.000000</td>\n",
              "      <td>7.000000</td>\n",
              "      <td>8.000000</td>\n",
              "      <td>6.000000</td>\n",
              "      <td>NaN</td>\n",
              "      <td>0.000000</td>\n",
              "    </tr>\n",
              "    <tr>\n",
              "      <th>75%</th>\n",
              "      <td>732406.000000</td>\n",
              "      <td>NaN</td>\n",
              "      <td>5.000000</td>\n",
              "      <td>NaN</td>\n",
              "      <td>8.000000</td>\n",
              "      <td>8.000000</td>\n",
              "      <td>8.000000</td>\n",
              "      <td>8.000000</td>\n",
              "      <td>8.000000</td>\n",
              "      <td>8.000000</td>\n",
              "      <td>8.000000</td>\n",
              "      <td>8.000000</td>\n",
              "      <td>8.000000</td>\n",
              "      <td>9.000000</td>\n",
              "      <td>9.000000</td>\n",
              "      <td>8.000000</td>\n",
              "      <td>9.000000</td>\n",
              "      <td>8.000000</td>\n",
              "      <td>NaN</td>\n",
              "      <td>0.000000</td>\n",
              "    </tr>\n",
              "    <tr>\n",
              "      <th>max</th>\n",
              "      <td>980961.000000</td>\n",
              "      <td>NaN</td>\n",
              "      <td>5.000000</td>\n",
              "      <td>NaN</td>\n",
              "      <td>10.000000</td>\n",
              "      <td>10.000000</td>\n",
              "      <td>10.000000</td>\n",
              "      <td>10.000000</td>\n",
              "      <td>10.000000</td>\n",
              "      <td>10.000000</td>\n",
              "      <td>10.000000</td>\n",
              "      <td>10.000000</td>\n",
              "      <td>10.000000</td>\n",
              "      <td>10.000000</td>\n",
              "      <td>10.000000</td>\n",
              "      <td>10.000000</td>\n",
              "      <td>10.000000</td>\n",
              "      <td>10.000000</td>\n",
              "      <td>NaN</td>\n",
              "      <td>1.000000</td>\n",
              "    </tr>\n",
              "  </tbody>\n",
              "</table>\n",
              "</div>"
            ],
            "text/plain": [
              "            player ID Batting Avg.  ...  Region Not selected\n",
              "count      195.000000          195  ...     195   195.000000\n",
              "unique            NaN            7  ...      10          NaN\n",
              "top               NaN            1  ...    RGB8          NaN\n",
              "freq              NaN           45  ...      25          NaN\n",
              "mean    532440.825641          NaN  ...     NaN     0.148718\n",
              "std     246776.419211          NaN  ...     NaN     0.356726\n",
              "min     103045.000000          NaN  ...     NaN     0.000000\n",
              "25%     336293.000000          NaN  ...     NaN     0.000000\n",
              "50%     512274.000000          NaN  ...     NaN     0.000000\n",
              "75%     732406.000000          NaN  ...     NaN     0.000000\n",
              "max     980961.000000          NaN  ...     NaN     1.000000\n",
              "\n",
              "[11 rows x 20 columns]"
            ]
          },
          "metadata": {
            "tags": []
          },
          "execution_count": 446
        }
      ]
    },
    {
      "cell_type": "markdown",
      "metadata": {
        "id": "Bap9Su-WSM3F"
      },
      "source": [
        "# **Train and Test Data**"
      ]
    },
    {
      "cell_type": "code",
      "metadata": {
        "id": "Bg9-wGWIS4ba"
      },
      "source": [
        "enc=OrdinalEncoder(dtype=np.int32)\n",
        "train.Region = enc.fit_transform(train[['Region']])\n",
        "test.Region = enc.transform(test[['Region']])"
      ],
      "execution_count": null,
      "outputs": []
    },
    {
      "cell_type": "code",
      "metadata": {
        "id": "Ig0HrAwQcSVI"
      },
      "source": [
        "train=train[(train['Batting Avg.']!='na') & (train['L/R Handed Batsman']!='na')]\n",
        "train.loc[train['L/R Handed Batsman']=='*','L/R Handed Batsman']=3\n",
        "test.loc[test['L/R Handed Batsman']=='*','L/R Handed Batsman']=3\n",
        "\n",
        "train=train.astype(np.int64)\n",
        "test=test.astype(np.int64)"
      ],
      "execution_count": null,
      "outputs": []
    },
    {
      "cell_type": "code",
      "metadata": {
        "id": "oeCuHNoWSMSw"
      },
      "source": [
        "X_train, X_test, Y_train, Y_test = train_test_split(train.drop(['player ID','Not selected'],axis=1),train['Not selected'], test_size=0.2, random_state=2020)"
      ],
      "execution_count": null,
      "outputs": []
    },
    {
      "cell_type": "markdown",
      "metadata": {
        "id": "O3i8UnNsRnd_"
      },
      "source": [
        "# **Models**"
      ]
    },
    {
      "cell_type": "markdown",
      "metadata": {
        "id": "qFjdBNpQp0Ld"
      },
      "source": [
        "## **Model1(Logistic Regression)**"
      ]
    },
    {
      "cell_type": "code",
      "metadata": {
        "id": "efpYIdKj_82V",
        "outputId": "2a7b84c6-1ac8-4452-f2bd-2d6b2ffc75f3",
        "colab": {
          "base_uri": "https://localhost:8080/",
          "height": 101
        }
      },
      "source": [
        "LogisticRegression()"
      ],
      "execution_count": null,
      "outputs": [
        {
          "output_type": "execute_result",
          "data": {
            "text/plain": [
              "LogisticRegression(C=1.0, class_weight=None, dual=False, fit_intercept=True,\n",
              "                   intercept_scaling=1, l1_ratio=None, max_iter=100,\n",
              "                   multi_class='auto', n_jobs=None, penalty='l2',\n",
              "                   random_state=None, solver='lbfgs', tol=0.0001, verbose=0,\n",
              "                   warm_start=False)"
            ]
          },
          "metadata": {
            "tags": []
          },
          "execution_count": 358
        }
      ]
    },
    {
      "cell_type": "code",
      "metadata": {
        "id": "r4nwiYJpRm2v",
        "outputId": "0a3b45e7-a863-429d-af30-70f56542ed2f",
        "colab": {
          "base_uri": "https://localhost:8080/",
          "height": 34
        }
      },
      "source": [
        "from sklearn.linear_model import LogisticRegression\n",
        "#model=LogisticRegression()\n",
        "model=LogisticRegression()#max_iter=100)\n",
        "model.fit(X_train,Y_train)\n",
        "fpr,tpr,thresholds = metrics.roc_curve(Y_test,model.predict(X_test),pos_label=1)\n",
        "metrics.auc(fpr, tpr)"
      ],
      "execution_count": null,
      "outputs": [
        {
          "output_type": "execute_result",
          "data": {
            "text/plain": [
              "0.45588235294117646"
            ]
          },
          "metadata": {
            "tags": []
          },
          "execution_count": 457
        }
      ]
    },
    {
      "cell_type": "markdown",
      "metadata": {
        "id": "41DxKn_DqeeB"
      },
      "source": [
        "## **Model2(Random Forest)**"
      ]
    },
    {
      "cell_type": "code",
      "metadata": {
        "id": "4kZ3IcJGixsD",
        "outputId": "bbe44ee0-2a39-4384-81b4-4a7408169f79",
        "colab": {
          "base_uri": "https://localhost:8080/",
          "height": 151
        }
      },
      "source": [
        "RandomForestClassifier()"
      ],
      "execution_count": null,
      "outputs": [
        {
          "output_type": "execute_result",
          "data": {
            "text/plain": [
              "RandomForestClassifier(bootstrap=True, ccp_alpha=0.0, class_weight=None,\n",
              "                       criterion='gini', max_depth=None, max_features='auto',\n",
              "                       max_leaf_nodes=None, max_samples=None,\n",
              "                       min_impurity_decrease=0.0, min_impurity_split=None,\n",
              "                       min_samples_leaf=1, min_samples_split=2,\n",
              "                       min_weight_fraction_leaf=0.0, n_estimators=100,\n",
              "                       n_jobs=None, oob_score=False, random_state=None,\n",
              "                       verbose=0, warm_start=False)"
            ]
          },
          "metadata": {
            "tags": []
          },
          "execution_count": 333
        }
      ]
    },
    {
      "cell_type": "code",
      "metadata": {
        "id": "Dl-hofSbd5sA",
        "outputId": "4b28618d-833a-4821-e235-5b88bbcf8915",
        "colab": {
          "base_uri": "https://localhost:8080/",
          "height": 34
        }
      },
      "source": [
        "from sklearn.ensemble import RandomForestClassifier\n",
        "#model=RandomForestClassifier()\n",
        "model=RandomForestClassifier(n_estimators=100,criterion=\"entropy\",max_depth=2)\n",
        "model.fit(X_train,Y_train)\n",
        "fpr,tpr,thresholds = metrics.roc_curve(Y_test,model.predict(X_test),pos_label=1)\n",
        "metrics.auc(fpr, tpr)"
      ],
      "execution_count": null,
      "outputs": [
        {
          "output_type": "execute_result",
          "data": {
            "text/plain": [
              "0.5"
            ]
          },
          "metadata": {
            "tags": []
          },
          "execution_count": 458
        }
      ]
    },
    {
      "cell_type": "markdown",
      "metadata": {
        "id": "L2sVPZYc4XyY"
      },
      "source": [
        "## **Model3(XGBoost)**"
      ]
    },
    {
      "cell_type": "code",
      "metadata": {
        "id": "acpekUtl4hP8",
        "outputId": "2881fc2c-1247-4c73-c19e-f02f31465d83",
        "colab": {
          "base_uri": "https://localhost:8080/",
          "height": 34
        }
      },
      "source": [
        "from xgboost import XGBClassifier\n",
        "model = XGBClassifier()\n",
        "#model = XGBClassifier(max_depth=3,subsample=1,n_estimators=100,learning_rate=0.2,min_child_weight=2,random_state=5,reg_alpha=0, reg_lambda=1) \n",
        "model.fit(X_train, Y_train) \n",
        "fpr,tpr,thresholds = metrics.roc_curve(Y_test,model.predict(X_test),pos_label=1)\n",
        "metrics.auc(fpr, tpr)"
      ],
      "execution_count": null,
      "outputs": [
        {
          "output_type": "execute_result",
          "data": {
            "text/plain": [
              "0.5705882352941176"
            ]
          },
          "metadata": {
            "tags": []
          },
          "execution_count": 371
        }
      ]
    },
    {
      "cell_type": "markdown",
      "metadata": {
        "id": "1G3qyzIC8TGZ"
      },
      "source": [
        "## **Model4(Gradient Boosting)**"
      ]
    },
    {
      "cell_type": "code",
      "metadata": {
        "id": "qMPbwIfIEFNJ"
      },
      "source": [
        ""
      ],
      "execution_count": null,
      "outputs": []
    },
    {
      "cell_type": "code",
      "metadata": {
        "id": "_kwNuel48icV",
        "outputId": "4bd969b8-03f9-4d1b-bc1d-b3754026b5fe",
        "colab": {
          "base_uri": "https://localhost:8080/",
          "height": 34
        }
      },
      "source": [
        "\n",
        "from sklearn.ensemble import GradientBoostingClassifier\n",
        "#model = GradientBoostingClassifier()\n",
        "model = GradientBoostingClassifier(max_depth=2,subsample=0.5,n_estimators=80,learning_rate=0.19,random_state=5)\n",
        "model.fit(X_train,Y_train)\n",
        "fpr,tpr,thresholds = metrics.roc_curve(Y_test,model.predict(X_test),pos_label=1)\n",
        "metrics.auc(fpr, tpr)"
      ],
      "execution_count": null,
      "outputs": [
        {
          "output_type": "execute_result",
          "data": {
            "text/plain": [
              "0.5117647058823529"
            ]
          },
          "metadata": {
            "tags": []
          },
          "execution_count": 374
        }
      ]
    },
    {
      "cell_type": "markdown",
      "metadata": {
        "id": "vnbDMNNDoDq9"
      },
      "source": [
        "## **Model5(AdaBoosting)**"
      ]
    },
    {
      "cell_type": "code",
      "metadata": {
        "id": "TtjG6BYzCj3G",
        "outputId": "b301a02f-7724-4b5f-b784-521ab4272c90",
        "colab": {
          "base_uri": "https://localhost:8080/",
          "height": 118
        }
      },
      "source": [
        "DecisionTreeClassifier()"
      ],
      "execution_count": null,
      "outputs": [
        {
          "output_type": "execute_result",
          "data": {
            "text/plain": [
              "DecisionTreeClassifier(ccp_alpha=0.0, class_weight=None, criterion='gini',\n",
              "                       max_depth=None, max_features=None, max_leaf_nodes=None,\n",
              "                       min_impurity_decrease=0.0, min_impurity_split=None,\n",
              "                       min_samples_leaf=1, min_samples_split=2,\n",
              "                       min_weight_fraction_leaf=0.0, presort='deprecated',\n",
              "                       random_state=None, splitter='best')"
            ]
          },
          "metadata": {
            "tags": []
          },
          "execution_count": 337
        }
      ]
    },
    {
      "cell_type": "code",
      "metadata": {
        "id": "Mx7T5LZ2oLE5",
        "outputId": "66f6598f-cb75-4bde-d736-9fff00ff30b5",
        "colab": {
          "base_uri": "https://localhost:8080/",
          "height": 34
        }
      },
      "source": [
        "from sklearn.ensemble import AdaBoostClassifier\n",
        "from sklearn.tree import DecisionTreeClassifier\n",
        "#bmodel = DecisionTreeClassifier()\n",
        "bmodel = DecisionTreeClassifier(criterion=\"entropy\",max_depth=4)\n",
        "#AdaBoost = AdaBoostClassifier(base_estimator=bmodel)\n",
        "AdaBoost = AdaBoostClassifier(base_estimator=bmodel,n_estimators=20,learning_rate=0.09)\n",
        "fpr,tpr,thresholds = metrics.roc_curve(Y_test,model.predict(X_test),pos_label=1)\n",
        "metrics.auc(fpr, tpr)"
      ],
      "execution_count": null,
      "outputs": [
        {
          "output_type": "execute_result",
          "data": {
            "text/plain": [
              "0.526470588235294"
            ]
          },
          "metadata": {
            "tags": []
          },
          "execution_count": 386
        }
      ]
    },
    {
      "cell_type": "markdown",
      "metadata": {
        "id": "1-3eWjUOkRat"
      },
      "source": [
        "## **Model6(SVM)**"
      ]
    },
    {
      "cell_type": "code",
      "metadata": {
        "id": "hkztd3wgqSkZ",
        "outputId": "fca599d6-9f22-4ac0-c24b-ead6e38021d6",
        "colab": {
          "base_uri": "https://localhost:8080/",
          "height": 34
        }
      },
      "source": [
        "from sklearn import svm\n",
        "model=svm.SVC()\n",
        "#model=svm.SVC(kernel='sigmoid',random_state=1)\n",
        "model.fit(X_train,Y_train)\n",
        "fpr,tpr,thresholds = metrics.roc_curve(Y_test,model.predict(X_test),pos_label=1)\n",
        "metrics.auc(fpr, tpr)"
      ],
      "execution_count": null,
      "outputs": [
        {
          "output_type": "execute_result",
          "data": {
            "text/plain": [
              "0.5"
            ]
          },
          "metadata": {
            "tags": []
          },
          "execution_count": 388
        }
      ]
    },
    {
      "cell_type": "markdown",
      "metadata": {
        "id": "9UlFs5e4u0Im"
      },
      "source": [
        "## **Model7(KNN)**"
      ]
    },
    {
      "cell_type": "code",
      "metadata": {
        "id": "o_eWsWXSu6QZ",
        "outputId": "6bf4c139-1af1-45a4-8ecf-c71757ce3328",
        "colab": {
          "base_uri": "https://localhost:8080/",
          "height": 34
        }
      },
      "source": [
        "from sklearn.neighbors import KNeighborsClassifier\n",
        "#model = KNeighborsClassifier()\n",
        "model = KNeighborsClassifier(n_neighbors=8,algorithm='kd_tree',leaf_size=40,p=2)\n",
        "model.fit(X_train,Y_train)\n",
        "fpr,tpr,thresholds = metrics.roc_curve(Y_test,model.predict(X_test),pos_label=1)\n",
        "metrics.auc(fpr, tpr)"
      ],
      "execution_count": null,
      "outputs": [
        {
          "output_type": "execute_result",
          "data": {
            "text/plain": [
              "0.5"
            ]
          },
          "metadata": {
            "tags": []
          },
          "execution_count": 390
        }
      ]
    },
    {
      "cell_type": "markdown",
      "metadata": {
        "id": "lwOuxtLY1Jv1"
      },
      "source": [
        "## **Model8(DecisionTree)**"
      ]
    },
    {
      "cell_type": "code",
      "metadata": {
        "id": "OYmyZRTo1PBZ",
        "outputId": "fa92e410-802c-4c15-955b-b9353637f497",
        "colab": {
          "base_uri": "https://localhost:8080/",
          "height": 34
        }
      },
      "source": [
        "from sklearn.tree import DecisionTreeClassifier\n",
        "model = DecisionTreeClassifier()\n",
        "model.fit(X_train,Y_train)\n",
        "fpr,tpr,thresholds = metrics.roc_curve(Y_test,model.predict(X_test),pos_label=1)\n",
        "metrics.auc(fpr, tpr)"
      ],
      "execution_count": null,
      "outputs": [
        {
          "output_type": "execute_result",
          "data": {
            "text/plain": [
              "0.4264705882352941"
            ]
          },
          "metadata": {
            "tags": []
          },
          "execution_count": 391
        }
      ]
    },
    {
      "cell_type": "markdown",
      "metadata": {
        "id": "Ul794yH1CoXE"
      },
      "source": [
        "## **Model9(Ridge and lasso regression)**\n"
      ]
    },
    {
      "cell_type": "code",
      "metadata": {
        "id": "zz5flUCsF2VV",
        "outputId": "9b3d2195-aede-41f1-f9e9-898583fdf39e",
        "colab": {
          "base_uri": "https://localhost:8080/",
          "height": 67
        }
      },
      "source": [
        "RidgeClassifier()"
      ],
      "execution_count": null,
      "outputs": [
        {
          "output_type": "execute_result",
          "data": {
            "text/plain": [
              "RidgeClassifier(alpha=1.0, class_weight=None, copy_X=True, fit_intercept=True,\n",
              "                max_iter=None, normalize=False, random_state=None,\n",
              "                solver='auto', tol=0.001)"
            ]
          },
          "metadata": {
            "tags": []
          },
          "execution_count": 415
        }
      ]
    },
    {
      "cell_type": "code",
      "metadata": {
        "id": "UblwQwKGExwj",
        "outputId": "1ff0872d-4ebb-4f4f-a005-bcefe3f8e4e1",
        "colab": {
          "base_uri": "https://localhost:8080/",
          "height": 34
        }
      },
      "source": [
        "from sklearn.linear_model import RidgeClassifier\n",
        "model=RidgeClassifier(alpha=0.01)\n",
        "model.fit(X_train,Y_train)\n",
        "fpr,tpr,thresholds = metrics.roc_curve(Y_test,model.predict(X_test),pos_label=1)\n",
        "metrics.auc(fpr, tpr)"
      ],
      "execution_count": null,
      "outputs": [
        {
          "output_type": "execute_result",
          "data": {
            "text/plain": [
              "0.4852941176470588"
            ]
          },
          "metadata": {
            "tags": []
          },
          "execution_count": 429
        }
      ]
    },
    {
      "cell_type": "code",
      "metadata": {
        "id": "oqDFV4ZHGk62",
        "outputId": "c5a1f003-9b41-43e5-944b-d2c0a4898664",
        "colab": {
          "base_uri": "https://localhost:8080/",
          "height": 67
        }
      },
      "source": [
        "Lasso()"
      ],
      "execution_count": null,
      "outputs": [
        {
          "output_type": "execute_result",
          "data": {
            "text/plain": [
              "Lasso(alpha=1.0, copy_X=True, fit_intercept=True, max_iter=1000,\n",
              "      normalize=False, positive=False, precompute=False, random_state=None,\n",
              "      selection='cyclic', tol=0.0001, warm_start=False)"
            ]
          },
          "metadata": {
            "tags": []
          },
          "execution_count": 421
        }
      ]
    },
    {
      "cell_type": "code",
      "metadata": {
        "id": "nBSolBdcGQoH",
        "outputId": "05997853-a1cb-428f-b9ed-4a9637e2b718",
        "colab": {
          "base_uri": "https://localhost:8080/",
          "height": 34
        }
      },
      "source": [
        "from sklearn.linear_model import Lasso\n",
        "model=Lasso(alpha=0.05)\n",
        "model.fit(X_train,Y_train)\n",
        "fpr,tpr,thresholds = metrics.roc_curve(Y_test,model.predict(X_test),pos_label=1)\n",
        "metrics.auc(fpr, tpr)"
      ],
      "execution_count": null,
      "outputs": [
        {
          "output_type": "execute_result",
          "data": {
            "text/plain": [
              "0.6882352941176471"
            ]
          },
          "metadata": {
            "tags": []
          },
          "execution_count": 432
        }
      ]
    },
    {
      "cell_type": "markdown",
      "metadata": {
        "id": "nbeeRdMj3swR"
      },
      "source": [
        "# **Score**"
      ]
    },
    {
      "cell_type": "code",
      "metadata": {
        "id": "Qt_Ionuz3vds",
        "outputId": "0fd36045-93ce-423f-e022-c948a87ecbd6",
        "colab": {
          "base_uri": "https://localhost:8080/",
          "height": 34
        }
      },
      "source": [
        "fpr,tpr,thresholds = metrics.roc_curve(Y_test,model.predict(X_test),pos_label=1)\n",
        "metrics.auc(fpr, tpr)\n",
        "#print(classification_report(Y_test,model.predict(X_test)))\n",
        "#pd.crosstab(Y_test,model.predict(X_test))\n",
        "\n",
        "#print(classification_report(Y_train,model.predict(X_train)))\n",
        "#pd.crosstab(Y_train,model.predict(X_train))"
      ],
      "execution_count": null,
      "outputs": [
        {
          "output_type": "execute_result",
          "data": {
            "text/plain": [
              "0.5705882352941176"
            ]
          },
          "metadata": {
            "tags": []
          },
          "execution_count": 349
        }
      ]
    },
    {
      "cell_type": "markdown",
      "metadata": {
        "id": "rEdqi38zfInO"
      },
      "source": [
        "# **Submit file creator**"
      ]
    },
    {
      "cell_type": "code",
      "metadata": {
        "id": "NO_TZ-eIkEZk",
        "outputId": "6a4a3c24-6c76-4151-b3ae-c0089497b09a",
        "colab": {
          "base_uri": "https://localhost:8080/",
          "height": 134
        }
      },
      "source": [
        "model.fit(train.drop(['player ID','Not selected'],axis=1),train['Not selected'])"
      ],
      "execution_count": null,
      "outputs": [
        {
          "output_type": "execute_result",
          "data": {
            "text/plain": [
              "XGBClassifier(base_score=0.5, booster='gbtree', colsample_bylevel=1,\n",
              "              colsample_bynode=1, colsample_bytree=1, gamma=0,\n",
              "              learning_rate=0.1, max_delta_step=0, max_depth=3,\n",
              "              min_child_weight=1, missing=None, n_estimators=100, n_jobs=1,\n",
              "              nthread=None, objective='binary:logistic', random_state=0,\n",
              "              reg_alpha=0, reg_lambda=1, scale_pos_weight=1, seed=None,\n",
              "              silent=None, subsample=1, verbosity=1)"
            ]
          },
          "metadata": {
            "tags": []
          },
          "execution_count": 352
        }
      ]
    },
    {
      "cell_type": "code",
      "metadata": {
        "id": "_bGrx0sjfGtr"
      },
      "source": [
        "y_pred=pd.Series(model.predict(test.drop(['player ID'],axis=1)),name='not selected')\n",
        "result=pd.merge(test['player ID'],y_pred,right_index = True,left_index = True)\n",
        "result.to_csv('Terminators.csv',index=False,header=['Player id','not selected'])"
      ],
      "execution_count": null,
      "outputs": []
    },
    {
      "cell_type": "code",
      "metadata": {
        "id": "hSu9QZRomAoO",
        "outputId": "2051cced-6851-4a9c-c4b4-67cf1bf42c9d",
        "colab": {
          "base_uri": "https://localhost:8080/",
          "height": 195
        }
      },
      "source": [
        "result.head()"
      ],
      "execution_count": null,
      "outputs": [
        {
          "output_type": "execute_result",
          "data": {
            "text/html": [
              "<div>\n",
              "<style scoped>\n",
              "    .dataframe tbody tr th:only-of-type {\n",
              "        vertical-align: middle;\n",
              "    }\n",
              "\n",
              "    .dataframe tbody tr th {\n",
              "        vertical-align: top;\n",
              "    }\n",
              "\n",
              "    .dataframe thead th {\n",
              "        text-align: right;\n",
              "    }\n",
              "</style>\n",
              "<table border=\"1\" class=\"dataframe\">\n",
              "  <thead>\n",
              "    <tr style=\"text-align: right;\">\n",
              "      <th></th>\n",
              "      <th>player ID</th>\n",
              "      <th>not selected</th>\n",
              "    </tr>\n",
              "  </thead>\n",
              "  <tbody>\n",
              "    <tr>\n",
              "      <th>0</th>\n",
              "      <td>943412</td>\n",
              "      <td>0</td>\n",
              "    </tr>\n",
              "    <tr>\n",
              "      <th>1</th>\n",
              "      <td>891010</td>\n",
              "      <td>0</td>\n",
              "    </tr>\n",
              "    <tr>\n",
              "      <th>2</th>\n",
              "      <td>232982</td>\n",
              "      <td>0</td>\n",
              "    </tr>\n",
              "    <tr>\n",
              "      <th>3</th>\n",
              "      <td>762647</td>\n",
              "      <td>0</td>\n",
              "    </tr>\n",
              "    <tr>\n",
              "      <th>4</th>\n",
              "      <td>882052</td>\n",
              "      <td>0</td>\n",
              "    </tr>\n",
              "  </tbody>\n",
              "</table>\n",
              "</div>"
            ],
            "text/plain": [
              "   player ID  not selected\n",
              "0     943412             0\n",
              "1     891010             0\n",
              "2     232982             0\n",
              "3     762647             0\n",
              "4     882052             0"
            ]
          },
          "metadata": {
            "tags": []
          },
          "execution_count": 354
        }
      ]
    },
    {
      "cell_type": "code",
      "metadata": {
        "id": "OknXo8nvq44O",
        "outputId": "5c9fc5e0-1bb5-4fc2-db5c-bf62fa7bb9cc",
        "colab": {
          "base_uri": "https://localhost:8080/",
          "height": 195
        }
      },
      "source": [
        "sub.head()"
      ],
      "execution_count": null,
      "outputs": [
        {
          "output_type": "execute_result",
          "data": {
            "text/html": [
              "<div>\n",
              "<style scoped>\n",
              "    .dataframe tbody tr th:only-of-type {\n",
              "        vertical-align: middle;\n",
              "    }\n",
              "\n",
              "    .dataframe tbody tr th {\n",
              "        vertical-align: top;\n",
              "    }\n",
              "\n",
              "    .dataframe thead th {\n",
              "        text-align: right;\n",
              "    }\n",
              "</style>\n",
              "<table border=\"1\" class=\"dataframe\">\n",
              "  <thead>\n",
              "    <tr style=\"text-align: right;\">\n",
              "      <th></th>\n",
              "      <th>Player id</th>\n",
              "      <th>not selected</th>\n",
              "    </tr>\n",
              "  </thead>\n",
              "  <tbody>\n",
              "    <tr>\n",
              "      <th>0</th>\n",
              "      <td>123958</td>\n",
              "      <td>0</td>\n",
              "    </tr>\n",
              "    <tr>\n",
              "      <th>1</th>\n",
              "      <td>562456</td>\n",
              "      <td>0</td>\n",
              "    </tr>\n",
              "    <tr>\n",
              "      <th>2</th>\n",
              "      <td>354686</td>\n",
              "      <td>1</td>\n",
              "    </tr>\n",
              "    <tr>\n",
              "      <th>3</th>\n",
              "      <td>639521</td>\n",
              "      <td>0</td>\n",
              "    </tr>\n",
              "    <tr>\n",
              "      <th>4</th>\n",
              "      <td>741543</td>\n",
              "      <td>1</td>\n",
              "    </tr>\n",
              "  </tbody>\n",
              "</table>\n",
              "</div>"
            ],
            "text/plain": [
              "   Player id  not selected\n",
              "0     123958             0\n",
              "1     562456             0\n",
              "2     354686             1\n",
              "3     639521             0\n",
              "4     741543             1"
            ]
          },
          "metadata": {
            "tags": []
          },
          "execution_count": 355
        }
      ]
    },
    {
      "cell_type": "code",
      "metadata": {
        "id": "S7iYWp3S321l"
      },
      "source": [
        ""
      ],
      "execution_count": null,
      "outputs": []
    }
  ]
}